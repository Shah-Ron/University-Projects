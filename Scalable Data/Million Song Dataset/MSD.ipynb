{
 "cells": [
  {
   "cell_type": "markdown",
   "id": "934e32a0-b025-43fc-8b32-45fe4cf4ac57",
   "metadata": {},
   "source": [
    "## Assignment 2"
   ]
  },
  {
   "cell_type": "code",
   "execution_count": 1,
   "id": "0a2c7401-4478-4d5f-8fea-7b11cb889e4b",
   "metadata": {},
   "outputs": [
    {
     "data": {
      "text/html": [
       "<style>pre { white-space: pre !important; }table.dataframe td { white-space: nowrap !important; }table.dataframe thead th:first-child, table.dataframe tbody th { display: none; }</style>"
      ],
      "text/plain": [
       "<IPython.core.display.HTML object>"
      ]
     },
     "metadata": {},
     "output_type": "display_data"
    }
   ],
   "source": [
    "# Run this cell to import pyspark and to define start_spark() and stop_spark()\n",
    "\n",
    "import findspark\n",
    "\n",
    "findspark.init()\n",
    "\n",
    "import getpass\n",
    "import pandas\n",
    "import pyspark\n",
    "import random\n",
    "import re\n",
    "\n",
    "from IPython.display import display, HTML\n",
    "from pyspark import SparkContext\n",
    "from pyspark.sql import SparkSession\n",
    "\n",
    "\n",
    "# Constants used to interact with Azure Blob Storage using the hdfs command or Spark\n",
    "\n",
    "global username\n",
    "\n",
    "username = re.sub('@.*', '', getpass.getuser())\n",
    "\n",
    "global azure_account_name\n",
    "global azure_data_container_name\n",
    "global azure_user_container_name\n",
    "global azure_user_token\n",
    "\n",
    "azure_account_name = \"madsstorage002\"\n",
    "azure_data_container_name = \"campus-data\"\n",
    "azure_user_container_name = \"campus-user\"\n",
    "azure_user_token = r\"sp=racwdl&st=2024-09-19T08:03:31Z&se=2025-09-19T16:03:31Z&spr=https&sv=2022-11-02&sr=c&sig=kMP%2BsBsRzdVVR8rrg%2BNbDhkRBNs6Q98kYY695XMRFDU%3D\"\n",
    "\n",
    "\n",
    "# Functions used below\n",
    "\n",
    "def dict_to_html(d):\n",
    "    \"\"\"Convert a Python dictionary into a two column table for display.\n",
    "    \"\"\"\n",
    "\n",
    "    html = []\n",
    "\n",
    "    html.append(f'<table width=\"100%\" style=\"width:100%; font-family: monospace;\">')\n",
    "    for k, v in d.items():\n",
    "        html.append(f'<tr><td style=\"text-align:left;\">{k}</td><td>{v}</td></tr>')\n",
    "    html.append(f'</table>')\n",
    "\n",
    "    return ''.join(html)\n",
    "\n",
    "\n",
    "def show_as_html(df, n=20):\n",
    "    \"\"\"Leverage existing pandas jupyter integration to show a spark dataframe as html.\n",
    "    \n",
    "    Args:\n",
    "        n (int): number of rows to show (default: 20)\n",
    "    \"\"\"\n",
    "\n",
    "    display(df.limit(n).toPandas())\n",
    "\n",
    "    \n",
    "def display_spark():\n",
    "    \"\"\"Display the status of the active Spark session if one is currently running.\n",
    "    \"\"\"\n",
    "    \n",
    "    if 'spark' in globals() and 'sc' in globals():\n",
    "\n",
    "        name = sc.getConf().get(\"spark.app.name\")\n",
    "\n",
    "        html = [\n",
    "            f'<p><b>Spark</b></p>',\n",
    "            f'<p>The spark session is <b><span style=\"color:green\">active</span></b>, look for <code>{name}</code> under the running applications section in the Spark UI.</p>',\n",
    "            f'<ul>',\n",
    "            f'<li><a href=\"http://localhost:{sc.uiWebUrl.split(\":\")[-1]}\" target=\"_blank\">Spark Application UI</a></li>',\n",
    "            f'</ul>',\n",
    "            f'<p><b>Config</b></p>',\n",
    "            dict_to_html(dict(sc.getConf().getAll())),\n",
    "            f'<p><b>Notes</b></p>',\n",
    "            f'<ul>',\n",
    "            f'<li>The spark session <code>spark</code> and spark context <code>sc</code> global variables have been defined by <code>start_spark()</code>.</li>',\n",
    "            f'<li>Please run <code>stop_spark()</code> before closing the notebook or restarting the kernel or kill <code>{name}</code> by hand using the link in the Spark UI.</li>',\n",
    "            f'</ul>',\n",
    "        ]\n",
    "        display(HTML(''.join(html)))\n",
    "        \n",
    "    else:\n",
    "        \n",
    "        html = [\n",
    "            f'<p><b>Spark</b></p>',\n",
    "            f'<p>The spark session is <b><span style=\"color:red\">stopped</span></b>, confirm that <code>{username} (notebook)</code> is under the completed applications section in the Spark UI.</p>',\n",
    "            f'<ul>',\n",
    "            f'<li><a href=\"http://mathmadslinux2p.canterbury.ac.nz:8080/\" target=\"_blank\">Spark UI</a></li>',\n",
    "            f'</ul>',\n",
    "        ]\n",
    "        display(HTML(''.join(html)))\n",
    "\n",
    "\n",
    "# Functions to start and stop spark\n",
    "\n",
    "def start_spark(executor_instances=2, executor_cores=1, worker_memory=1, master_memory=1):\n",
    "    \"\"\"Start a new Spark session and define globals for SparkSession (spark) and SparkContext (sc).\n",
    "    \n",
    "    Args:\n",
    "        executor_instances (int): number of executors (default: 2)\n",
    "        executor_cores (int): number of cores per executor (default: 1)\n",
    "        worker_memory (float): worker memory (default: 1)\n",
    "        master_memory (float): master memory (default: 1)\n",
    "    \"\"\"\n",
    "\n",
    "    global spark\n",
    "    global sc\n",
    "\n",
    "    cores = executor_instances * executor_cores\n",
    "    partitions = cores * 4\n",
    "    port = 4000 + random.randint(1, 999)\n",
    "\n",
    "    spark = (\n",
    "        SparkSession.builder\n",
    "        .config(\"spark.driver.extraJavaOptions\", f\"-Dderby.system.home=/tmp/{username}/spark/\")\n",
    "        .config(\"spark.dynamicAllocation.enabled\", \"false\")\n",
    "        .config(\"spark.executor.instances\", str(executor_instances))\n",
    "        .config(\"spark.executor.cores\", str(executor_cores))\n",
    "        .config(\"spark.cores.max\", str(cores))\n",
    "        .config(\"spark.driver.memory\", f'{master_memory}g')\n",
    "        .config(\"spark.executor.memory\", f'{worker_memory}g')\n",
    "        .config(\"spark.driver.maxResultSize\", \"0\")\n",
    "        .config(\"spark.sql.shuffle.partitions\", str(partitions))\n",
    "        .config(\"spark.kubernetes.container.image\", \"madsregistry001.azurecr.io/hadoop-spark:v3.3.5-openjdk-8\")\n",
    "        .config(\"spark.kubernetes.container.image.pullPolicy\", \"IfNotPresent\")\n",
    "        .config(\"spark.kubernetes.memoryOverheadFactor\", \"0.3\")\n",
    "        .config(\"spark.memory.fraction\", \"0.1\")\n",
    "        .config(f\"fs.azure.sas.{azure_user_container_name}.{azure_account_name}.blob.core.windows.net\",  azure_user_token)\n",
    "        .config(\"spark.app.name\", f\"{username} (notebook)\")\n",
    "        .getOrCreate()\n",
    "    )\n",
    "    sc = SparkContext.getOrCreate()\n",
    "    \n",
    "    display_spark()\n",
    "\n",
    "    \n",
    "def stop_spark():\n",
    "    \"\"\"Stop the active Spark session and delete globals for SparkSession (spark) and SparkContext (sc).\n",
    "    \"\"\"\n",
    "\n",
    "    global spark\n",
    "    global sc\n",
    "\n",
    "    if 'spark' in globals() and 'sc' in globals():\n",
    "\n",
    "        spark.stop()\n",
    "\n",
    "        del spark\n",
    "        del sc\n",
    "\n",
    "    display_spark()\n",
    "\n",
    "\n",
    "# Make css changes to improve spark output readability\n",
    "\n",
    "html = [\n",
    "    '<style>',\n",
    "    'pre { white-space: pre !important; }',\n",
    "    'table.dataframe td { white-space: nowrap !important; }',\n",
    "    'table.dataframe thead th:first-child, table.dataframe tbody th { display: none; }',\n",
    "    '</style>',\n",
    "]\n",
    "display(HTML(''.join(html)))"
   ]
  },
  {
   "cell_type": "markdown",
   "id": "0f9b3ee4-b5e3-484e-9c91-6549a17e2edf",
   "metadata": {},
   "source": [
    "### Example notebook ###\n",
    "\n",
    "The code below provides a template for how you would use a notebook to start spark, run some code, and then stop spark.\n",
    "\n",
    "**Steps**\n",
    "\n",
    "- Run `start_spark()` to start a spark session in the notebook (only change the default resources when advised to do so for an exercise or assignment)\n",
    "- Write and run code interactively, creating additional cells as needed.\n",
    "- Run `stop_spark()` before closing the notebook or kill your spark application by hand using the link in the [Spark UI](http://mathmadslinux2p.canterbury.ac.nz:8080/)."
   ]
  },
  {
   "cell_type": "code",
   "execution_count": 2,
   "id": "0c770d80-10a1-4c89-b928-cfa1011505de",
   "metadata": {
    "scrolled": true
   },
   "outputs": [
    {
     "name": "stderr",
     "output_type": "stream",
     "text": [
      "Warning: Ignoring non-Spark config property: fs.azure.sas.campus-user.madsstorage002.blob.core.windows.net\n",
      "Warning: Ignoring non-Spark config property: SPARK_DRIVER_BIND_ADDRESS\n",
      "25/06/13 09:31:37 WARN NativeCodeLoader: Unable to load native-hadoop library for your platform... using builtin-java classes where applicable\n",
      "Setting default log level to \"WARN\".\n",
      "To adjust logging level use sc.setLogLevel(newLevel). For SparkR, use setLogLevel(newLevel).\n"
     ]
    },
    {
     "data": {
      "text/html": [
       "<p><b>Spark</b></p><p>The spark session is <b><span style=\"color:green\">active</span></b>, look for <code>jds136 (notebook)</code> under the running applications section in the Spark UI.</p><ul><li><a href=\"http://localhost:4041\" target=\"_blank\">Spark Application UI</a></li></ul><p><b>Config</b></p><table width=\"100%\" style=\"width:100%; font-family: monospace;\"><tr><td style=\"text-align:left;\">spark.dynamicAllocation.enabled</td><td>false</td></tr><tr><td style=\"text-align:left;\">spark.fs.azure.sas.uco-user.madsstorage002.blob.core.windows.net</td><td>\"sp=racwdl&st=2024-09-19T08:00:18Z&se=2025-09-19T16:00:18Z&spr=https&sv=2022-11-02&sr=c&sig=qtg6fCdoFz6k3EJLw7dA8D3D8wN0neAYw8yG4z4Lw2o%3D\"</td></tr><tr><td style=\"text-align:left;\">spark.kubernetes.driver.pod.name</td><td>spark-master-driver</td></tr><tr><td style=\"text-align:left;\">spark.executor.instances</td><td>4</td></tr><tr><td style=\"text-align:left;\">spark.app.name</td><td>jds136 (notebook)</td></tr><tr><td style=\"text-align:left;\">spark.driver.memory</td><td>4g</td></tr><tr><td style=\"text-align:left;\">spark.driver.extraJavaOptions</td><td>-Djava.net.preferIPv6Addresses=false -XX:+IgnoreUnrecognizedVMOptions --add-opens=java.base/java.lang=ALL-UNNAMED --add-opens=java.base/java.lang.invoke=ALL-UNNAMED --add-opens=java.base/java.lang.reflect=ALL-UNNAMED --add-opens=java.base/java.io=ALL-UNNAMED --add-opens=java.base/java.net=ALL-UNNAMED --add-opens=java.base/java.nio=ALL-UNNAMED --add-opens=java.base/java.util=ALL-UNNAMED --add-opens=java.base/java.util.concurrent=ALL-UNNAMED --add-opens=java.base/java.util.concurrent.atomic=ALL-UNNAMED --add-opens=java.base/jdk.internal.ref=ALL-UNNAMED --add-opens=java.base/sun.nio.ch=ALL-UNNAMED --add-opens=java.base/sun.nio.cs=ALL-UNNAMED --add-opens=java.base/sun.security.action=ALL-UNNAMED --add-opens=java.base/sun.util.calendar=ALL-UNNAMED --add-opens=java.security.jgss/sun.security.krb5=ALL-UNNAMED -Djdk.reflect.useDirectMethodHandle=false -Dderby.system.home=/tmp/jds136/spark/</td></tr><tr><td style=\"text-align:left;\">spark.fs.azure.sas.campus-user.madsstorage002.blob.core.windows.net</td><td>\"sp=racwdl&st=2024-09-19T08:03:31Z&se=2025-09-19T16:03:31Z&spr=https&sv=2022-11-02&sr=c&sig=kMP%2BsBsRzdVVR8rrg%2BNbDhkRBNs6Q98kYY695XMRFDU%3D\"</td></tr><tr><td style=\"text-align:left;\">spark.kubernetes.container.image.pullPolicy</td><td>IfNotPresent</td></tr><tr><td style=\"text-align:left;\">spark.sql.shuffle.partitions</td><td>32</td></tr><tr><td style=\"text-align:left;\">spark.app.startTime</td><td>1749763897799</td></tr><tr><td style=\"text-align:left;\">fs.azure.sas.campus-user.madsstorage002.blob.core.windows.net</td><td>sp=racwdl&st=2024-09-19T08:03:31Z&se=2025-09-19T16:03:31Z&spr=https&sv=2022-11-02&sr=c&sig=kMP%2BsBsRzdVVR8rrg%2BNbDhkRBNs6Q98kYY695XMRFDU%3D</td></tr><tr><td style=\"text-align:left;\">spark.serializer.objectStreamReset</td><td>100</td></tr><tr><td style=\"text-align:left;\">spark.driver.maxResultSize</td><td>0</td></tr><tr><td style=\"text-align:left;\">spark.kubernetes.namespace</td><td>jds136</td></tr><tr><td style=\"text-align:left;\">spark.submit.deployMode</td><td>client</td></tr><tr><td style=\"text-align:left;\">spark.master</td><td>k8s://https://kubernetes.default.svc.cluster.local:443</td></tr><tr><td style=\"text-align:left;\">spark.fs.azure</td><td>org.apache.hadoop.fs.azure.NativeAzureFileSystem</td></tr><tr><td style=\"text-align:left;\">spark.kubernetes.executor.podNamePrefix</td><td>jds136-notebook-a7253997660e3d0b</td></tr><tr><td style=\"text-align:left;\">spark.memory.fraction</td><td>0.1</td></tr><tr><td style=\"text-align:left;\">spark.executor.memory</td><td>4g</td></tr><tr><td style=\"text-align:left;\">spark.executor.id</td><td>driver</td></tr><tr><td style=\"text-align:left;\">spark.executor.cores</td><td>2</td></tr><tr><td style=\"text-align:left;\">spark.kubernetes.memoryOverheadFactor</td><td>0.3</td></tr><tr><td style=\"text-align:left;\">spark.driver.host</td><td>spark-master-svc</td></tr><tr><td style=\"text-align:left;\">spark.ui.port</td><td>${env:SPARK_UI_PORT}</td></tr><tr><td style=\"text-align:left;\">spark.app.id</td><td>spark-eeb9a79d20e34d8887dcb825a62285f5</td></tr><tr><td style=\"text-align:left;\">spark.kubernetes.container.image</td><td>madsregistry001.azurecr.io/hadoop-spark:v3.3.5-openjdk-8</td></tr><tr><td style=\"text-align:left;\">spark.kubernetes.executor.container.image</td><td>madsregistry001.azurecr.io/hadoop-spark:v3.3.5-openjdk-8-1.0.13</td></tr><tr><td style=\"text-align:left;\">spark.kubernetes.executor.podTemplateFile</td><td>/opt/spark/conf/executor-pod-template.yaml</td></tr><tr><td style=\"text-align:left;\">spark.rdd.compress</td><td>True</td></tr><tr><td style=\"text-align:left;\">spark.executor.extraJavaOptions</td><td>-Djava.net.preferIPv6Addresses=false -XX:+IgnoreUnrecognizedVMOptions --add-opens=java.base/java.lang=ALL-UNNAMED --add-opens=java.base/java.lang.invoke=ALL-UNNAMED --add-opens=java.base/java.lang.reflect=ALL-UNNAMED --add-opens=java.base/java.io=ALL-UNNAMED --add-opens=java.base/java.net=ALL-UNNAMED --add-opens=java.base/java.nio=ALL-UNNAMED --add-opens=java.base/java.util=ALL-UNNAMED --add-opens=java.base/java.util.concurrent=ALL-UNNAMED --add-opens=java.base/java.util.concurrent.atomic=ALL-UNNAMED --add-opens=java.base/jdk.internal.ref=ALL-UNNAMED --add-opens=java.base/sun.nio.ch=ALL-UNNAMED --add-opens=java.base/sun.nio.cs=ALL-UNNAMED --add-opens=java.base/sun.security.action=ALL-UNNAMED --add-opens=java.base/sun.util.calendar=ALL-UNNAMED --add-opens=java.security.jgss/sun.security.krb5=ALL-UNNAMED -Djdk.reflect.useDirectMethodHandle=false</td></tr><tr><td style=\"text-align:left;\">spark.cores.max</td><td>8</td></tr><tr><td style=\"text-align:left;\">spark.driver.port</td><td>7077</td></tr><tr><td style=\"text-align:left;\">spark.submit.pyFiles</td><td></td></tr><tr><td style=\"text-align:left;\">spark.app.submitTime</td><td>1749763897661</td></tr><tr><td style=\"text-align:left;\">spark.ui.showConsoleProgress</td><td>true</td></tr></table><p><b>Notes</b></p><ul><li>The spark session <code>spark</code> and spark context <code>sc</code> global variables have been defined by <code>start_spark()</code>.</li><li>Please run <code>stop_spark()</code> before closing the notebook or restarting the kernel or kill <code>jds136 (notebook)</code> by hand using the link in the Spark UI.</li></ul>"
      ],
      "text/plain": [
       "<IPython.core.display.HTML object>"
      ]
     },
     "metadata": {},
     "output_type": "display_data"
    }
   ],
   "source": [
    "# Run this cell to start a spark session in this notebook\n",
    "\n",
    "start_spark(executor_instances=4, executor_cores=2, worker_memory=4, master_memory=4)"
   ]
  },
  {
   "cell_type": "code",
   "execution_count": 3,
   "id": "13dde00a-729c-4870-883a-da77b291e039",
   "metadata": {},
   "outputs": [],
   "source": [
    "# Write your imports here or insert cells below\n",
    "\n",
    "from pyspark.sql import Window\n",
    "from pyspark.sql import functions as F\n",
    "from pyspark.sql.functions import col, explode\n",
    "from pyspark.sql.types import *\n",
    "import csv\n",
    "import seaborn as sns\n",
    "import matplotlib.pyplot as plt\n",
    "from scipy.stats import ks_2samp\n",
    "import pandas as pd\n",
    "import numpy as np\n",
    "from sklearn.model_selection import train_test_split\n",
    "from sklearn.utils import resample\n",
    "from sklearn.linear_model import LogisticRegression\n",
    "from sklearn.tree import DecisionTreeClassifier\n",
    "from sklearn.ensemble import RandomForestClassifier\n",
    "from sklearn.metrics import classification_report, confusion_matrix, accuracy_score, precision_score, recall_score\n",
    "from sklearn.preprocessing import LabelEncoder\n",
    "from pyspark.ml.recommendation import ALS\n",
    "from pyspark.ml.evaluation import RegressionEvaluator\n",
    "from pyspark.sql import Row"
   ]
  },
  {
   "cell_type": "markdown",
   "id": "de428ae0-8159-4f1a-9060-871aa89d58c3",
   "metadata": {},
   "source": [
    "## Data processing"
   ]
  },
  {
   "cell_type": "markdown",
   "id": "9f45d500-c8ed-4d39-b59c-c59d0c1d63e9",
   "metadata": {},
   "source": [
    "### Q1 a)The directory"
   ]
  },
  {
   "cell_type": "code",
   "execution_count": 4,
   "id": "5bf50347-0de7-4d0d-a153-72f1f558918b",
   "metadata": {},
   "outputs": [
    {
     "name": "stdout",
     "output_type": "stream",
     "text": [
      "Found 4 items\n",
      "drwxrwxrwx   -          0 1970-01-01 12:00 wasbs://campus-data@madsstorage002.blob.core.windows.net/msd/audio\n",
      "drwxrwxrwx   -          0 1970-01-01 12:00 wasbs://campus-data@madsstorage002.blob.core.windows.net/msd/genre\n",
      "drwxrwxrwx   -          0 1970-01-01 12:00 wasbs://campus-data@madsstorage002.blob.core.windows.net/msd/main\n",
      "drwxrwxrwx   -          0 1970-01-01 12:00 wasbs://campus-data@madsstorage002.blob.core.windows.net/msd/tasteprofile\n"
     ]
    }
   ],
   "source": [
    "# Use the hdfs command to explore the data in Azure Blob Storage\n",
    "\n",
    "!hdfs dfs -ls wasbs://{azure_data_container_name}@{azure_account_name}.blob.core.windows.net/msd"
   ]
  },
  {
   "cell_type": "code",
   "execution_count": 5,
   "id": "008d2213-5ec7-4101-a92a-eca5412eb117",
   "metadata": {},
   "outputs": [
    {
     "name": "stdout",
     "output_type": "stream",
     "text": [
      "174.4 M  174.4 M  wasbs://campus-data@madsstorage002.blob.core.windows.net/msd/main\n",
      "490.4 M  490.4 M  wasbs://campus-data@madsstorage002.blob.core.windows.net/msd/tasteprofile\n",
      "30.1 M   30.1 M   wasbs://campus-data@madsstorage002.blob.core.windows.net/msd/genre\n",
      "12.2 G   12.2 G   wasbs://campus-data@madsstorage002.blob.core.windows.net/msd/audio\n"
     ]
    }
   ],
   "source": [
    "!hdfs dfs -du -h wasbs://{azure_data_container_name}@{azure_account_name}.blob.core.windows.net/msd"
   ]
  },
  {
   "cell_type": "code",
   "execution_count": 6,
   "id": "213b07ba-362e-455f-9610-ef5cfd195b50",
   "metadata": {},
   "outputs": [],
   "source": [
    "from subprocess import run"
   ]
  },
  {
   "cell_type": "code",
   "execution_count": 7,
   "id": "ce62e871-c0d8-4198-9e89-11f0b9fb4929",
   "metadata": {},
   "outputs": [],
   "source": [
    "def list_hdfs_directory(path):\n",
    "    result = run([\"hdfs\", \"dfs\", \"-ls\", path], capture_output=True, text=True)\n",
    "    print(f\"Directory: {path}\\n\")\n",
    "    print(result.stdout)"
   ]
  },
  {
   "cell_type": "code",
   "execution_count": 8,
   "id": "421b10e6-2f0c-43ee-a493-702c72446e72",
   "metadata": {},
   "outputs": [],
   "source": [
    "def list_hdfs_with_sizes(path):\n",
    "    result = run([\"hdfs\", \"dfs\", \"-du\", \"-h\", path], capture_output=True, text=True)\n",
    "    print(f\"Size Summary for: {path}\\n\")\n",
    "    print(result.stdout)"
   ]
  },
  {
   "cell_type": "code",
   "execution_count": 9,
   "id": "732944b3-7ec8-45c9-95ea-de2d2ce4e7be",
   "metadata": {},
   "outputs": [],
   "source": [
    "# Dataset base path\n",
    "base_path = f\"wasbs://{azure_data_container_name}@{azure_account_name}.blob.core.windows.net/msd/\""
   ]
  },
  {
   "cell_type": "code",
   "execution_count": 10,
   "id": "4ba1cce0-70c6-468f-a7d9-f107e731447a",
   "metadata": {},
   "outputs": [],
   "source": [
    "# List top-level directories and their sizes\n",
    "dirs = [\n",
    "    base_path,\n",
    "    base_path + \"main/\",\n",
    "    base_path + \"audio/attributes/\",\n",
    "    base_path + \"audio/features/\",\n",
    "    base_path + \"genre/\",\n",
    "    base_path + \"tasteprofile/\"\n",
    "]"
   ]
  },
  {
   "cell_type": "code",
   "execution_count": 11,
   "id": "9efef529-c478-421a-bcc7-ebc0b8d9d675",
   "metadata": {},
   "outputs": [
    {
     "name": "stdout",
     "output_type": "stream",
     "text": [
      "Directory: wasbs://campus-data@madsstorage002.blob.core.windows.net/msd/\n",
      "\n",
      "Found 4 items\n",
      "drwxrwxrwx   -          0 1970-01-01 12:00 wasbs://campus-data@madsstorage002.blob.core.windows.net/msd/audio\n",
      "drwxrwxrwx   -          0 1970-01-01 12:00 wasbs://campus-data@madsstorage002.blob.core.windows.net/msd/genre\n",
      "drwxrwxrwx   -          0 1970-01-01 12:00 wasbs://campus-data@madsstorage002.blob.core.windows.net/msd/main\n",
      "drwxrwxrwx   -          0 1970-01-01 12:00 wasbs://campus-data@madsstorage002.blob.core.windows.net/msd/tasteprofile\n",
      "\n",
      "Size Summary for: wasbs://campus-data@madsstorage002.blob.core.windows.net/msd/\n",
      "\n",
      "174.4 M  174.4 M  wasbs://campus-data@madsstorage002.blob.core.windows.net/msd/main\n",
      "490.4 M  490.4 M  wasbs://campus-data@madsstorage002.blob.core.windows.net/msd/tasteprofile\n",
      "30.1 M   30.1 M   wasbs://campus-data@madsstorage002.blob.core.windows.net/msd/genre\n",
      "12.2 G   12.2 G   wasbs://campus-data@madsstorage002.blob.core.windows.net/msd/audio\n",
      "\n",
      "Directory: wasbs://campus-data@madsstorage002.blob.core.windows.net/msd/main/\n",
      "\n",
      "Found 2 items\n",
      "-rwxrwxrwx   1   58658141 2025-02-18 15:22 wasbs://campus-data@madsstorage002.blob.core.windows.net/msd/main/analysis.csv.gz\n",
      "-rwxrwxrwx   1  124211304 2025-02-18 15:22 wasbs://campus-data@madsstorage002.blob.core.windows.net/msd/main/metadata.csv.gz\n",
      "\n",
      "Size Summary for: wasbs://campus-data@madsstorage002.blob.core.windows.net/msd/main/\n",
      "\n",
      "55.9 M   55.9 M   wasbs://campus-data@madsstorage002.blob.core.windows.net/msd/main/analysis.csv.gz\n",
      "118.5 M  118.5 M  wasbs://campus-data@madsstorage002.blob.core.windows.net/msd/main/metadata.csv.gz\n",
      "\n",
      "Directory: wasbs://campus-data@madsstorage002.blob.core.windows.net/msd/audio/attributes/\n",
      "\n",
      "Found 13 items\n",
      "-rwxrwxrwx   1       1051 2024-09-13 12:00 wasbs://campus-data@madsstorage002.blob.core.windows.net/msd/audio/attributes/msd-jmir-area-of-moments-all-v1.0.attributes.csv\n",
      "-rwxrwxrwx   1        671 2024-09-13 12:00 wasbs://campus-data@madsstorage002.blob.core.windows.net/msd/audio/attributes/msd-jmir-lpc-all-v1.0.attributes.csv\n",
      "-rwxrwxrwx   1        484 2024-09-13 12:00 wasbs://campus-data@madsstorage002.blob.core.windows.net/msd/audio/attributes/msd-jmir-methods-of-moments-all-v1.0.attributes.csv\n",
      "-rwxrwxrwx   1        898 2024-09-13 12:00 wasbs://campus-data@madsstorage002.blob.core.windows.net/msd/audio/attributes/msd-jmir-mfcc-all-v1.0.attributes.csv\n",
      "-rwxrwxrwx   1        777 2024-09-13 12:00 wasbs://campus-data@madsstorage002.blob.core.windows.net/msd/audio/attributes/msd-jmir-spectral-all-all-v1.0.attributes.csv\n",
      "-rwxrwxrwx   1        777 2024-09-13 12:00 wasbs://campus-data@madsstorage002.blob.core.windows.net/msd/audio/attributes/msd-jmir-spectral-derivatives-all-all-v1.0.attributes.csv\n",
      "-rwxrwxrwx   1      12317 2024-09-13 12:00 wasbs://campus-data@madsstorage002.blob.core.windows.net/msd/audio/attributes/msd-marsyas-timbral-v1.0.attributes.csv\n",
      "-rwxrwxrwx   1       9990 2024-09-13 12:00 wasbs://campus-data@madsstorage002.blob.core.windows.net/msd/audio/attributes/msd-mvd-v1.0.attributes.csv\n",
      "-rwxrwxrwx   1       1390 2024-09-13 12:00 wasbs://campus-data@madsstorage002.blob.core.windows.net/msd/audio/attributes/msd-rh-v1.0.attributes.csv\n",
      "-rwxrwxrwx   1      34913 2024-09-13 12:00 wasbs://campus-data@madsstorage002.blob.core.windows.net/msd/audio/attributes/msd-rp-v1.0.attributes.csv\n",
      "-rwxrwxrwx   1       3942 2024-09-13 12:00 wasbs://campus-data@madsstorage002.blob.core.windows.net/msd/audio/attributes/msd-ssd-v1.0.attributes.csv\n",
      "-rwxrwxrwx   1       9990 2024-09-13 12:00 wasbs://campus-data@madsstorage002.blob.core.windows.net/msd/audio/attributes/msd-trh-v1.0.attributes.csv\n",
      "-rwxrwxrwx   1      28313 2024-09-13 12:00 wasbs://campus-data@madsstorage002.blob.core.windows.net/msd/audio/attributes/msd-tssd-v1.0.attributes.csv\n",
      "\n",
      "Size Summary for: wasbs://campus-data@madsstorage002.blob.core.windows.net/msd/audio/attributes/\n",
      "\n",
      "9.8 K   9.8 K   wasbs://campus-data@madsstorage002.blob.core.windows.net/msd/audio/attributes/msd-trh-v1.0.attributes.csv\n",
      "777     777     wasbs://campus-data@madsstorage002.blob.core.windows.net/msd/audio/attributes/msd-jmir-spectral-derivatives-all-all-v1.0.attributes.csv\n",
      "777     777     wasbs://campus-data@madsstorage002.blob.core.windows.net/msd/audio/attributes/msd-jmir-spectral-all-all-v1.0.attributes.csv\n",
      "12.0 K  12.0 K  wasbs://campus-data@madsstorage002.blob.core.windows.net/msd/audio/attributes/msd-marsyas-timbral-v1.0.attributes.csv\n",
      "484     484     wasbs://campus-data@madsstorage002.blob.core.windows.net/msd/audio/attributes/msd-jmir-methods-of-moments-all-v1.0.attributes.csv\n",
      "3.8 K   3.8 K   wasbs://campus-data@madsstorage002.blob.core.windows.net/msd/audio/attributes/msd-ssd-v1.0.attributes.csv\n",
      "9.8 K   9.8 K   wasbs://campus-data@madsstorage002.blob.core.windows.net/msd/audio/attributes/msd-mvd-v1.0.attributes.csv\n",
      "1.4 K   1.4 K   wasbs://campus-data@madsstorage002.blob.core.windows.net/msd/audio/attributes/msd-rh-v1.0.attributes.csv\n",
      "671     671     wasbs://campus-data@madsstorage002.blob.core.windows.net/msd/audio/attributes/msd-jmir-lpc-all-v1.0.attributes.csv\n",
      "1.0 K   1.0 K   wasbs://campus-data@madsstorage002.blob.core.windows.net/msd/audio/attributes/msd-jmir-area-of-moments-all-v1.0.attributes.csv\n",
      "27.6 K  27.6 K  wasbs://campus-data@madsstorage002.blob.core.windows.net/msd/audio/attributes/msd-tssd-v1.0.attributes.csv\n",
      "34.1 K  34.1 K  wasbs://campus-data@madsstorage002.blob.core.windows.net/msd/audio/attributes/msd-rp-v1.0.attributes.csv\n",
      "898     898     wasbs://campus-data@madsstorage002.blob.core.windows.net/msd/audio/attributes/msd-jmir-mfcc-all-v1.0.attributes.csv\n",
      "\n",
      "Directory: wasbs://campus-data@madsstorage002.blob.core.windows.net/msd/audio/features/\n",
      "\n",
      "Found 13 items\n",
      "drwxrwxrwx   -          0 1970-01-01 12:00 wasbs://campus-data@madsstorage002.blob.core.windows.net/msd/audio/features/msd-jmir-area-of-moments-all-v1.0.csv\n",
      "drwxrwxrwx   -          0 1970-01-01 12:00 wasbs://campus-data@madsstorage002.blob.core.windows.net/msd/audio/features/msd-jmir-lpc-all-v1.0.csv\n",
      "drwxrwxrwx   -          0 1970-01-01 12:00 wasbs://campus-data@madsstorage002.blob.core.windows.net/msd/audio/features/msd-jmir-methods-of-moments-all-v1.0.csv\n",
      "drwxrwxrwx   -          0 1970-01-01 12:00 wasbs://campus-data@madsstorage002.blob.core.windows.net/msd/audio/features/msd-jmir-mfcc-all-v1.0.csv\n",
      "drwxrwxrwx   -          0 1970-01-01 12:00 wasbs://campus-data@madsstorage002.blob.core.windows.net/msd/audio/features/msd-jmir-spectral-all-all-v1.0.csv\n",
      "drwxrwxrwx   -          0 1970-01-01 12:00 wasbs://campus-data@madsstorage002.blob.core.windows.net/msd/audio/features/msd-jmir-spectral-derivatives-all-all-v1.0.csv\n",
      "drwxrwxrwx   -          0 1970-01-01 12:00 wasbs://campus-data@madsstorage002.blob.core.windows.net/msd/audio/features/msd-marsyas-timbral-v1.0.csv\n",
      "drwxrwxrwx   -          0 1970-01-01 12:00 wasbs://campus-data@madsstorage002.blob.core.windows.net/msd/audio/features/msd-mvd-v1.0.csv\n",
      "drwxrwxrwx   -          0 1970-01-01 12:00 wasbs://campus-data@madsstorage002.blob.core.windows.net/msd/audio/features/msd-rh-v1.0.csv\n",
      "drwxrwxrwx   -          0 1970-01-01 12:00 wasbs://campus-data@madsstorage002.blob.core.windows.net/msd/audio/features/msd-rp-v1.0.csv\n",
      "drwxrwxrwx   -          0 1970-01-01 12:00 wasbs://campus-data@madsstorage002.blob.core.windows.net/msd/audio/features/msd-ssd-v1.0.csv\n",
      "drwxrwxrwx   -          0 1970-01-01 12:00 wasbs://campus-data@madsstorage002.blob.core.windows.net/msd/audio/features/msd-trh-v1.0.csv\n",
      "drwxrwxrwx   -          0 1970-01-01 12:00 wasbs://campus-data@madsstorage002.blob.core.windows.net/msd/audio/features/msd-tssd-v1.0.csv\n",
      "\n",
      "Size Summary for: wasbs://campus-data@madsstorage002.blob.core.windows.net/msd/audio/features/\n",
      "\n",
      "65.5 M   65.5 M   wasbs://campus-data@madsstorage002.blob.core.windows.net/msd/audio/features/msd-jmir-area-of-moments-all-v1.0.csv\n",
      "3.9 G    3.9 G    wasbs://campus-data@madsstorage002.blob.core.windows.net/msd/audio/features/msd-tssd-v1.0.csv\n",
      "640.6 M  640.6 M  wasbs://campus-data@madsstorage002.blob.core.windows.net/msd/audio/features/msd-ssd-v1.0.csv\n",
      "412.2 M  412.2 M  wasbs://campus-data@madsstorage002.blob.core.windows.net/msd/audio/features/msd-marsyas-timbral-v1.0.csv\n",
      "240.3 M  240.3 M  wasbs://campus-data@madsstorage002.blob.core.windows.net/msd/audio/features/msd-rh-v1.0.csv\n",
      "51.1 M   51.1 M   wasbs://campus-data@madsstorage002.blob.core.windows.net/msd/audio/features/msd-jmir-spectral-derivatives-all-all-v1.0.csv\n",
      "51.1 M   51.1 M   wasbs://campus-data@madsstorage002.blob.core.windows.net/msd/audio/features/msd-jmir-spectral-all-all-v1.0.csv\n",
      "1.4 G    1.4 G    wasbs://campus-data@madsstorage002.blob.core.windows.net/msd/audio/features/msd-trh-v1.0.csv\n",
      "53.1 M   53.1 M   wasbs://campus-data@madsstorage002.blob.core.windows.net/msd/audio/features/msd-jmir-lpc-all-v1.0.csv\n",
      "35.8 M   35.8 M   wasbs://campus-data@madsstorage002.blob.core.windows.net/msd/audio/features/msd-jmir-methods-of-moments-all-v1.0.csv\n",
      "70.8 M   70.8 M   wasbs://campus-data@madsstorage002.blob.core.windows.net/msd/audio/features/msd-jmir-mfcc-all-v1.0.csv\n",
      "1.3 G    1.3 G    wasbs://campus-data@madsstorage002.blob.core.windows.net/msd/audio/features/msd-mvd-v1.0.csv\n",
      "4.0 G    4.0 G    wasbs://campus-data@madsstorage002.blob.core.windows.net/msd/audio/features/msd-rp-v1.0.csv\n",
      "\n",
      "Directory: wasbs://campus-data@madsstorage002.blob.core.windows.net/msd/genre/\n",
      "\n",
      "Found 3 items\n",
      "-rwxrwxrwx   1   11625230 2024-09-13 12:00 wasbs://campus-data@madsstorage002.blob.core.windows.net/msd/genre/msd-MAGD-genreAssignment.tsv\n",
      "-rwxrwxrwx   1    8820054 2024-09-13 12:00 wasbs://campus-data@madsstorage002.blob.core.windows.net/msd/genre/msd-MASD-styleAssignment.tsv\n",
      "-rwxrwxrwx   1   11140605 2024-09-13 12:00 wasbs://campus-data@madsstorage002.blob.core.windows.net/msd/genre/msd-topMAGD-genreAssignment.tsv\n",
      "\n",
      "Size Summary for: wasbs://campus-data@madsstorage002.blob.core.windows.net/msd/genre/\n",
      "\n",
      "8.4 M   8.4 M   wasbs://campus-data@madsstorage002.blob.core.windows.net/msd/genre/msd-MASD-styleAssignment.tsv\n",
      "10.6 M  10.6 M  wasbs://campus-data@madsstorage002.blob.core.windows.net/msd/genre/msd-topMAGD-genreAssignment.tsv\n",
      "11.1 M  11.1 M  wasbs://campus-data@madsstorage002.blob.core.windows.net/msd/genre/msd-MAGD-genreAssignment.tsv\n",
      "\n",
      "Directory: wasbs://campus-data@madsstorage002.blob.core.windows.net/msd/tasteprofile/\n",
      "\n",
      "Found 2 items\n",
      "drwxrwxrwx   -          0 1970-01-01 12:00 wasbs://campus-data@madsstorage002.blob.core.windows.net/msd/tasteprofile/mismatches\n",
      "drwxrwxrwx   -          0 1970-01-01 12:00 wasbs://campus-data@madsstorage002.blob.core.windows.net/msd/tasteprofile/triplets.tsv\n",
      "\n",
      "Size Summary for: wasbs://campus-data@madsstorage002.blob.core.windows.net/msd/tasteprofile/\n",
      "\n",
      "488.4 M  488.4 M  wasbs://campus-data@madsstorage002.blob.core.windows.net/msd/tasteprofile/triplets.tsv\n",
      "2.0 M    2.0 M    wasbs://campus-data@madsstorage002.blob.core.windows.net/msd/tasteprofile/mismatches\n",
      "\n"
     ]
    }
   ],
   "source": [
    "for d in dirs:\n",
    "    list_hdfs_directory(d)\n",
    "    list_hdfs_with_sizes(d)"
   ]
  },
  {
   "cell_type": "markdown",
   "id": "96d60fba-c08c-47d1-876c-42238a350667",
   "metadata": {},
   "source": [
    "### Count number of rows"
   ]
  },
  {
   "cell_type": "code",
   "execution_count": 12,
   "id": "af3bafb8-e174-4c81-866d-fecd0364dd62",
   "metadata": {},
   "outputs": [],
   "source": [
    "from pyspark.sql.utils import AnalysisException\n",
    "\n",
    "def get_dataset_info_csv(file_path, dataset_name, fmt, file_type, sep=\",\"):\n",
    "    try:\n",
    "        df = spark.read.option(\"sep\", sep).option(\"header\", \"false\").csv(base_path + file_path)\n",
    "        return {\n",
    "            \"Dataset\": dataset_name,\n",
    "            \"Format\": fmt,\n",
    "            \"File Type\": file_type,\n",
    "            \"Path\": file_path,\n",
    "            \"Num Rows\": df.count(),\n",
    "            \"Num Columns\": len(df.columns),\n",
    "            \"Schema\": str([f.dataType.simpleString() for f in df.schema.fields])\n",
    "        }\n",
    "    except AnalysisException as e:\n",
    "        return {\n",
    "            \"Dataset\": dataset_name,\n",
    "            \"Format\": fmt,\n",
    "            \"File Type\": file_type,\n",
    "            \"Path\": file_path,\n",
    "            \"Num Rows\": \"Error\",\n",
    "            \"Num Columns\": \"Error\",\n",
    "            \"Schema\": f\"Failed to load: {str(e)[:100]}...\"\n",
    "        }\n"
   ]
  },
  {
   "cell_type": "code",
   "execution_count": 13,
   "id": "e31a3c6e-6fe0-4789-b8d9-6e28e07a7fcc",
   "metadata": {},
   "outputs": [],
   "source": [
    "# AUDIO: all 13 features files from audio/features/\n",
    "audio_features_files = [\n",
    "    \"msd-jmir-area-of-moments-all-v1.0.csv\",\n",
    "    \"msd-jmir-lpc-all-v1.0.csv\",\n",
    "    \"msd-jmir-methods-of-moments-all-v1.0.csv\",\n",
    "    \"msd-jmir-mfcc-all-v1.0.csv\",\n",
    "    \"msd-jmir-spectral-all-all-v1.0.csv\",\n",
    "    \"msd-jmir-spectral-derivatives-all-all-v1.0.csv\",\n",
    "    \"msd-marsyas-timbral-v1.0.csv\",\n",
    "    \"msd-mvd-v1.0.csv\",\n",
    "    \"msd-rh-v1.0.csv\",\n",
    "    \"msd-rp-v1.0.csv\",\n",
    "    \"msd-ssd-v1.0.csv\",\n",
    "    \"msd-trh-v1.0.csv\",\n",
    "    \"msd-tssd-v1.0.csv\"\n",
    "]\n"
   ]
  },
  {
   "cell_type": "code",
   "execution_count": 14,
   "id": "f54879b4-6192-4d59-ae64-ad1568e20753",
   "metadata": {},
   "outputs": [
    {
     "name": "stderr",
     "output_type": "stream",
     "text": [
      "                                                                                "
     ]
    }
   ],
   "source": [
    "audio_summary = []\n",
    "for filename in audio_features_files:\n",
    "    path = f\"audio/features/{filename}\"\n",
    "    audio_summary.append(get_dataset_info_csv(path, filename, \"CSV\", \"Plain\"))"
   ]
  },
  {
   "cell_type": "code",
   "execution_count": 15,
   "id": "cdf6cb8d-7856-40b1-be72-cc5914c44fd3",
   "metadata": {},
   "outputs": [],
   "source": [
    "# AUDIO ATTRIBUTES: all 13 files from audio/attributes/\n",
    "audio_attributes_files = [\n",
    "    \"msd-jmir-area-of-moments-all-v1.0.attributes.csv\",\n",
    "    \"msd-jmir-lpc-all-v1.0.attributes.csv\",\n",
    "    \"msd-jmir-methods-of-moments-all-v1.0.attributes.csv\",\n",
    "    \"msd-jmir-mfcc-all-v1.0.attributes.csv\",\n",
    "    \"msd-jmir-spectral-all-all-v1.0.attributes.csv\",\n",
    "    \"msd-jmir-spectral-derivatives-all-all-v1.0.attributes.csv\",\n",
    "    \"msd-marsyas-timbral-v1.0.attributes.csv\",\n",
    "    \"msd-mvd-v1.0.attributes.csv\",\n",
    "    \"msd-rh-v1.0.attributes.csv\",\n",
    "    \"msd-rp-v1.0.attributes.csv\",\n",
    "    \"msd-ssd-v1.0.attributes.csv\",\n",
    "    \"msd-trh-v1.0.attributes.csv\",\n",
    "    \"msd-tssd-v1.0.attributes.csv\"\n",
    "]\n",
    "\n",
    "audio_attr_summary = []\n",
    "for filename in audio_attributes_files:\n",
    "    path = f\"audio/attributes/{filename}\"\n",
    "    audio_attr_summary.append(get_dataset_info_csv(path, filename, \"CSV\", \"Plain\"))"
   ]
  },
  {
   "cell_type": "code",
   "execution_count": 16,
   "id": "7512ffc0-5467-4f5c-931c-b9b7a7cd15ac",
   "metadata": {},
   "outputs": [],
   "source": [
    "# GENRE FILES\n",
    "genre_files = [\n",
    "    (\"genre/msd-MAGD-genreAssignment.tsv\", \"msd-MAGD-genreAssignment.tsv\"),\n",
    "    (\"genre/msd-MASD-styleAssignment.tsv\", \"msd-MASD-styleAssignment.tsv\"),\n",
    "    (\"genre/msd-topMAGD-genreAssignment.tsv\", \"msd-topMAGD-genreAssignment.tsv\")\n",
    "]\n",
    "\n",
    "genre_summary = []\n",
    "for path, name in genre_files:\n",
    "    genre_summary.append(get_dataset_info_csv(path, name, \"TSV\", \"Plain\", sep=\"\\t\"))"
   ]
  },
  {
   "cell_type": "code",
   "execution_count": 17,
   "id": "eff4dc82-22b4-48f3-8300-4170d476edce",
   "metadata": {},
   "outputs": [
    {
     "name": "stderr",
     "output_type": "stream",
     "text": [
      "                                                                                "
     ]
    }
   ],
   "source": [
    "# MAIN FILES\n",
    "main_files = [\n",
    "    (\"main/metadata.csv.gz\", \"metadata.csv.gz\"),\n",
    "    (\"main/analysis.csv.gz\", \"analysis.csv.gz\")\n",
    "]\n",
    "\n",
    "main_summary = []\n",
    "for path, name in main_files:\n",
    "    main_summary.append(get_dataset_info_csv(path, name, \"CSV\", \"Gzip\"))"
   ]
  },
  {
   "cell_type": "code",
   "execution_count": 18,
   "id": "8b5f2c4f-9a0c-493d-ad8d-9586dff6a311",
   "metadata": {},
   "outputs": [],
   "source": [
    "# TASTEPROFILE MISMATCH FILES (2 inside mismatches/ folder)\n",
    "taste_mismatch_files = [\n",
    "    \"mismatches_final.txt\",\n",
    "    \"mismatches.txt\"\n",
    "]\n",
    "\n",
    "taste_mismatch_summary = []\n",
    "for filename in taste_mismatch_files:\n",
    "    path = f\"tasteprofile/mismatches/{filename}\"\n",
    "    taste_mismatch_summary.append(get_dataset_info_csv(path, filename, \"TXT\", \"Plain\", sep=\"\t\"))"
   ]
  },
  {
   "cell_type": "code",
   "execution_count": 19,
   "id": "6e4187e0-f543-4936-a3f7-2ed344f1c23e",
   "metadata": {},
   "outputs": [
    {
     "data": {
      "text/html": [
       "<div>\n",
       "<style scoped>\n",
       "    .dataframe tbody tr th:only-of-type {\n",
       "        vertical-align: middle;\n",
       "    }\n",
       "\n",
       "    .dataframe tbody tr th {\n",
       "        vertical-align: top;\n",
       "    }\n",
       "\n",
       "    .dataframe thead th {\n",
       "        text-align: right;\n",
       "    }\n",
       "</style>\n",
       "<table border=\"1\" class=\"dataframe\">\n",
       "  <thead>\n",
       "    <tr style=\"text-align: right;\">\n",
       "      <th></th>\n",
       "      <th>Dataset</th>\n",
       "      <th>Format</th>\n",
       "      <th>File Type</th>\n",
       "      <th>Path</th>\n",
       "      <th>Num Rows</th>\n",
       "      <th>Num Columns</th>\n",
       "      <th>Schema</th>\n",
       "    </tr>\n",
       "  </thead>\n",
       "  <tbody>\n",
       "    <tr>\n",
       "      <th>0</th>\n",
       "      <td>msd-jmir-area-of-moments-all-v1.0.csv</td>\n",
       "      <td>CSV</td>\n",
       "      <td>Plain</td>\n",
       "      <td>audio/features/msd-jmir-area-of-moments-all-v1...</td>\n",
       "      <td>994623</td>\n",
       "      <td>21</td>\n",
       "      <td>['string', 'string', 'string', 'string', 'stri...</td>\n",
       "    </tr>\n",
       "    <tr>\n",
       "      <th>1</th>\n",
       "      <td>msd-jmir-lpc-all-v1.0.csv</td>\n",
       "      <td>CSV</td>\n",
       "      <td>Plain</td>\n",
       "      <td>audio/features/msd-jmir-lpc-all-v1.0.csv</td>\n",
       "      <td>994623</td>\n",
       "      <td>21</td>\n",
       "      <td>['string', 'string', 'string', 'string', 'stri...</td>\n",
       "    </tr>\n",
       "    <tr>\n",
       "      <th>2</th>\n",
       "      <td>msd-jmir-methods-of-moments-all-v1.0.csv</td>\n",
       "      <td>CSV</td>\n",
       "      <td>Plain</td>\n",
       "      <td>audio/features/msd-jmir-methods-of-moments-all...</td>\n",
       "      <td>994623</td>\n",
       "      <td>11</td>\n",
       "      <td>['string', 'string', 'string', 'string', 'stri...</td>\n",
       "    </tr>\n",
       "    <tr>\n",
       "      <th>3</th>\n",
       "      <td>msd-jmir-mfcc-all-v1.0.csv</td>\n",
       "      <td>CSV</td>\n",
       "      <td>Plain</td>\n",
       "      <td>audio/features/msd-jmir-mfcc-all-v1.0.csv</td>\n",
       "      <td>994623</td>\n",
       "      <td>27</td>\n",
       "      <td>['string', 'string', 'string', 'string', 'stri...</td>\n",
       "    </tr>\n",
       "    <tr>\n",
       "      <th>4</th>\n",
       "      <td>msd-jmir-spectral-all-all-v1.0.csv</td>\n",
       "      <td>CSV</td>\n",
       "      <td>Plain</td>\n",
       "      <td>audio/features/msd-jmir-spectral-all-all-v1.0.csv</td>\n",
       "      <td>994623</td>\n",
       "      <td>17</td>\n",
       "      <td>['string', 'string', 'string', 'string', 'stri...</td>\n",
       "    </tr>\n",
       "    <tr>\n",
       "      <th>5</th>\n",
       "      <td>msd-jmir-spectral-derivatives-all-all-v1.0.csv</td>\n",
       "      <td>CSV</td>\n",
       "      <td>Plain</td>\n",
       "      <td>audio/features/msd-jmir-spectral-derivatives-a...</td>\n",
       "      <td>994623</td>\n",
       "      <td>17</td>\n",
       "      <td>['string', 'string', 'string', 'string', 'stri...</td>\n",
       "    </tr>\n",
       "    <tr>\n",
       "      <th>6</th>\n",
       "      <td>msd-marsyas-timbral-v1.0.csv</td>\n",
       "      <td>CSV</td>\n",
       "      <td>Plain</td>\n",
       "      <td>audio/features/msd-marsyas-timbral-v1.0.csv</td>\n",
       "      <td>995001</td>\n",
       "      <td>125</td>\n",
       "      <td>['string', 'string', 'string', 'string', 'stri...</td>\n",
       "    </tr>\n",
       "    <tr>\n",
       "      <th>7</th>\n",
       "      <td>msd-mvd-v1.0.csv</td>\n",
       "      <td>CSV</td>\n",
       "      <td>Plain</td>\n",
       "      <td>audio/features/msd-mvd-v1.0.csv</td>\n",
       "      <td>994188</td>\n",
       "      <td>422</td>\n",
       "      <td>['string', 'string', 'string', 'string', 'stri...</td>\n",
       "    </tr>\n",
       "    <tr>\n",
       "      <th>8</th>\n",
       "      <td>msd-rh-v1.0.csv</td>\n",
       "      <td>CSV</td>\n",
       "      <td>Plain</td>\n",
       "      <td>audio/features/msd-rh-v1.0.csv</td>\n",
       "      <td>994188</td>\n",
       "      <td>62</td>\n",
       "      <td>['string', 'string', 'string', 'string', 'stri...</td>\n",
       "    </tr>\n",
       "    <tr>\n",
       "      <th>9</th>\n",
       "      <td>msd-rp-v1.0.csv</td>\n",
       "      <td>CSV</td>\n",
       "      <td>Plain</td>\n",
       "      <td>audio/features/msd-rp-v1.0.csv</td>\n",
       "      <td>994188</td>\n",
       "      <td>1441</td>\n",
       "      <td>['string', 'string', 'string', 'string', 'stri...</td>\n",
       "    </tr>\n",
       "    <tr>\n",
       "      <th>10</th>\n",
       "      <td>msd-ssd-v1.0.csv</td>\n",
       "      <td>CSV</td>\n",
       "      <td>Plain</td>\n",
       "      <td>audio/features/msd-ssd-v1.0.csv</td>\n",
       "      <td>994188</td>\n",
       "      <td>170</td>\n",
       "      <td>['string', 'string', 'string', 'string', 'stri...</td>\n",
       "    </tr>\n",
       "    <tr>\n",
       "      <th>11</th>\n",
       "      <td>msd-trh-v1.0.csv</td>\n",
       "      <td>CSV</td>\n",
       "      <td>Plain</td>\n",
       "      <td>audio/features/msd-trh-v1.0.csv</td>\n",
       "      <td>994188</td>\n",
       "      <td>422</td>\n",
       "      <td>['string', 'string', 'string', 'string', 'stri...</td>\n",
       "    </tr>\n",
       "    <tr>\n",
       "      <th>12</th>\n",
       "      <td>msd-tssd-v1.0.csv</td>\n",
       "      <td>CSV</td>\n",
       "      <td>Plain</td>\n",
       "      <td>audio/features/msd-tssd-v1.0.csv</td>\n",
       "      <td>994188</td>\n",
       "      <td>1177</td>\n",
       "      <td>['string', 'string', 'string', 'string', 'stri...</td>\n",
       "    </tr>\n",
       "    <tr>\n",
       "      <th>13</th>\n",
       "      <td>msd-jmir-area-of-moments-all-v1.0.attributes.csv</td>\n",
       "      <td>CSV</td>\n",
       "      <td>Plain</td>\n",
       "      <td>audio/attributes/msd-jmir-area-of-moments-all-...</td>\n",
       "      <td>21</td>\n",
       "      <td>2</td>\n",
       "      <td>['string', 'string']</td>\n",
       "    </tr>\n",
       "    <tr>\n",
       "      <th>14</th>\n",
       "      <td>msd-jmir-lpc-all-v1.0.attributes.csv</td>\n",
       "      <td>CSV</td>\n",
       "      <td>Plain</td>\n",
       "      <td>audio/attributes/msd-jmir-lpc-all-v1.0.attribu...</td>\n",
       "      <td>21</td>\n",
       "      <td>2</td>\n",
       "      <td>['string', 'string']</td>\n",
       "    </tr>\n",
       "    <tr>\n",
       "      <th>15</th>\n",
       "      <td>msd-jmir-methods-of-moments-all-v1.0.attribute...</td>\n",
       "      <td>CSV</td>\n",
       "      <td>Plain</td>\n",
       "      <td>audio/attributes/msd-jmir-methods-of-moments-a...</td>\n",
       "      <td>11</td>\n",
       "      <td>2</td>\n",
       "      <td>['string', 'string']</td>\n",
       "    </tr>\n",
       "    <tr>\n",
       "      <th>16</th>\n",
       "      <td>msd-jmir-mfcc-all-v1.0.attributes.csv</td>\n",
       "      <td>CSV</td>\n",
       "      <td>Plain</td>\n",
       "      <td>audio/attributes/msd-jmir-mfcc-all-v1.0.attrib...</td>\n",
       "      <td>27</td>\n",
       "      <td>2</td>\n",
       "      <td>['string', 'string']</td>\n",
       "    </tr>\n",
       "    <tr>\n",
       "      <th>17</th>\n",
       "      <td>msd-jmir-spectral-all-all-v1.0.attributes.csv</td>\n",
       "      <td>CSV</td>\n",
       "      <td>Plain</td>\n",
       "      <td>audio/attributes/msd-jmir-spectral-all-all-v1....</td>\n",
       "      <td>17</td>\n",
       "      <td>2</td>\n",
       "      <td>['string', 'string']</td>\n",
       "    </tr>\n",
       "    <tr>\n",
       "      <th>18</th>\n",
       "      <td>msd-jmir-spectral-derivatives-all-all-v1.0.att...</td>\n",
       "      <td>CSV</td>\n",
       "      <td>Plain</td>\n",
       "      <td>audio/attributes/msd-jmir-spectral-derivatives...</td>\n",
       "      <td>17</td>\n",
       "      <td>2</td>\n",
       "      <td>['string', 'string']</td>\n",
       "    </tr>\n",
       "    <tr>\n",
       "      <th>19</th>\n",
       "      <td>msd-marsyas-timbral-v1.0.attributes.csv</td>\n",
       "      <td>CSV</td>\n",
       "      <td>Plain</td>\n",
       "      <td>audio/attributes/msd-marsyas-timbral-v1.0.attr...</td>\n",
       "      <td>125</td>\n",
       "      <td>2</td>\n",
       "      <td>['string', 'string']</td>\n",
       "    </tr>\n",
       "    <tr>\n",
       "      <th>20</th>\n",
       "      <td>msd-mvd-v1.0.attributes.csv</td>\n",
       "      <td>CSV</td>\n",
       "      <td>Plain</td>\n",
       "      <td>audio/attributes/msd-mvd-v1.0.attributes.csv</td>\n",
       "      <td>421</td>\n",
       "      <td>2</td>\n",
       "      <td>['string', 'string']</td>\n",
       "    </tr>\n",
       "    <tr>\n",
       "      <th>21</th>\n",
       "      <td>msd-rh-v1.0.attributes.csv</td>\n",
       "      <td>CSV</td>\n",
       "      <td>Plain</td>\n",
       "      <td>audio/attributes/msd-rh-v1.0.attributes.csv</td>\n",
       "      <td>61</td>\n",
       "      <td>2</td>\n",
       "      <td>['string', 'string']</td>\n",
       "    </tr>\n",
       "    <tr>\n",
       "      <th>22</th>\n",
       "      <td>msd-rp-v1.0.attributes.csv</td>\n",
       "      <td>CSV</td>\n",
       "      <td>Plain</td>\n",
       "      <td>audio/attributes/msd-rp-v1.0.attributes.csv</td>\n",
       "      <td>1441</td>\n",
       "      <td>2</td>\n",
       "      <td>['string', 'string']</td>\n",
       "    </tr>\n",
       "    <tr>\n",
       "      <th>23</th>\n",
       "      <td>msd-ssd-v1.0.attributes.csv</td>\n",
       "      <td>CSV</td>\n",
       "      <td>Plain</td>\n",
       "      <td>audio/attributes/msd-ssd-v1.0.attributes.csv</td>\n",
       "      <td>169</td>\n",
       "      <td>2</td>\n",
       "      <td>['string', 'string']</td>\n",
       "    </tr>\n",
       "    <tr>\n",
       "      <th>24</th>\n",
       "      <td>msd-trh-v1.0.attributes.csv</td>\n",
       "      <td>CSV</td>\n",
       "      <td>Plain</td>\n",
       "      <td>audio/attributes/msd-trh-v1.0.attributes.csv</td>\n",
       "      <td>421</td>\n",
       "      <td>2</td>\n",
       "      <td>['string', 'string']</td>\n",
       "    </tr>\n",
       "    <tr>\n",
       "      <th>25</th>\n",
       "      <td>msd-tssd-v1.0.attributes.csv</td>\n",
       "      <td>CSV</td>\n",
       "      <td>Plain</td>\n",
       "      <td>audio/attributes/msd-tssd-v1.0.attributes.csv</td>\n",
       "      <td>1177</td>\n",
       "      <td>2</td>\n",
       "      <td>['string', 'string']</td>\n",
       "    </tr>\n",
       "    <tr>\n",
       "      <th>26</th>\n",
       "      <td>msd-MAGD-genreAssignment.tsv</td>\n",
       "      <td>TSV</td>\n",
       "      <td>Plain</td>\n",
       "      <td>genre/msd-MAGD-genreAssignment.tsv</td>\n",
       "      <td>422714</td>\n",
       "      <td>2</td>\n",
       "      <td>['string', 'string']</td>\n",
       "    </tr>\n",
       "    <tr>\n",
       "      <th>27</th>\n",
       "      <td>msd-MASD-styleAssignment.tsv</td>\n",
       "      <td>TSV</td>\n",
       "      <td>Plain</td>\n",
       "      <td>genre/msd-MASD-styleAssignment.tsv</td>\n",
       "      <td>273936</td>\n",
       "      <td>2</td>\n",
       "      <td>['string', 'string']</td>\n",
       "    </tr>\n",
       "    <tr>\n",
       "      <th>28</th>\n",
       "      <td>msd-topMAGD-genreAssignment.tsv</td>\n",
       "      <td>TSV</td>\n",
       "      <td>Plain</td>\n",
       "      <td>genre/msd-topMAGD-genreAssignment.tsv</td>\n",
       "      <td>406427</td>\n",
       "      <td>2</td>\n",
       "      <td>['string', 'string']</td>\n",
       "    </tr>\n",
       "    <tr>\n",
       "      <th>29</th>\n",
       "      <td>metadata.csv.gz</td>\n",
       "      <td>CSV</td>\n",
       "      <td>Gzip</td>\n",
       "      <td>main/metadata.csv.gz</td>\n",
       "      <td>1000001</td>\n",
       "      <td>20</td>\n",
       "      <td>['string', 'string', 'string', 'string', 'stri...</td>\n",
       "    </tr>\n",
       "    <tr>\n",
       "      <th>30</th>\n",
       "      <td>analysis.csv.gz</td>\n",
       "      <td>CSV</td>\n",
       "      <td>Gzip</td>\n",
       "      <td>main/analysis.csv.gz</td>\n",
       "      <td>1000001</td>\n",
       "      <td>31</td>\n",
       "      <td>['string', 'string', 'string', 'string', 'stri...</td>\n",
       "    </tr>\n",
       "    <tr>\n",
       "      <th>31</th>\n",
       "      <td>mismatches_final.txt</td>\n",
       "      <td>TXT</td>\n",
       "      <td>Plain</td>\n",
       "      <td>tasteprofile/mismatches/mismatches_final.txt</td>\n",
       "      <td>Error</td>\n",
       "      <td>Error</td>\n",
       "      <td>Failed to load: [PATH_NOT_FOUND] Path does not...</td>\n",
       "    </tr>\n",
       "    <tr>\n",
       "      <th>32</th>\n",
       "      <td>mismatches.txt</td>\n",
       "      <td>TXT</td>\n",
       "      <td>Plain</td>\n",
       "      <td>tasteprofile/mismatches/mismatches.txt</td>\n",
       "      <td>Error</td>\n",
       "      <td>Error</td>\n",
       "      <td>Failed to load: [PATH_NOT_FOUND] Path does not...</td>\n",
       "    </tr>\n",
       "  </tbody>\n",
       "</table>\n",
       "</div>"
      ],
      "text/plain": [
       "                                              Dataset Format File Type  \\\n",
       "0               msd-jmir-area-of-moments-all-v1.0.csv    CSV     Plain   \n",
       "1                           msd-jmir-lpc-all-v1.0.csv    CSV     Plain   \n",
       "2            msd-jmir-methods-of-moments-all-v1.0.csv    CSV     Plain   \n",
       "3                          msd-jmir-mfcc-all-v1.0.csv    CSV     Plain   \n",
       "4                  msd-jmir-spectral-all-all-v1.0.csv    CSV     Plain   \n",
       "5      msd-jmir-spectral-derivatives-all-all-v1.0.csv    CSV     Plain   \n",
       "6                        msd-marsyas-timbral-v1.0.csv    CSV     Plain   \n",
       "7                                    msd-mvd-v1.0.csv    CSV     Plain   \n",
       "8                                     msd-rh-v1.0.csv    CSV     Plain   \n",
       "9                                     msd-rp-v1.0.csv    CSV     Plain   \n",
       "10                                   msd-ssd-v1.0.csv    CSV     Plain   \n",
       "11                                   msd-trh-v1.0.csv    CSV     Plain   \n",
       "12                                  msd-tssd-v1.0.csv    CSV     Plain   \n",
       "13   msd-jmir-area-of-moments-all-v1.0.attributes.csv    CSV     Plain   \n",
       "14               msd-jmir-lpc-all-v1.0.attributes.csv    CSV     Plain   \n",
       "15  msd-jmir-methods-of-moments-all-v1.0.attribute...    CSV     Plain   \n",
       "16              msd-jmir-mfcc-all-v1.0.attributes.csv    CSV     Plain   \n",
       "17      msd-jmir-spectral-all-all-v1.0.attributes.csv    CSV     Plain   \n",
       "18  msd-jmir-spectral-derivatives-all-all-v1.0.att...    CSV     Plain   \n",
       "19            msd-marsyas-timbral-v1.0.attributes.csv    CSV     Plain   \n",
       "20                        msd-mvd-v1.0.attributes.csv    CSV     Plain   \n",
       "21                         msd-rh-v1.0.attributes.csv    CSV     Plain   \n",
       "22                         msd-rp-v1.0.attributes.csv    CSV     Plain   \n",
       "23                        msd-ssd-v1.0.attributes.csv    CSV     Plain   \n",
       "24                        msd-trh-v1.0.attributes.csv    CSV     Plain   \n",
       "25                       msd-tssd-v1.0.attributes.csv    CSV     Plain   \n",
       "26                       msd-MAGD-genreAssignment.tsv    TSV     Plain   \n",
       "27                       msd-MASD-styleAssignment.tsv    TSV     Plain   \n",
       "28                    msd-topMAGD-genreAssignment.tsv    TSV     Plain   \n",
       "29                                    metadata.csv.gz    CSV      Gzip   \n",
       "30                                    analysis.csv.gz    CSV      Gzip   \n",
       "31                               mismatches_final.txt    TXT     Plain   \n",
       "32                                     mismatches.txt    TXT     Plain   \n",
       "\n",
       "                                                 Path Num Rows Num Columns  \\\n",
       "0   audio/features/msd-jmir-area-of-moments-all-v1...   994623          21   \n",
       "1            audio/features/msd-jmir-lpc-all-v1.0.csv   994623          21   \n",
       "2   audio/features/msd-jmir-methods-of-moments-all...   994623          11   \n",
       "3           audio/features/msd-jmir-mfcc-all-v1.0.csv   994623          27   \n",
       "4   audio/features/msd-jmir-spectral-all-all-v1.0.csv   994623          17   \n",
       "5   audio/features/msd-jmir-spectral-derivatives-a...   994623          17   \n",
       "6         audio/features/msd-marsyas-timbral-v1.0.csv   995001         125   \n",
       "7                     audio/features/msd-mvd-v1.0.csv   994188         422   \n",
       "8                      audio/features/msd-rh-v1.0.csv   994188          62   \n",
       "9                      audio/features/msd-rp-v1.0.csv   994188        1441   \n",
       "10                    audio/features/msd-ssd-v1.0.csv   994188         170   \n",
       "11                    audio/features/msd-trh-v1.0.csv   994188         422   \n",
       "12                   audio/features/msd-tssd-v1.0.csv   994188        1177   \n",
       "13  audio/attributes/msd-jmir-area-of-moments-all-...       21           2   \n",
       "14  audio/attributes/msd-jmir-lpc-all-v1.0.attribu...       21           2   \n",
       "15  audio/attributes/msd-jmir-methods-of-moments-a...       11           2   \n",
       "16  audio/attributes/msd-jmir-mfcc-all-v1.0.attrib...       27           2   \n",
       "17  audio/attributes/msd-jmir-spectral-all-all-v1....       17           2   \n",
       "18  audio/attributes/msd-jmir-spectral-derivatives...       17           2   \n",
       "19  audio/attributes/msd-marsyas-timbral-v1.0.attr...      125           2   \n",
       "20       audio/attributes/msd-mvd-v1.0.attributes.csv      421           2   \n",
       "21        audio/attributes/msd-rh-v1.0.attributes.csv       61           2   \n",
       "22        audio/attributes/msd-rp-v1.0.attributes.csv     1441           2   \n",
       "23       audio/attributes/msd-ssd-v1.0.attributes.csv      169           2   \n",
       "24       audio/attributes/msd-trh-v1.0.attributes.csv      421           2   \n",
       "25      audio/attributes/msd-tssd-v1.0.attributes.csv     1177           2   \n",
       "26                 genre/msd-MAGD-genreAssignment.tsv   422714           2   \n",
       "27                 genre/msd-MASD-styleAssignment.tsv   273936           2   \n",
       "28              genre/msd-topMAGD-genreAssignment.tsv   406427           2   \n",
       "29                               main/metadata.csv.gz  1000001          20   \n",
       "30                               main/analysis.csv.gz  1000001          31   \n",
       "31       tasteprofile/mismatches/mismatches_final.txt    Error       Error   \n",
       "32             tasteprofile/mismatches/mismatches.txt    Error       Error   \n",
       "\n",
       "                                               Schema  \n",
       "0   ['string', 'string', 'string', 'string', 'stri...  \n",
       "1   ['string', 'string', 'string', 'string', 'stri...  \n",
       "2   ['string', 'string', 'string', 'string', 'stri...  \n",
       "3   ['string', 'string', 'string', 'string', 'stri...  \n",
       "4   ['string', 'string', 'string', 'string', 'stri...  \n",
       "5   ['string', 'string', 'string', 'string', 'stri...  \n",
       "6   ['string', 'string', 'string', 'string', 'stri...  \n",
       "7   ['string', 'string', 'string', 'string', 'stri...  \n",
       "8   ['string', 'string', 'string', 'string', 'stri...  \n",
       "9   ['string', 'string', 'string', 'string', 'stri...  \n",
       "10  ['string', 'string', 'string', 'string', 'stri...  \n",
       "11  ['string', 'string', 'string', 'string', 'stri...  \n",
       "12  ['string', 'string', 'string', 'string', 'stri...  \n",
       "13                               ['string', 'string']  \n",
       "14                               ['string', 'string']  \n",
       "15                               ['string', 'string']  \n",
       "16                               ['string', 'string']  \n",
       "17                               ['string', 'string']  \n",
       "18                               ['string', 'string']  \n",
       "19                               ['string', 'string']  \n",
       "20                               ['string', 'string']  \n",
       "21                               ['string', 'string']  \n",
       "22                               ['string', 'string']  \n",
       "23                               ['string', 'string']  \n",
       "24                               ['string', 'string']  \n",
       "25                               ['string', 'string']  \n",
       "26                               ['string', 'string']  \n",
       "27                               ['string', 'string']  \n",
       "28                               ['string', 'string']  \n",
       "29  ['string', 'string', 'string', 'string', 'stri...  \n",
       "30  ['string', 'string', 'string', 'string', 'stri...  \n",
       "31  Failed to load: [PATH_NOT_FOUND] Path does not...  \n",
       "32  Failed to load: [PATH_NOT_FOUND] Path does not...  "
      ]
     },
     "metadata": {},
     "output_type": "display_data"
    }
   ],
   "source": [
    "# Combine all summaries\n",
    "summary_data = audio_summary + audio_attr_summary + genre_summary + main_summary + taste_mismatch_summary\n",
    "summary_df = pd.DataFrame(summary_data)\n",
    "display(summary_df)"
   ]
  },
  {
   "cell_type": "markdown",
   "id": "820f89dc-7f1f-4f58-b2aa-b56dfa519b80",
   "metadata": {},
   "source": [
    "### Unique songs"
   ]
  },
  {
   "cell_type": "code",
   "execution_count": 20,
   "id": "61da21d9-7109-49ed-92a3-fbc4935902b1",
   "metadata": {},
   "outputs": [],
   "source": [
    "# Base path to access files\n",
    "base_path = \"wasbs://campus-data@madsstorage002.blob.core.windows.net/msd/\"\n",
    "\n",
    "# Load Metadata Dataset\n",
    "metadata_path = base_path + \"main/metadata.csv.gz\"\n",
    "metadata_df = spark.read.option(\"header\", \"true\").csv(metadata_path)\n",
    "\n",
    "# Load Analysis Dataset\n",
    "analysis_path = base_path + \"main/analysis.csv.gz\"\n",
    "analysis_df = spark.read.option(\"header\", \"true\").csv(analysis_path)\n",
    "\n",
    "# Load Genre Dataset (MAGD)\n",
    "genre_path = base_path + \"genre/msd-MAGD-genreAssignment.tsv\"\n",
    "genre_df = spark.read.option(\"sep\", \"\\t\").option(\"header\", \"false\").csv(genre_path).toDF(\"track_id\", \"genre\")\n",
    "\n",
    "# Example: Load one attribute CSV file (you can change file name as needed)\n",
    "attr_file_path = \"audio/attributes/msd-jmir-area-of-moments-all-v1.0.attributes.csv\"\n",
    "attr_df = spark.read.option(\"header\", \"false\").csv(base_path + attr_file_path).toDF(\"_c0\", \"_c1\")\n",
    "\n",
    "# Example: Load one matching features file\n",
    "features_file_path = \"audio/features/msd-jmir-area-of-moments-all-v1.0.csv\"\n",
    "features_df = spark.read.option(\"header\", \"true\").csv(base_path + features_file_path)"
   ]
  },
  {
   "cell_type": "code",
   "execution_count": 21,
   "id": "21665dac-f8c7-4a54-a6f1-91768c82560c",
   "metadata": {},
   "outputs": [
    {
     "name": "stderr",
     "output_type": "stream",
     "text": [
      "[Stage 129:>                                                        (0 + 1) / 1]"
     ]
    },
    {
     "name": "stdout",
     "output_type": "stream",
     "text": [
      "\n",
      "Unique Songs in Metadata: 998963\n"
     ]
    },
    {
     "name": "stderr",
     "output_type": "stream",
     "text": [
      "                                                                                "
     ]
    }
   ],
   "source": [
    "unique_songs = metadata_df.select(\"song_id\").distinct().count()\n",
    "print(\"\\nUnique Songs in Metadata:\", unique_songs)"
   ]
  },
  {
   "cell_type": "markdown",
   "id": "9cad80d6-6881-4d94-8c09-40f2f7b1033c",
   "metadata": {},
   "source": [
    "## Question 2"
   ]
  },
  {
   "cell_type": "code",
   "execution_count": 22,
   "id": "cdffeaf3-cc8e-4ac4-a635-3519300bf085",
   "metadata": {},
   "outputs": [
    {
     "name": "stdout",
     "output_type": "stream",
     "text": [
      "Extracted feature column names from first column:\n",
      "['Area_Method_of_Moments_Overall_Standard_Deviation_1', 'Area_Method_of_Moments_Overall_Standard_Deviation_2', 'Area_Method_of_Moments_Overall_Standard_Deviation_3', 'Area_Method_of_Moments_Overall_Standard_Deviation_4', 'Area_Method_of_Moments_Overall_Standard_Deviation_5', 'Area_Method_of_Moments_Overall_Standard_Deviation_6', 'Area_Method_of_Moments_Overall_Standard_Deviation_7', 'Area_Method_of_Moments_Overall_Standard_Deviation_8', 'Area_Method_of_Moments_Overall_Standard_Deviation_9', 'Area_Method_of_Moments_Overall_Standard_Deviation_10', 'Area_Method_of_Moments_Overall_Average_1', 'Area_Method_of_Moments_Overall_Average_2', 'Area_Method_of_Moments_Overall_Average_3', 'Area_Method_of_Moments_Overall_Average_4', 'Area_Method_of_Moments_Overall_Average_5', 'Area_Method_of_Moments_Overall_Average_6', 'Area_Method_of_Moments_Overall_Average_7', 'Area_Method_of_Moments_Overall_Average_8', 'Area_Method_of_Moments_Overall_Average_9', 'Area_Method_of_Moments_Overall_Average_10', 'MSD_TRACKID']\n"
     ]
    }
   ],
   "source": [
    "# Extract feature column names from first column (index 0)\n",
    "attribute_column_names = [row[0] for row in attr_df.collect()]\n",
    "print(\"Extracted feature column names from first column:\")\n",
    "print(attribute_column_names)"
   ]
  },
  {
   "cell_type": "code",
   "execution_count": 23,
   "id": "ad9022c0-63eb-4a9c-a56e-309f51a70a70",
   "metadata": {},
   "outputs": [
    {
     "name": "stdout",
     "output_type": "stream",
     "text": [
      "\n",
      "msd-jmir-area-of-moments-all-v1.0.attributes.csv: ['_c0', '_c1'], 21 rows\n",
      "\n",
      "msd-jmir-lpc-all-v1.0.attributes.csv: ['_c0', '_c1'], 21 rows\n",
      "\n",
      "msd-jmir-methods-of-moments-all-v1.0.attributes.csv: ['_c0', '_c1'], 11 rows\n",
      "\n",
      "msd-jmir-mfcc-all-v1.0.attributes.csv: ['_c0', '_c1'], 27 rows\n",
      "\n",
      "msd-jmir-spectral-all-all-v1.0.attributes.csv: ['_c0', '_c1'], 17 rows\n",
      "\n",
      "msd-jmir-spectral-derivatives-all-all-v1.0.attributes.csv: ['_c0', '_c1'], 17 rows\n",
      "\n",
      "msd-marsyas-timbral-v1.0.attributes.csv: ['_c0', '_c1'], 125 rows\n",
      "\n",
      "msd-mvd-v1.0.attributes.csv: ['_c0', '_c1'], 421 rows\n",
      "\n",
      "msd-rh-v1.0.attributes.csv: ['_c0', '_c1'], 61 rows\n",
      "\n",
      "msd-rp-v1.0.attributes.csv: ['_c0', '_c1'], 1441 rows\n",
      "\n",
      "msd-ssd-v1.0.attributes.csv: ['_c0', '_c1'], 169 rows\n",
      "\n",
      "msd-trh-v1.0.attributes.csv: ['_c0', '_c1'], 421 rows\n",
      "\n",
      "msd-tssd-v1.0.attributes.csv: ['_c0', '_c1'], 1177 rows\n"
     ]
    }
   ],
   "source": [
    "attr_files = [\n",
    "    \"msd-jmir-area-of-moments-all-v1.0.attributes.csv\",\n",
    "    \"msd-jmir-lpc-all-v1.0.attributes.csv\",\n",
    "    \"msd-jmir-methods-of-moments-all-v1.0.attributes.csv\",\n",
    "    \"msd-jmir-mfcc-all-v1.0.attributes.csv\",\n",
    "    \"msd-jmir-spectral-all-all-v1.0.attributes.csv\",\n",
    "    \"msd-jmir-spectral-derivatives-all-all-v1.0.attributes.csv\",\n",
    "    \"msd-marsyas-timbral-v1.0.attributes.csv\",\n",
    "    \"msd-mvd-v1.0.attributes.csv\",\n",
    "    \"msd-rh-v1.0.attributes.csv\",\n",
    "    \"msd-rp-v1.0.attributes.csv\",\n",
    "    \"msd-ssd-v1.0.attributes.csv\",\n",
    "    \"msd-trh-v1.0.attributes.csv\",\n",
    "    \"msd-tssd-v1.0.attributes.csv\"\n",
    "]\n",
    "\n",
    "for file in attr_files:\n",
    "    df = spark.read.option(\"header\", \"false\").csv(base_path + f\"audio/attributes/{file}\")\n",
    "    print(f\"\\n{file}: {df.columns}, {df.count()} rows\")\n"
   ]
  },
  {
   "cell_type": "code",
   "execution_count": 24,
   "id": "b773bde5-8a3b-4115-b08e-fe2eaf7dc9ac",
   "metadata": {},
   "outputs": [
    {
     "name": "stdout",
     "output_type": "stream",
     "text": [
      "msd-jmir-area-of-moments-all-v1.0.attributes.csv → Last feature: MSD_TRACKID\n",
      "msd-jmir-lpc-all-v1.0.attributes.csv → Last feature: MSD_TRACKID\n",
      "msd-jmir-methods-of-moments-all-v1.0.attributes.csv → Last feature: MSD_TRACKID\n",
      "msd-jmir-mfcc-all-v1.0.attributes.csv → Last feature: MSD_TRACKID\n",
      "msd-jmir-spectral-all-all-v1.0.attributes.csv → Last feature: MSD_TRACKID\n",
      "msd-jmir-spectral-derivatives-all-all-v1.0.attributes.csv → Last feature: MSD_TRACKID\n",
      "msd-marsyas-timbral-v1.0.attributes.csv → Last feature: track_id\n",
      "msd-mvd-v1.0.attributes.csv → Last feature: instanceName\n",
      "msd-rh-v1.0.attributes.csv → Last feature: instanceName\n",
      "msd-rp-v1.0.attributes.csv → Last feature: instanceName\n",
      "msd-ssd-v1.0.attributes.csv → Last feature: instanceName\n",
      "msd-trh-v1.0.attributes.csv → Last feature: instanceName\n",
      "msd-tssd-v1.0.attributes.csv → Last feature: instanceName\n"
     ]
    }
   ],
   "source": [
    "for file in attr_files:\n",
    "    df = spark.read.option(\"header\", \"false\").csv(base_path + f\"audio/attributes/{file}\")\n",
    "    last_row = df.collect()[-1]\n",
    "    print(f\"{file} → Last feature: {last_row[0]}\")\n"
   ]
  },
  {
   "cell_type": "code",
   "execution_count": 25,
   "id": "3f2047da-2151-48f9-a061-358141ebef22",
   "metadata": {},
   "outputs": [
    {
     "name": "stdout",
     "output_type": "stream",
     "text": [
      "First 5 column names: ['Area_Method_of_Moments_Overall_Standard_Deviation_1', 'Area_Method_of_Moments_Overall_Standard_Deviation_2', 'Area_Method_of_Moments_Overall_Standard_Deviation_3', 'Area_Method_of_Moments_Overall_Standard_Deviation_4', 'Area_Method_of_Moments_Overall_Standard_Deviation_5']\n",
      "Total columns: 21\n"
     ]
    }
   ],
   "source": [
    "sample_file = \"msd-jmir-area-of-moments-all-v1.0.attributes.csv\"\n",
    "df = spark.read.option(\"header\", \"false\").csv(base_path + \"audio/attributes/\" + sample_file)\n",
    "columns_preview = [row[0] for row in df.collect()]\n",
    "print(\"First 5 column names:\", columns_preview[:5])\n",
    "print(\"Total columns:\", len(columns_preview))\n"
   ]
  },
  {
   "cell_type": "code",
   "execution_count": 26,
   "id": "cde82c44-2cf3-4e27-9bd9-653216b05cb5",
   "metadata": {},
   "outputs": [],
   "source": [
    "from pyspark.sql.types import StructType, StructField, FloatType, StringType\n",
    "\n",
    "# Select one attribute file and its corresponding feature file\n",
    "attr_file = \"audio/attributes/msd-jmir-area-of-moments-all-v1.0.attributes.csv\"\n",
    "feat_file = \"audio/features/msd-jmir-area-of-moments-all-v1.0.csv\""
   ]
  },
  {
   "cell_type": "code",
   "execution_count": 27,
   "id": "56c7ae8a-4847-47b5-b0a1-ea33f06732ad",
   "metadata": {},
   "outputs": [],
   "source": [
    "# Load attribute definitions (no header)\n",
    "attr_df = spark.read.option(\"header\", \"false\").csv(base_path + attr_file)\n",
    "attr_list = attr_df.collect()"
   ]
  },
  {
   "cell_type": "code",
   "execution_count": 28,
   "id": "c72df94f-87a3-4d2d-a58c-192f3bfa699d",
   "metadata": {},
   "outputs": [],
   "source": [
    "# Build schema by mapping types, skipping the last row (track ID)\n",
    "schema_fields = []\n",
    "for row in attr_list[:-1]:  # Exclude last row (e.g., MSD_TRACKID)\n",
    "    name = row[0]\n",
    "    dtype = str(row[1]).lower()\n",
    "    spark_type = FloatType() if \"real\" in dtype else StringType()\n",
    "    schema_fields.append(StructField(name, spark_type, True))"
   ]
  },
  {
   "cell_type": "code",
   "execution_count": 29,
   "id": "a55f6e1b-d4e8-4075-821e-2855500f4edd",
   "metadata": {},
   "outputs": [],
   "source": [
    "# Add the ID column at the end\n",
    "id_name = attr_list[-1][0]\n",
    "schema_fields.append(StructField(id_name, StringType(), True))\n",
    "\n",
    "schema = StructType(schema_fields)"
   ]
  },
  {
   "cell_type": "code",
   "execution_count": 30,
   "id": "a7786f01-dfb5-4079-b6cb-4a8fba6b0d58",
   "metadata": {},
   "outputs": [
    {
     "name": "stdout",
     "output_type": "stream",
     "text": [
      "+------+------+-------+-------+------------+-------------+------------+-------------+-------------+-------------+-----+-------+-------+--------+-------------+--------------+------------+-------------+-------------+-------------+--------------------+\n",
      "|   SD1|   SD2|    SD3|    SD4|         SD5|          SD6|         SD7|          SD8|          SD9|         SD10| SD11|   SD12|   SD13|    SD14|         SD15|          SD16|        SD17|         SD18|         SD19|         SD20|            TRACK_ID|\n",
      "+------+------+-------+-------+------------+-------------+------------+-------------+-------------+-------------+-----+-------+-------+--------+-------------+--------------+------------+-------------+-------------+-------------+--------------------+\n",
      "|   1.2|3355.0|26270.0|3.985E7|     3.096E8| 2.40300006E9|8.7490003E11| 2.77500006E9|2.15500001E10|4.06400006E14|3.201| 5746.0|43470.0|-4.422E7|     -3.376E8|      -2.576E9|7.6650001E11| 3.01500006E9|2.30199992E10|3.46000015E14|'TRHFHQZ12903C9E2D5'|\n",
      "|0.9295|6720.0|44100.0|1.608E8|      1.06E9|  6.9849999E9|7.0950002E12|  9.5449999E9| 6.2930002E10|2.03700004E15|2.666|11580.0|74040.0|-1.792E8|-1.15299994E9|  -7.4200003E9|6.2419999E12|1.03699999E10| 6.6800001E10|1.69400006E15|'TRHFHYX12903CAF953'|\n",
      "| 1.883|6712.0|49060.0|1.606E8|     1.176E9|  8.6090004E9|7.0829998E12|1.05799997E10|     7.744E10|2.78099991E15| 8.87|11580.0|85200.0|-1.791E8|     -1.316E9|  -9.6600003E9|    6.233E12|1.18200003E10| 8.6799999E10|     2.463E15|'TRHFHAU128F9341A0E'|\n",
      "| 1.884|6722.0|56130.0| 1.61E8|     1.346E9|1.12699996E10|7.1119998E12|1.21100001E10|1.01400003E11|4.19299994E15|4.328|11600.0|93320.0|-1.797E8|-1.45900006E9|-1.18500004E10|6.2619999E12|1.31099996E10|1.06599997E11|3.43199992E15|'TRHFHLP128F14947A7'|\n",
      "|  1.52|6709.0|53230.0|1.605E8|1.29500006E9|1.04499999E10|    7.076E12|1.16400005E10| 9.3920002E10|3.75100002E15|8.452|11580.0|93650.0| -1.79E8|-1.44099994E9|-1.15899996E10|     6.23E12|1.29299999E10|1.04100004E11|3.24800003E15|'TRHFHFF128F930AC11'|\n",
      "+------+------+-------+-------+------------+-------------+------------+-------------+-------------+-------------+-----+-------+-------+--------+-------------+--------------+------------+-------------+-------------+-------------+--------------------+\n",
      "only showing top 5 rows\n",
      "\n"
     ]
    }
   ],
   "source": [
    "# Load feature data using the inferred schema\n",
    "features_df = spark.read.option(\"header\", \"false\").schema(schema).csv(base_path + feat_file)\n",
    "\n",
    "# Rename columns to short, readable names (e.g., SD1, SD2, ..., TRACK_ID)\n",
    "short_names = [f\"SD{i+1}\" for i in range(len(schema_fields)-1)] + [\"TRACK_ID\"]\n",
    "renamed_df = features_df.toDF(*short_names)\n",
    "renamed_df.show(5)"
   ]
  },
  {
   "cell_type": "markdown",
   "id": "8234a825-f8c6-46cd-b929-a5cb97434689",
   "metadata": {},
   "source": [
    "# Audio similarity"
   ]
  },
  {
   "cell_type": "markdown",
   "id": "de849449-9157-4e58-ac8b-0af1353fbf6f",
   "metadata": {},
   "source": [
    "## Question 1"
   ]
  },
  {
   "cell_type": "code",
   "execution_count": 31,
   "id": "f8bcd525-3416-4c24-b2d1-6c10de8f5f1b",
   "metadata": {},
   "outputs": [
    {
     "name": "stdout",
     "output_type": "stream",
     "text": [
      "\n",
      "msd-jmir-area-of-moments-all-v1.0.attributes.csv:\n",
      "['Area_Method_of_Moments_Overall_Standard_Deviation_1', 'Area_Method_of_Moments_Overall_Standard_Deviation_2', 'Area_Method_of_Moments_Overall_Standard_Deviation_3', 'Area_Method_of_Moments_Overall_Standard_Deviation_4', 'Area_Method_of_Moments_Overall_Standard_Deviation_5', 'Area_Method_of_Moments_Overall_Standard_Deviation_6', 'Area_Method_of_Moments_Overall_Standard_Deviation_7', 'Area_Method_of_Moments_Overall_Standard_Deviation_8', 'Area_Method_of_Moments_Overall_Standard_Deviation_9', 'Area_Method_of_Moments_Overall_Standard_Deviation_10', 'Area_Method_of_Moments_Overall_Average_1', 'Area_Method_of_Moments_Overall_Average_2', 'Area_Method_of_Moments_Overall_Average_3', 'Area_Method_of_Moments_Overall_Average_4', 'Area_Method_of_Moments_Overall_Average_5', 'Area_Method_of_Moments_Overall_Average_6', 'Area_Method_of_Moments_Overall_Average_7', 'Area_Method_of_Moments_Overall_Average_8', 'Area_Method_of_Moments_Overall_Average_9', 'Area_Method_of_Moments_Overall_Average_10', 'MSD_TRACKID']\n",
      "\n",
      "msd-jmir-lpc-all-v1.0.attributes.csv:\n",
      "['LPC_Overall_Standard_Deviation_1', 'LPC_Overall_Standard_Deviation_2', 'LPC_Overall_Standard_Deviation_3', 'LPC_Overall_Standard_Deviation_4', 'LPC_Overall_Standard_Deviation_5', 'LPC_Overall_Standard_Deviation_6', 'LPC_Overall_Standard_Deviation_7', 'LPC_Overall_Standard_Deviation_8', 'LPC_Overall_Standard_Deviation_9', 'LPC_Overall_Standard_Deviation_10', 'LPC_Overall_Average_1', 'LPC_Overall_Average_2', 'LPC_Overall_Average_3', 'LPC_Overall_Average_4', 'LPC_Overall_Average_5', 'LPC_Overall_Average_6', 'LPC_Overall_Average_7', 'LPC_Overall_Average_8', 'LPC_Overall_Average_9', 'LPC_Overall_Average_10', 'MSD_TRACKID']\n",
      "\n",
      "msd-jmir-spectral-all-all-v1.0.attributes.csv:\n",
      "['Spectral_Centroid_Overall_Standard_Deviation_1', 'Spectral_Rolloff_Point_Overall_Standard_Deviation_1', 'Spectral_Flux_Overall_Standard_Deviation_1', 'Compactness_Overall_Standard_Deviation_1', 'Spectral_Variability_Overall_Standard_Deviation_1', 'Root_Mean_Square_Overall_Standard_Deviation_1', 'Fraction_Of_Low_Energy_Windows_Overall_Standard_Deviation_1', 'Zero_Crossings_Overall_Standard_Deviation_1', 'Spectral_Centroid_Overall_Average_1', 'Spectral_Rolloff_Point_Overall_Average_1', 'Spectral_Flux_Overall_Average_1', 'Compactness_Overall_Average_1', 'Spectral_Variability_Overall_Average_1', 'Root_Mean_Square_Overall_Average_1', 'Fraction_Of_Low_Energy_Windows_Overall_Average_1', 'Zero_Crossings_Overall_Average_1', 'MSD_TRACKID']\n",
      "\n",
      "msd-marsyas-timbral-v1.0.attributes.csv:\n",
      "['Mean_Acc5_Mean_Mem20_ZeroCrossings_HopSize512_WinSize512_Sum_AudioCh0', 'Mean_Acc5_Mean_Mem20_Centroid_Power_powerFFT_WinHamming_HopSize512_WinSize512_Sum_AudioCh0', 'Mean_Acc5_Mean_Mem20_Rolloff_Power_powerFFT_WinHamming_HopSize512_WinSize512_Sum_AudioCh0', 'Mean_Acc5_Mean_Mem20_Flux_Power_powerFFT_WinHamming_HopSize512_WinSize512_Sum_AudioCh0', 'Mean_Acc5_Mean_Mem20_MFCC0_Power_powerFFT_WinHamming_HopSize512_WinSize512_Sum_AudioCh0', 'Mean_Acc5_Mean_Mem20_MFCC1_Power_powerFFT_WinHamming_HopSize512_WinSize512_Sum_AudioCh0', 'Mean_Acc5_Mean_Mem20_MFCC2_Power_powerFFT_WinHamming_HopSize512_WinSize512_Sum_AudioCh0', 'Mean_Acc5_Mean_Mem20_MFCC3_Power_powerFFT_WinHamming_HopSize512_WinSize512_Sum_AudioCh0', 'Mean_Acc5_Mean_Mem20_MFCC4_Power_powerFFT_WinHamming_HopSize512_WinSize512_Sum_AudioCh0', 'Mean_Acc5_Mean_Mem20_MFCC5_Power_powerFFT_WinHamming_HopSize512_WinSize512_Sum_AudioCh0', 'Mean_Acc5_Mean_Mem20_MFCC6_Power_powerFFT_WinHamming_HopSize512_WinSize512_Sum_AudioCh0', 'Mean_Acc5_Mean_Mem20_MFCC7_Power_powerFFT_WinHamming_HopSize512_WinSize512_Sum_AudioCh0', 'Mean_Acc5_Mean_Mem20_MFCC8_Power_powerFFT_WinHamming_HopSize512_WinSize512_Sum_AudioCh0', 'Mean_Acc5_Mean_Mem20_MFCC9_Power_powerFFT_WinHamming_HopSize512_WinSize512_Sum_AudioCh0', 'Mean_Acc5_Mean_Mem20_MFCC10_Power_powerFFT_WinHamming_HopSize512_WinSize512_Sum_AudioCh0', 'Mean_Acc5_Mean_Mem20_MFCC11_Power_powerFFT_WinHamming_HopSize512_WinSize512_Sum_AudioCh0', 'Mean_Acc5_Mean_Mem20_MFCC12_Power_powerFFT_WinHamming_HopSize512_WinSize512_Sum_AudioCh0', 'Mean_Acc5_Mean_Mem20_PeakRatio_Chroma_A_Power_powerFFT_WinHamming_HopSize512_WinSize512_Sum_AudioCh0', 'Mean_Acc5_Mean_Mem20_PeakRatio_Chroma_A#_Power_powerFFT_WinHamming_HopSize512_WinSize512_Sum_AudioCh0', 'Mean_Acc5_Mean_Mem20_PeakRatio_Chroma_B_Power_powerFFT_WinHamming_HopSize512_WinSize512_Sum_AudioCh0', 'Mean_Acc5_Mean_Mem20_PeakRatio_Chroma_C_Power_powerFFT_WinHamming_HopSize512_WinSize512_Sum_AudioCh0', 'Mean_Acc5_Mean_Mem20_PeakRatio_Chroma_C#_Power_powerFFT_WinHamming_HopSize512_WinSize512_Sum_AudioCh0', 'Mean_Acc5_Mean_Mem20_PeakRatio_Chroma_D_Power_powerFFT_WinHamming_HopSize512_WinSize512_Sum_AudioCh0', 'Mean_Acc5_Mean_Mem20_PeakRatio_Chroma_D#_Power_powerFFT_WinHamming_HopSize512_WinSize512_Sum_AudioCh0', 'Mean_Acc5_Mean_Mem20_PeakRatio_Chroma_E_Power_powerFFT_WinHamming_HopSize512_WinSize512_Sum_AudioCh0', 'Mean_Acc5_Mean_Mem20_PeakRatio_Chroma_F_Power_powerFFT_WinHamming_HopSize512_WinSize512_Sum_AudioCh0', 'Mean_Acc5_Mean_Mem20_PeakRatio_Chroma_F#_Power_powerFFT_WinHamming_HopSize512_WinSize512_Sum_AudioCh0', 'Mean_Acc5_Mean_Mem20_PeakRatio_Chroma_G_Power_powerFFT_WinHamming_HopSize512_WinSize512_Sum_AudioCh0', 'Mean_Acc5_Mean_Mem20_PeakRatio_Chroma_G#_Power_powerFFT_WinHamming_HopSize512_WinSize512_Sum_AudioCh0', 'Mean_Acc5_Mean_Mem20_PeakRatio_Average_Chroma_A_Power_powerFFT_WinHamming_HopSize512_WinSize512_Sum_AudioCh0', 'Mean_Acc5_Mean_Mem20_PeakRatio_Minimum_Chroma_A_Power_powerFFT_WinHamming_HopSize512_WinSize512_Sum_AudioCh0', 'Mean_Acc5_Std_Mem20_ZeroCrossings_HopSize512_WinSize512_Sum_AudioCh0', 'Mean_Acc5_Std_Mem20_Centroid_Power_powerFFT_WinHamming_HopSize512_WinSize512_Sum_AudioCh0', 'Mean_Acc5_Std_Mem20_Rolloff_Power_powerFFT_WinHamming_HopSize512_WinSize512_Sum_AudioCh0', 'Mean_Acc5_Std_Mem20_Flux_Power_powerFFT_WinHamming_HopSize512_WinSize512_Sum_AudioCh0', 'Mean_Acc5_Std_Mem20_MFCC0_Power_powerFFT_WinHamming_HopSize512_WinSize512_Sum_AudioCh0', 'Mean_Acc5_Std_Mem20_MFCC1_Power_powerFFT_WinHamming_HopSize512_WinSize512_Sum_AudioCh0', 'Mean_Acc5_Std_Mem20_MFCC2_Power_powerFFT_WinHamming_HopSize512_WinSize512_Sum_AudioCh0', 'Mean_Acc5_Std_Mem20_MFCC3_Power_powerFFT_WinHamming_HopSize512_WinSize512_Sum_AudioCh0', 'Mean_Acc5_Std_Mem20_MFCC4_Power_powerFFT_WinHamming_HopSize512_WinSize512_Sum_AudioCh0', 'Mean_Acc5_Std_Mem20_MFCC5_Power_powerFFT_WinHamming_HopSize512_WinSize512_Sum_AudioCh0', 'Mean_Acc5_Std_Mem20_MFCC6_Power_powerFFT_WinHamming_HopSize512_WinSize512_Sum_AudioCh0', 'Mean_Acc5_Std_Mem20_MFCC7_Power_powerFFT_WinHamming_HopSize512_WinSize512_Sum_AudioCh0', 'Mean_Acc5_Std_Mem20_MFCC8_Power_powerFFT_WinHamming_HopSize512_WinSize512_Sum_AudioCh0', 'Mean_Acc5_Std_Mem20_MFCC9_Power_powerFFT_WinHamming_HopSize512_WinSize512_Sum_AudioCh0', 'Mean_Acc5_Std_Mem20_MFCC10_Power_powerFFT_WinHamming_HopSize512_WinSize512_Sum_AudioCh0', 'Mean_Acc5_Std_Mem20_MFCC11_Power_powerFFT_WinHamming_HopSize512_WinSize512_Sum_AudioCh0', 'Mean_Acc5_Std_Mem20_MFCC12_Power_powerFFT_WinHamming_HopSize512_WinSize512_Sum_AudioCh0', 'Mean_Acc5_Std_Mem20_PeakRatio_Chroma_A_Power_powerFFT_WinHamming_HopSize512_WinSize512_Sum_AudioCh0', 'Mean_Acc5_Std_Mem20_PeakRatio_Chroma_A#_Power_powerFFT_WinHamming_HopSize512_WinSize512_Sum_AudioCh0', 'Mean_Acc5_Std_Mem20_PeakRatio_Chroma_B_Power_powerFFT_WinHamming_HopSize512_WinSize512_Sum_AudioCh0', 'Mean_Acc5_Std_Mem20_PeakRatio_Chroma_C_Power_powerFFT_WinHamming_HopSize512_WinSize512_Sum_AudioCh0', 'Mean_Acc5_Std_Mem20_PeakRatio_Chroma_C#_Power_powerFFT_WinHamming_HopSize512_WinSize512_Sum_AudioCh0', 'Mean_Acc5_Std_Mem20_PeakRatio_Chroma_D_Power_powerFFT_WinHamming_HopSize512_WinSize512_Sum_AudioCh0', 'Mean_Acc5_Std_Mem20_PeakRatio_Chroma_D#_Power_powerFFT_WinHamming_HopSize512_WinSize512_Sum_AudioCh0', 'Mean_Acc5_Std_Mem20_PeakRatio_Chroma_E_Power_powerFFT_WinHamming_HopSize512_WinSize512_Sum_AudioCh0', 'Mean_Acc5_Std_Mem20_PeakRatio_Chroma_F_Power_powerFFT_WinHamming_HopSize512_WinSize512_Sum_AudioCh0', 'Mean_Acc5_Std_Mem20_PeakRatio_Chroma_F#_Power_powerFFT_WinHamming_HopSize512_WinSize512_Sum_AudioCh0', 'Mean_Acc5_Std_Mem20_PeakRatio_Chroma_G_Power_powerFFT_WinHamming_HopSize512_WinSize512_Sum_AudioCh0', 'Mean_Acc5_Std_Mem20_PeakRatio_Chroma_G#_Power_powerFFT_WinHamming_HopSize512_WinSize512_Sum_AudioCh0', 'Mean_Acc5_Std_Mem20_PeakRatio_Average_Chroma_A_Power_powerFFT_WinHamming_HopSize512_WinSize512_Sum_AudioCh0', 'Mean_Acc5_Std_Mem20_PeakRatio_Minimum_Chroma_A_Power_powerFFT_WinHamming_HopSize512_WinSize512_Sum_AudioCh0', 'Std_Acc5_Mean_Mem20_ZeroCrossings_HopSize512_WinSize512_Sum_AudioCh0', 'Std_Acc5_Mean_Mem20_Centroid_Power_powerFFT_WinHamming_HopSize512_WinSize512_Sum_AudioCh0', 'Std_Acc5_Mean_Mem20_Rolloff_Power_powerFFT_WinHamming_HopSize512_WinSize512_Sum_AudioCh0', 'Std_Acc5_Mean_Mem20_Flux_Power_powerFFT_WinHamming_HopSize512_WinSize512_Sum_AudioCh0', 'Std_Acc5_Mean_Mem20_MFCC0_Power_powerFFT_WinHamming_HopSize512_WinSize512_Sum_AudioCh0', 'Std_Acc5_Mean_Mem20_MFCC1_Power_powerFFT_WinHamming_HopSize512_WinSize512_Sum_AudioCh0', 'Std_Acc5_Mean_Mem20_MFCC2_Power_powerFFT_WinHamming_HopSize512_WinSize512_Sum_AudioCh0', 'Std_Acc5_Mean_Mem20_MFCC3_Power_powerFFT_WinHamming_HopSize512_WinSize512_Sum_AudioCh0', 'Std_Acc5_Mean_Mem20_MFCC4_Power_powerFFT_WinHamming_HopSize512_WinSize512_Sum_AudioCh0', 'Std_Acc5_Mean_Mem20_MFCC5_Power_powerFFT_WinHamming_HopSize512_WinSize512_Sum_AudioCh0', 'Std_Acc5_Mean_Mem20_MFCC6_Power_powerFFT_WinHamming_HopSize512_WinSize512_Sum_AudioCh0', 'Std_Acc5_Mean_Mem20_MFCC7_Power_powerFFT_WinHamming_HopSize512_WinSize512_Sum_AudioCh0', 'Std_Acc5_Mean_Mem20_MFCC8_Power_powerFFT_WinHamming_HopSize512_WinSize512_Sum_AudioCh0', 'Std_Acc5_Mean_Mem20_MFCC9_Power_powerFFT_WinHamming_HopSize512_WinSize512_Sum_AudioCh0', 'Std_Acc5_Mean_Mem20_MFCC10_Power_powerFFT_WinHamming_HopSize512_WinSize512_Sum_AudioCh0', 'Std_Acc5_Mean_Mem20_MFCC11_Power_powerFFT_WinHamming_HopSize512_WinSize512_Sum_AudioCh0', 'Std_Acc5_Mean_Mem20_MFCC12_Power_powerFFT_WinHamming_HopSize512_WinSize512_Sum_AudioCh0', 'Std_Acc5_Mean_Mem20_PeakRatio_Chroma_A_Power_powerFFT_WinHamming_HopSize512_WinSize512_Sum_AudioCh0', 'Std_Acc5_Mean_Mem20_PeakRatio_Chroma_A#_Power_powerFFT_WinHamming_HopSize512_WinSize512_Sum_AudioCh0', 'Std_Acc5_Mean_Mem20_PeakRatio_Chroma_B_Power_powerFFT_WinHamming_HopSize512_WinSize512_Sum_AudioCh0', 'Std_Acc5_Mean_Mem20_PeakRatio_Chroma_C_Power_powerFFT_WinHamming_HopSize512_WinSize512_Sum_AudioCh0', 'Std_Acc5_Mean_Mem20_PeakRatio_Chroma_C#_Power_powerFFT_WinHamming_HopSize512_WinSize512_Sum_AudioCh0', 'Std_Acc5_Mean_Mem20_PeakRatio_Chroma_D_Power_powerFFT_WinHamming_HopSize512_WinSize512_Sum_AudioCh0', 'Std_Acc5_Mean_Mem20_PeakRatio_Chroma_D#_Power_powerFFT_WinHamming_HopSize512_WinSize512_Sum_AudioCh0', 'Std_Acc5_Mean_Mem20_PeakRatio_Chroma_E_Power_powerFFT_WinHamming_HopSize512_WinSize512_Sum_AudioCh0', 'Std_Acc5_Mean_Mem20_PeakRatio_Chroma_F_Power_powerFFT_WinHamming_HopSize512_WinSize512_Sum_AudioCh0', 'Std_Acc5_Mean_Mem20_PeakRatio_Chroma_F#_Power_powerFFT_WinHamming_HopSize512_WinSize512_Sum_AudioCh0', 'Std_Acc5_Mean_Mem20_PeakRatio_Chroma_G_Power_powerFFT_WinHamming_HopSize512_WinSize512_Sum_AudioCh0', 'Std_Acc5_Mean_Mem20_PeakRatio_Chroma_G#_Power_powerFFT_WinHamming_HopSize512_WinSize512_Sum_AudioCh0', 'Std_Acc5_Mean_Mem20_PeakRatio_Average_Chroma_A_Power_powerFFT_WinHamming_HopSize512_WinSize512_Sum_AudioCh0', 'Std_Acc5_Mean_Mem20_PeakRatio_Minimum_Chroma_A_Power_powerFFT_WinHamming_HopSize512_WinSize512_Sum_AudioCh0', 'Std_Acc5_Std_Mem20_ZeroCrossings_HopSize512_WinSize512_Sum_AudioCh0', 'Std_Acc5_Std_Mem20_Centroid_Power_powerFFT_WinHamming_HopSize512_WinSize512_Sum_AudioCh0', 'Std_Acc5_Std_Mem20_Rolloff_Power_powerFFT_WinHamming_HopSize512_WinSize512_Sum_AudioCh0', 'Std_Acc5_Std_Mem20_Flux_Power_powerFFT_WinHamming_HopSize512_WinSize512_Sum_AudioCh0', 'Std_Acc5_Std_Mem20_MFCC0_Power_powerFFT_WinHamming_HopSize512_WinSize512_Sum_AudioCh0', 'Std_Acc5_Std_Mem20_MFCC1_Power_powerFFT_WinHamming_HopSize512_WinSize512_Sum_AudioCh0', 'Std_Acc5_Std_Mem20_MFCC2_Power_powerFFT_WinHamming_HopSize512_WinSize512_Sum_AudioCh0', 'Std_Acc5_Std_Mem20_MFCC3_Power_powerFFT_WinHamming_HopSize512_WinSize512_Sum_AudioCh0', 'Std_Acc5_Std_Mem20_MFCC4_Power_powerFFT_WinHamming_HopSize512_WinSize512_Sum_AudioCh0', 'Std_Acc5_Std_Mem20_MFCC5_Power_powerFFT_WinHamming_HopSize512_WinSize512_Sum_AudioCh0', 'Std_Acc5_Std_Mem20_MFCC6_Power_powerFFT_WinHamming_HopSize512_WinSize512_Sum_AudioCh0', 'Std_Acc5_Std_Mem20_MFCC7_Power_powerFFT_WinHamming_HopSize512_WinSize512_Sum_AudioCh0', 'Std_Acc5_Std_Mem20_MFCC8_Power_powerFFT_WinHamming_HopSize512_WinSize512_Sum_AudioCh0', 'Std_Acc5_Std_Mem20_MFCC9_Power_powerFFT_WinHamming_HopSize512_WinSize512_Sum_AudioCh0', 'Std_Acc5_Std_Mem20_MFCC10_Power_powerFFT_WinHamming_HopSize512_WinSize512_Sum_AudioCh0', 'Std_Acc5_Std_Mem20_MFCC11_Power_powerFFT_WinHamming_HopSize512_WinSize512_Sum_AudioCh0', 'Std_Acc5_Std_Mem20_MFCC12_Power_powerFFT_WinHamming_HopSize512_WinSize512_Sum_AudioCh0', 'Std_Acc5_Std_Mem20_PeakRatio_Chroma_A_Power_powerFFT_WinHamming_HopSize512_WinSize512_Sum_AudioCh0', 'Std_Acc5_Std_Mem20_PeakRatio_Chroma_A#_Power_powerFFT_WinHamming_HopSize512_WinSize512_Sum_AudioCh0', 'Std_Acc5_Std_Mem20_PeakRatio_Chroma_B_Power_powerFFT_WinHamming_HopSize512_WinSize512_Sum_AudioCh0', 'Std_Acc5_Std_Mem20_PeakRatio_Chroma_C_Power_powerFFT_WinHamming_HopSize512_WinSize512_Sum_AudioCh0', 'Std_Acc5_Std_Mem20_PeakRatio_Chroma_C#_Power_powerFFT_WinHamming_HopSize512_WinSize512_Sum_AudioCh0', 'Std_Acc5_Std_Mem20_PeakRatio_Chroma_D_Power_powerFFT_WinHamming_HopSize512_WinSize512_Sum_AudioCh0', 'Std_Acc5_Std_Mem20_PeakRatio_Chroma_D#_Power_powerFFT_WinHamming_HopSize512_WinSize512_Sum_AudioCh0', 'Std_Acc5_Std_Mem20_PeakRatio_Chroma_E_Power_powerFFT_WinHamming_HopSize512_WinSize512_Sum_AudioCh0', 'Std_Acc5_Std_Mem20_PeakRatio_Chroma_F_Power_powerFFT_WinHamming_HopSize512_WinSize512_Sum_AudioCh0', 'Std_Acc5_Std_Mem20_PeakRatio_Chroma_F#_Power_powerFFT_WinHamming_HopSize512_WinSize512_Sum_AudioCh0', 'Std_Acc5_Std_Mem20_PeakRatio_Chroma_G_Power_powerFFT_WinHamming_HopSize512_WinSize512_Sum_AudioCh0', 'Std_Acc5_Std_Mem20_PeakRatio_Chroma_G#_Power_powerFFT_WinHamming_HopSize512_WinSize512_Sum_AudioCh0', 'Std_Acc5_Std_Mem20_PeakRatio_Average_Chroma_A_Power_powerFFT_WinHamming_HopSize512_WinSize512_Sum_AudioCh0', 'Std_Acc5_Std_Mem20_PeakRatio_Minimum_Chroma_A_Power_powerFFT_WinHamming_HopSize512_WinSize512_Sum_AudioCh0', 'track_id']\n"
     ]
    }
   ],
   "source": [
    "#identifying col names in attributes\n",
    "attr_files = [\n",
    "    \"msd-jmir-area-of-moments-all-v1.0.attributes.csv\",\n",
    "    \"msd-jmir-lpc-all-v1.0.attributes.csv\",\n",
    "    \"msd-jmir-spectral-all-all-v1.0.attributes.csv\",\n",
    "    \"msd-marsyas-timbral-v1.0.attributes.csv\"\n",
    "]\n",
    "\n",
    "for file in attr_files:\n",
    "    df = spark.read.option(\"header\", \"false\").csv(base_path + \"audio/attributes/\" + file)\n",
    "    cols = [row[0] for row in df.collect()]\n",
    "    print(f\"\\n{file}:\")\n",
    "    print(cols)"
   ]
  },
  {
   "cell_type": "code",
   "execution_count": 32,
   "id": "fcfe318d-3f85-4257-80ff-1744374a3eaf",
   "metadata": {},
   "outputs": [
    {
     "name": "stdout",
     "output_type": "stream",
     "text": [
      "+------------------+--------+\n",
      "|               _c0|     _c1|\n",
      "+------------------+--------+\n",
      "|TRAAAAK128F9318786|Pop_Rock|\n",
      "|TRAAAAV128F421A322|Pop_Rock|\n",
      "|TRAAAAW128F429D538|     Rap|\n",
      "|TRAAABD128F429CF47|Pop_Rock|\n",
      "|TRAAACV128F423E09E|Pop_Rock|\n",
      "+------------------+--------+\n",
      "only showing top 5 rows\n",
      "\n"
     ]
    }
   ],
   "source": [
    "#finding track id column in genre dataset\n",
    "genre_path = \"genre/msd-MAGD-genreAssignment.tsv\"\n",
    "genre_df = spark.read.option(\"sep\", \"\\t\").csv(base_path + genre_path)\n",
    "genre_df.show(5)"
   ]
  },
  {
   "cell_type": "markdown",
   "id": "f027a5e5-e00e-4564-a628-d24f5aa0b3cd",
   "metadata": {},
   "source": [
    "### Load and Merge 4 Feature Datasets"
   ]
  },
  {
   "cell_type": "code",
   "execution_count": 33,
   "id": "8ee4fe91-b6bd-4da0-9ac3-83d3be367d69",
   "metadata": {},
   "outputs": [
    {
     "name": "stderr",
     "output_type": "stream",
     "text": [
      "25/06/13 09:35:21 WARN SparkStringUtils: Truncated the string representation of a plan since it was too large. This behavior can be adjusted by setting 'spark.sql.debug.maxToStringFields'.\n",
      "                                                                                "
     ]
    },
    {
     "name": "stdout",
     "output_type": "stream",
     "text": [
      "+------------------+---------------------------------------------------+---------------------------------------------------+---------------------------------------------------+---------------------------------------------------+---------------------------------------------------+---------------------------------------------------+---------------------------------------------------+---------------------------------------------------+---------------------------------------------------+----------------------------------------------------+----------------------------------------+----------------------------------------+----------------------------------------+----------------------------------------+----------------------------------------+----------------------------------------+----------------------------------------+----------------------------------------+----------------------------------------+-----------------------------------------+--------------------------------+--------------------------------+--------------------------------+--------------------------------+--------------------------------+--------------------------------+--------------------------------+--------------------------------+--------------------------------+---------------------------------+---------------------+---------------------+---------------------+---------------------+---------------------+---------------------+---------------------+---------------------+---------------------+----------------------+----------------------------------------------+---------------------------------------------------+------------------------------------------+----------------------------------------+-------------------------------------------------+---------------------------------------------+-----------------------------------------------------------+-------------------------------------------+-----------------------------------+----------------------------------------+-------------------------------+-----------------------------+--------------------------------------+----------------------------------+------------------------------------------------+--------------------------------+---------------------------------------------------------------------+------------------------------------------------------------------------------------------+-----------------------------------------------------------------------------------------+--------------------------------------------------------------------------------------+---------------------------------------------------------------------------------------+---------------------------------------------------------------------------------------+---------------------------------------------------------------------------------------+---------------------------------------------------------------------------------------+---------------------------------------------------------------------------------------+---------------------------------------------------------------------------------------+---------------------------------------------------------------------------------------+---------------------------------------------------------------------------------------+---------------------------------------------------------------------------------------+---------------------------------------------------------------------------------------+----------------------------------------------------------------------------------------+----------------------------------------------------------------------------------------+----------------------------------------------------------------------------------------+----------------------------------------------------------------------------------------------------+-----------------------------------------------------------------------------------------------------+----------------------------------------------------------------------------------------------------+----------------------------------------------------------------------------------------------------+-----------------------------------------------------------------------------------------------------+----------------------------------------------------------------------------------------------------+-----------------------------------------------------------------------------------------------------+----------------------------------------------------------------------------------------------------+----------------------------------------------------------------------------------------------------+-----------------------------------------------------------------------------------------------------+----------------------------------------------------------------------------------------------------+-----------------------------------------------------------------------------------------------------+------------------------------------------------------------------------------------------------------------+------------------------------------------------------------------------------------------------------------+--------------------------------------------------------------------+-----------------------------------------------------------------------------------------+----------------------------------------------------------------------------------------+-------------------------------------------------------------------------------------+--------------------------------------------------------------------------------------+--------------------------------------------------------------------------------------+--------------------------------------------------------------------------------------+--------------------------------------------------------------------------------------+--------------------------------------------------------------------------------------+--------------------------------------------------------------------------------------+--------------------------------------------------------------------------------------+--------------------------------------------------------------------------------------+--------------------------------------------------------------------------------------+--------------------------------------------------------------------------------------+---------------------------------------------------------------------------------------+---------------------------------------------------------------------------------------+---------------------------------------------------------------------------------------+---------------------------------------------------------------------------------------------------+----------------------------------------------------------------------------------------------------+---------------------------------------------------------------------------------------------------+---------------------------------------------------------------------------------------------------+----------------------------------------------------------------------------------------------------+---------------------------------------------------------------------------------------------------+----------------------------------------------------------------------------------------------------+---------------------------------------------------------------------------------------------------+---------------------------------------------------------------------------------------------------+----------------------------------------------------------------------------------------------------+---------------------------------------------------------------------------------------------------+----------------------------------------------------------------------------------------------------+-----------------------------------------------------------------------------------------------------------+-----------------------------------------------------------------------------------------------------------+--------------------------------------------------------------------+-----------------------------------------------------------------------------------------+----------------------------------------------------------------------------------------+-------------------------------------------------------------------------------------+--------------------------------------------------------------------------------------+--------------------------------------------------------------------------------------+--------------------------------------------------------------------------------------+--------------------------------------------------------------------------------------+--------------------------------------------------------------------------------------+--------------------------------------------------------------------------------------+--------------------------------------------------------------------------------------+--------------------------------------------------------------------------------------+--------------------------------------------------------------------------------------+--------------------------------------------------------------------------------------+---------------------------------------------------------------------------------------+---------------------------------------------------------------------------------------+---------------------------------------------------------------------------------------+---------------------------------------------------------------------------------------------------+----------------------------------------------------------------------------------------------------+---------------------------------------------------------------------------------------------------+---------------------------------------------------------------------------------------------------+----------------------------------------------------------------------------------------------------+---------------------------------------------------------------------------------------------------+----------------------------------------------------------------------------------------------------+---------------------------------------------------------------------------------------------------+---------------------------------------------------------------------------------------------------+----------------------------------------------------------------------------------------------------+---------------------------------------------------------------------------------------------------+----------------------------------------------------------------------------------------------------+-----------------------------------------------------------------------------------------------------------+-----------------------------------------------------------------------------------------------------------+-------------------------------------------------------------------+----------------------------------------------------------------------------------------+---------------------------------------------------------------------------------------+------------------------------------------------------------------------------------+-------------------------------------------------------------------------------------+-------------------------------------------------------------------------------------+-------------------------------------------------------------------------------------+-------------------------------------------------------------------------------------+-------------------------------------------------------------------------------------+-------------------------------------------------------------------------------------+-------------------------------------------------------------------------------------+-------------------------------------------------------------------------------------+-------------------------------------------------------------------------------------+-------------------------------------------------------------------------------------+--------------------------------------------------------------------------------------+--------------------------------------------------------------------------------------+--------------------------------------------------------------------------------------+--------------------------------------------------------------------------------------------------+---------------------------------------------------------------------------------------------------+--------------------------------------------------------------------------------------------------+--------------------------------------------------------------------------------------------------+---------------------------------------------------------------------------------------------------+--------------------------------------------------------------------------------------------------+---------------------------------------------------------------------------------------------------+--------------------------------------------------------------------------------------------------+--------------------------------------------------------------------------------------------------+---------------------------------------------------------------------------------------------------+--------------------------------------------------------------------------------------------------+---------------------------------------------------------------------------------------------------+----------------------------------------------------------------------------------------------------------+----------------------------------------------------------------------------------------------------------+\n",
      "|          track_id|Area_Method_of_Moments_Overall_Standard_Deviation_1|Area_Method_of_Moments_Overall_Standard_Deviation_2|Area_Method_of_Moments_Overall_Standard_Deviation_3|Area_Method_of_Moments_Overall_Standard_Deviation_4|Area_Method_of_Moments_Overall_Standard_Deviation_5|Area_Method_of_Moments_Overall_Standard_Deviation_6|Area_Method_of_Moments_Overall_Standard_Deviation_7|Area_Method_of_Moments_Overall_Standard_Deviation_8|Area_Method_of_Moments_Overall_Standard_Deviation_9|Area_Method_of_Moments_Overall_Standard_Deviation_10|Area_Method_of_Moments_Overall_Average_1|Area_Method_of_Moments_Overall_Average_2|Area_Method_of_Moments_Overall_Average_3|Area_Method_of_Moments_Overall_Average_4|Area_Method_of_Moments_Overall_Average_5|Area_Method_of_Moments_Overall_Average_6|Area_Method_of_Moments_Overall_Average_7|Area_Method_of_Moments_Overall_Average_8|Area_Method_of_Moments_Overall_Average_9|Area_Method_of_Moments_Overall_Average_10|LPC_Overall_Standard_Deviation_1|LPC_Overall_Standard_Deviation_2|LPC_Overall_Standard_Deviation_3|LPC_Overall_Standard_Deviation_4|LPC_Overall_Standard_Deviation_5|LPC_Overall_Standard_Deviation_6|LPC_Overall_Standard_Deviation_7|LPC_Overall_Standard_Deviation_8|LPC_Overall_Standard_Deviation_9|LPC_Overall_Standard_Deviation_10|LPC_Overall_Average_1|LPC_Overall_Average_2|LPC_Overall_Average_3|LPC_Overall_Average_4|LPC_Overall_Average_5|LPC_Overall_Average_6|LPC_Overall_Average_7|LPC_Overall_Average_8|LPC_Overall_Average_9|LPC_Overall_Average_10|Spectral_Centroid_Overall_Standard_Deviation_1|Spectral_Rolloff_Point_Overall_Standard_Deviation_1|Spectral_Flux_Overall_Standard_Deviation_1|Compactness_Overall_Standard_Deviation_1|Spectral_Variability_Overall_Standard_Deviation_1|Root_Mean_Square_Overall_Standard_Deviation_1|Fraction_Of_Low_Energy_Windows_Overall_Standard_Deviation_1|Zero_Crossings_Overall_Standard_Deviation_1|Spectral_Centroid_Overall_Average_1|Spectral_Rolloff_Point_Overall_Average_1|Spectral_Flux_Overall_Average_1|Compactness_Overall_Average_1|Spectral_Variability_Overall_Average_1|Root_Mean_Square_Overall_Average_1|Fraction_Of_Low_Energy_Windows_Overall_Average_1|Zero_Crossings_Overall_Average_1|Mean_Acc5_Mean_Mem20_ZeroCrossings_HopSize512_WinSize512_Sum_AudioCh0|Mean_Acc5_Mean_Mem20_Centroid_Power_powerFFT_WinHamming_HopSize512_WinSize512_Sum_AudioCh0|Mean_Acc5_Mean_Mem20_Rolloff_Power_powerFFT_WinHamming_HopSize512_WinSize512_Sum_AudioCh0|Mean_Acc5_Mean_Mem20_Flux_Power_powerFFT_WinHamming_HopSize512_WinSize512_Sum_AudioCh0|Mean_Acc5_Mean_Mem20_MFCC0_Power_powerFFT_WinHamming_HopSize512_WinSize512_Sum_AudioCh0|Mean_Acc5_Mean_Mem20_MFCC1_Power_powerFFT_WinHamming_HopSize512_WinSize512_Sum_AudioCh0|Mean_Acc5_Mean_Mem20_MFCC2_Power_powerFFT_WinHamming_HopSize512_WinSize512_Sum_AudioCh0|Mean_Acc5_Mean_Mem20_MFCC3_Power_powerFFT_WinHamming_HopSize512_WinSize512_Sum_AudioCh0|Mean_Acc5_Mean_Mem20_MFCC4_Power_powerFFT_WinHamming_HopSize512_WinSize512_Sum_AudioCh0|Mean_Acc5_Mean_Mem20_MFCC5_Power_powerFFT_WinHamming_HopSize512_WinSize512_Sum_AudioCh0|Mean_Acc5_Mean_Mem20_MFCC6_Power_powerFFT_WinHamming_HopSize512_WinSize512_Sum_AudioCh0|Mean_Acc5_Mean_Mem20_MFCC7_Power_powerFFT_WinHamming_HopSize512_WinSize512_Sum_AudioCh0|Mean_Acc5_Mean_Mem20_MFCC8_Power_powerFFT_WinHamming_HopSize512_WinSize512_Sum_AudioCh0|Mean_Acc5_Mean_Mem20_MFCC9_Power_powerFFT_WinHamming_HopSize512_WinSize512_Sum_AudioCh0|Mean_Acc5_Mean_Mem20_MFCC10_Power_powerFFT_WinHamming_HopSize512_WinSize512_Sum_AudioCh0|Mean_Acc5_Mean_Mem20_MFCC11_Power_powerFFT_WinHamming_HopSize512_WinSize512_Sum_AudioCh0|Mean_Acc5_Mean_Mem20_MFCC12_Power_powerFFT_WinHamming_HopSize512_WinSize512_Sum_AudioCh0|Mean_Acc5_Mean_Mem20_PeakRatio_Chroma_A_Power_powerFFT_WinHamming_HopSize512_WinSize512_Sum_AudioCh0|Mean_Acc5_Mean_Mem20_PeakRatio_Chroma_A#_Power_powerFFT_WinHamming_HopSize512_WinSize512_Sum_AudioCh0|Mean_Acc5_Mean_Mem20_PeakRatio_Chroma_B_Power_powerFFT_WinHamming_HopSize512_WinSize512_Sum_AudioCh0|Mean_Acc5_Mean_Mem20_PeakRatio_Chroma_C_Power_powerFFT_WinHamming_HopSize512_WinSize512_Sum_AudioCh0|Mean_Acc5_Mean_Mem20_PeakRatio_Chroma_C#_Power_powerFFT_WinHamming_HopSize512_WinSize512_Sum_AudioCh0|Mean_Acc5_Mean_Mem20_PeakRatio_Chroma_D_Power_powerFFT_WinHamming_HopSize512_WinSize512_Sum_AudioCh0|Mean_Acc5_Mean_Mem20_PeakRatio_Chroma_D#_Power_powerFFT_WinHamming_HopSize512_WinSize512_Sum_AudioCh0|Mean_Acc5_Mean_Mem20_PeakRatio_Chroma_E_Power_powerFFT_WinHamming_HopSize512_WinSize512_Sum_AudioCh0|Mean_Acc5_Mean_Mem20_PeakRatio_Chroma_F_Power_powerFFT_WinHamming_HopSize512_WinSize512_Sum_AudioCh0|Mean_Acc5_Mean_Mem20_PeakRatio_Chroma_F#_Power_powerFFT_WinHamming_HopSize512_WinSize512_Sum_AudioCh0|Mean_Acc5_Mean_Mem20_PeakRatio_Chroma_G_Power_powerFFT_WinHamming_HopSize512_WinSize512_Sum_AudioCh0|Mean_Acc5_Mean_Mem20_PeakRatio_Chroma_G#_Power_powerFFT_WinHamming_HopSize512_WinSize512_Sum_AudioCh0|Mean_Acc5_Mean_Mem20_PeakRatio_Average_Chroma_A_Power_powerFFT_WinHamming_HopSize512_WinSize512_Sum_AudioCh0|Mean_Acc5_Mean_Mem20_PeakRatio_Minimum_Chroma_A_Power_powerFFT_WinHamming_HopSize512_WinSize512_Sum_AudioCh0|Mean_Acc5_Std_Mem20_ZeroCrossings_HopSize512_WinSize512_Sum_AudioCh0|Mean_Acc5_Std_Mem20_Centroid_Power_powerFFT_WinHamming_HopSize512_WinSize512_Sum_AudioCh0|Mean_Acc5_Std_Mem20_Rolloff_Power_powerFFT_WinHamming_HopSize512_WinSize512_Sum_AudioCh0|Mean_Acc5_Std_Mem20_Flux_Power_powerFFT_WinHamming_HopSize512_WinSize512_Sum_AudioCh0|Mean_Acc5_Std_Mem20_MFCC0_Power_powerFFT_WinHamming_HopSize512_WinSize512_Sum_AudioCh0|Mean_Acc5_Std_Mem20_MFCC1_Power_powerFFT_WinHamming_HopSize512_WinSize512_Sum_AudioCh0|Mean_Acc5_Std_Mem20_MFCC2_Power_powerFFT_WinHamming_HopSize512_WinSize512_Sum_AudioCh0|Mean_Acc5_Std_Mem20_MFCC3_Power_powerFFT_WinHamming_HopSize512_WinSize512_Sum_AudioCh0|Mean_Acc5_Std_Mem20_MFCC4_Power_powerFFT_WinHamming_HopSize512_WinSize512_Sum_AudioCh0|Mean_Acc5_Std_Mem20_MFCC5_Power_powerFFT_WinHamming_HopSize512_WinSize512_Sum_AudioCh0|Mean_Acc5_Std_Mem20_MFCC6_Power_powerFFT_WinHamming_HopSize512_WinSize512_Sum_AudioCh0|Mean_Acc5_Std_Mem20_MFCC7_Power_powerFFT_WinHamming_HopSize512_WinSize512_Sum_AudioCh0|Mean_Acc5_Std_Mem20_MFCC8_Power_powerFFT_WinHamming_HopSize512_WinSize512_Sum_AudioCh0|Mean_Acc5_Std_Mem20_MFCC9_Power_powerFFT_WinHamming_HopSize512_WinSize512_Sum_AudioCh0|Mean_Acc5_Std_Mem20_MFCC10_Power_powerFFT_WinHamming_HopSize512_WinSize512_Sum_AudioCh0|Mean_Acc5_Std_Mem20_MFCC11_Power_powerFFT_WinHamming_HopSize512_WinSize512_Sum_AudioCh0|Mean_Acc5_Std_Mem20_MFCC12_Power_powerFFT_WinHamming_HopSize512_WinSize512_Sum_AudioCh0|Mean_Acc5_Std_Mem20_PeakRatio_Chroma_A_Power_powerFFT_WinHamming_HopSize512_WinSize512_Sum_AudioCh0|Mean_Acc5_Std_Mem20_PeakRatio_Chroma_A#_Power_powerFFT_WinHamming_HopSize512_WinSize512_Sum_AudioCh0|Mean_Acc5_Std_Mem20_PeakRatio_Chroma_B_Power_powerFFT_WinHamming_HopSize512_WinSize512_Sum_AudioCh0|Mean_Acc5_Std_Mem20_PeakRatio_Chroma_C_Power_powerFFT_WinHamming_HopSize512_WinSize512_Sum_AudioCh0|Mean_Acc5_Std_Mem20_PeakRatio_Chroma_C#_Power_powerFFT_WinHamming_HopSize512_WinSize512_Sum_AudioCh0|Mean_Acc5_Std_Mem20_PeakRatio_Chroma_D_Power_powerFFT_WinHamming_HopSize512_WinSize512_Sum_AudioCh0|Mean_Acc5_Std_Mem20_PeakRatio_Chroma_D#_Power_powerFFT_WinHamming_HopSize512_WinSize512_Sum_AudioCh0|Mean_Acc5_Std_Mem20_PeakRatio_Chroma_E_Power_powerFFT_WinHamming_HopSize512_WinSize512_Sum_AudioCh0|Mean_Acc5_Std_Mem20_PeakRatio_Chroma_F_Power_powerFFT_WinHamming_HopSize512_WinSize512_Sum_AudioCh0|Mean_Acc5_Std_Mem20_PeakRatio_Chroma_F#_Power_powerFFT_WinHamming_HopSize512_WinSize512_Sum_AudioCh0|Mean_Acc5_Std_Mem20_PeakRatio_Chroma_G_Power_powerFFT_WinHamming_HopSize512_WinSize512_Sum_AudioCh0|Mean_Acc5_Std_Mem20_PeakRatio_Chroma_G#_Power_powerFFT_WinHamming_HopSize512_WinSize512_Sum_AudioCh0|Mean_Acc5_Std_Mem20_PeakRatio_Average_Chroma_A_Power_powerFFT_WinHamming_HopSize512_WinSize512_Sum_AudioCh0|Mean_Acc5_Std_Mem20_PeakRatio_Minimum_Chroma_A_Power_powerFFT_WinHamming_HopSize512_WinSize512_Sum_AudioCh0|Std_Acc5_Mean_Mem20_ZeroCrossings_HopSize512_WinSize512_Sum_AudioCh0|Std_Acc5_Mean_Mem20_Centroid_Power_powerFFT_WinHamming_HopSize512_WinSize512_Sum_AudioCh0|Std_Acc5_Mean_Mem20_Rolloff_Power_powerFFT_WinHamming_HopSize512_WinSize512_Sum_AudioCh0|Std_Acc5_Mean_Mem20_Flux_Power_powerFFT_WinHamming_HopSize512_WinSize512_Sum_AudioCh0|Std_Acc5_Mean_Mem20_MFCC0_Power_powerFFT_WinHamming_HopSize512_WinSize512_Sum_AudioCh0|Std_Acc5_Mean_Mem20_MFCC1_Power_powerFFT_WinHamming_HopSize512_WinSize512_Sum_AudioCh0|Std_Acc5_Mean_Mem20_MFCC2_Power_powerFFT_WinHamming_HopSize512_WinSize512_Sum_AudioCh0|Std_Acc5_Mean_Mem20_MFCC3_Power_powerFFT_WinHamming_HopSize512_WinSize512_Sum_AudioCh0|Std_Acc5_Mean_Mem20_MFCC4_Power_powerFFT_WinHamming_HopSize512_WinSize512_Sum_AudioCh0|Std_Acc5_Mean_Mem20_MFCC5_Power_powerFFT_WinHamming_HopSize512_WinSize512_Sum_AudioCh0|Std_Acc5_Mean_Mem20_MFCC6_Power_powerFFT_WinHamming_HopSize512_WinSize512_Sum_AudioCh0|Std_Acc5_Mean_Mem20_MFCC7_Power_powerFFT_WinHamming_HopSize512_WinSize512_Sum_AudioCh0|Std_Acc5_Mean_Mem20_MFCC8_Power_powerFFT_WinHamming_HopSize512_WinSize512_Sum_AudioCh0|Std_Acc5_Mean_Mem20_MFCC9_Power_powerFFT_WinHamming_HopSize512_WinSize512_Sum_AudioCh0|Std_Acc5_Mean_Mem20_MFCC10_Power_powerFFT_WinHamming_HopSize512_WinSize512_Sum_AudioCh0|Std_Acc5_Mean_Mem20_MFCC11_Power_powerFFT_WinHamming_HopSize512_WinSize512_Sum_AudioCh0|Std_Acc5_Mean_Mem20_MFCC12_Power_powerFFT_WinHamming_HopSize512_WinSize512_Sum_AudioCh0|Std_Acc5_Mean_Mem20_PeakRatio_Chroma_A_Power_powerFFT_WinHamming_HopSize512_WinSize512_Sum_AudioCh0|Std_Acc5_Mean_Mem20_PeakRatio_Chroma_A#_Power_powerFFT_WinHamming_HopSize512_WinSize512_Sum_AudioCh0|Std_Acc5_Mean_Mem20_PeakRatio_Chroma_B_Power_powerFFT_WinHamming_HopSize512_WinSize512_Sum_AudioCh0|Std_Acc5_Mean_Mem20_PeakRatio_Chroma_C_Power_powerFFT_WinHamming_HopSize512_WinSize512_Sum_AudioCh0|Std_Acc5_Mean_Mem20_PeakRatio_Chroma_C#_Power_powerFFT_WinHamming_HopSize512_WinSize512_Sum_AudioCh0|Std_Acc5_Mean_Mem20_PeakRatio_Chroma_D_Power_powerFFT_WinHamming_HopSize512_WinSize512_Sum_AudioCh0|Std_Acc5_Mean_Mem20_PeakRatio_Chroma_D#_Power_powerFFT_WinHamming_HopSize512_WinSize512_Sum_AudioCh0|Std_Acc5_Mean_Mem20_PeakRatio_Chroma_E_Power_powerFFT_WinHamming_HopSize512_WinSize512_Sum_AudioCh0|Std_Acc5_Mean_Mem20_PeakRatio_Chroma_F_Power_powerFFT_WinHamming_HopSize512_WinSize512_Sum_AudioCh0|Std_Acc5_Mean_Mem20_PeakRatio_Chroma_F#_Power_powerFFT_WinHamming_HopSize512_WinSize512_Sum_AudioCh0|Std_Acc5_Mean_Mem20_PeakRatio_Chroma_G_Power_powerFFT_WinHamming_HopSize512_WinSize512_Sum_AudioCh0|Std_Acc5_Mean_Mem20_PeakRatio_Chroma_G#_Power_powerFFT_WinHamming_HopSize512_WinSize512_Sum_AudioCh0|Std_Acc5_Mean_Mem20_PeakRatio_Average_Chroma_A_Power_powerFFT_WinHamming_HopSize512_WinSize512_Sum_AudioCh0|Std_Acc5_Mean_Mem20_PeakRatio_Minimum_Chroma_A_Power_powerFFT_WinHamming_HopSize512_WinSize512_Sum_AudioCh0|Std_Acc5_Std_Mem20_ZeroCrossings_HopSize512_WinSize512_Sum_AudioCh0|Std_Acc5_Std_Mem20_Centroid_Power_powerFFT_WinHamming_HopSize512_WinSize512_Sum_AudioCh0|Std_Acc5_Std_Mem20_Rolloff_Power_powerFFT_WinHamming_HopSize512_WinSize512_Sum_AudioCh0|Std_Acc5_Std_Mem20_Flux_Power_powerFFT_WinHamming_HopSize512_WinSize512_Sum_AudioCh0|Std_Acc5_Std_Mem20_MFCC0_Power_powerFFT_WinHamming_HopSize512_WinSize512_Sum_AudioCh0|Std_Acc5_Std_Mem20_MFCC1_Power_powerFFT_WinHamming_HopSize512_WinSize512_Sum_AudioCh0|Std_Acc5_Std_Mem20_MFCC2_Power_powerFFT_WinHamming_HopSize512_WinSize512_Sum_AudioCh0|Std_Acc5_Std_Mem20_MFCC3_Power_powerFFT_WinHamming_HopSize512_WinSize512_Sum_AudioCh0|Std_Acc5_Std_Mem20_MFCC4_Power_powerFFT_WinHamming_HopSize512_WinSize512_Sum_AudioCh0|Std_Acc5_Std_Mem20_MFCC5_Power_powerFFT_WinHamming_HopSize512_WinSize512_Sum_AudioCh0|Std_Acc5_Std_Mem20_MFCC6_Power_powerFFT_WinHamming_HopSize512_WinSize512_Sum_AudioCh0|Std_Acc5_Std_Mem20_MFCC7_Power_powerFFT_WinHamming_HopSize512_WinSize512_Sum_AudioCh0|Std_Acc5_Std_Mem20_MFCC8_Power_powerFFT_WinHamming_HopSize512_WinSize512_Sum_AudioCh0|Std_Acc5_Std_Mem20_MFCC9_Power_powerFFT_WinHamming_HopSize512_WinSize512_Sum_AudioCh0|Std_Acc5_Std_Mem20_MFCC10_Power_powerFFT_WinHamming_HopSize512_WinSize512_Sum_AudioCh0|Std_Acc5_Std_Mem20_MFCC11_Power_powerFFT_WinHamming_HopSize512_WinSize512_Sum_AudioCh0|Std_Acc5_Std_Mem20_MFCC12_Power_powerFFT_WinHamming_HopSize512_WinSize512_Sum_AudioCh0|Std_Acc5_Std_Mem20_PeakRatio_Chroma_A_Power_powerFFT_WinHamming_HopSize512_WinSize512_Sum_AudioCh0|Std_Acc5_Std_Mem20_PeakRatio_Chroma_A#_Power_powerFFT_WinHamming_HopSize512_WinSize512_Sum_AudioCh0|Std_Acc5_Std_Mem20_PeakRatio_Chroma_B_Power_powerFFT_WinHamming_HopSize512_WinSize512_Sum_AudioCh0|Std_Acc5_Std_Mem20_PeakRatio_Chroma_C_Power_powerFFT_WinHamming_HopSize512_WinSize512_Sum_AudioCh0|Std_Acc5_Std_Mem20_PeakRatio_Chroma_C#_Power_powerFFT_WinHamming_HopSize512_WinSize512_Sum_AudioCh0|Std_Acc5_Std_Mem20_PeakRatio_Chroma_D_Power_powerFFT_WinHamming_HopSize512_WinSize512_Sum_AudioCh0|Std_Acc5_Std_Mem20_PeakRatio_Chroma_D#_Power_powerFFT_WinHamming_HopSize512_WinSize512_Sum_AudioCh0|Std_Acc5_Std_Mem20_PeakRatio_Chroma_E_Power_powerFFT_WinHamming_HopSize512_WinSize512_Sum_AudioCh0|Std_Acc5_Std_Mem20_PeakRatio_Chroma_F_Power_powerFFT_WinHamming_HopSize512_WinSize512_Sum_AudioCh0|Std_Acc5_Std_Mem20_PeakRatio_Chroma_F#_Power_powerFFT_WinHamming_HopSize512_WinSize512_Sum_AudioCh0|Std_Acc5_Std_Mem20_PeakRatio_Chroma_G_Power_powerFFT_WinHamming_HopSize512_WinSize512_Sum_AudioCh0|Std_Acc5_Std_Mem20_PeakRatio_Chroma_G#_Power_powerFFT_WinHamming_HopSize512_WinSize512_Sum_AudioCh0|Std_Acc5_Std_Mem20_PeakRatio_Average_Chroma_A_Power_powerFFT_WinHamming_HopSize512_WinSize512_Sum_AudioCh0|Std_Acc5_Std_Mem20_PeakRatio_Minimum_Chroma_A_Power_powerFFT_WinHamming_HopSize512_WinSize512_Sum_AudioCh0|\n",
      "+------------------+---------------------------------------------------+---------------------------------------------------+---------------------------------------------------+---------------------------------------------------+---------------------------------------------------+---------------------------------------------------+---------------------------------------------------+---------------------------------------------------+---------------------------------------------------+----------------------------------------------------+----------------------------------------+----------------------------------------+----------------------------------------+----------------------------------------+----------------------------------------+----------------------------------------+----------------------------------------+----------------------------------------+----------------------------------------+-----------------------------------------+--------------------------------+--------------------------------+--------------------------------+--------------------------------+--------------------------------+--------------------------------+--------------------------------+--------------------------------+--------------------------------+---------------------------------+---------------------+---------------------+---------------------+---------------------+---------------------+---------------------+---------------------+---------------------+---------------------+----------------------+----------------------------------------------+---------------------------------------------------+------------------------------------------+----------------------------------------+-------------------------------------------------+---------------------------------------------+-----------------------------------------------------------+-------------------------------------------+-----------------------------------+----------------------------------------+-------------------------------+-----------------------------+--------------------------------------+----------------------------------+------------------------------------------------+--------------------------------+---------------------------------------------------------------------+------------------------------------------------------------------------------------------+-----------------------------------------------------------------------------------------+--------------------------------------------------------------------------------------+---------------------------------------------------------------------------------------+---------------------------------------------------------------------------------------+---------------------------------------------------------------------------------------+---------------------------------------------------------------------------------------+---------------------------------------------------------------------------------------+---------------------------------------------------------------------------------------+---------------------------------------------------------------------------------------+---------------------------------------------------------------------------------------+---------------------------------------------------------------------------------------+---------------------------------------------------------------------------------------+----------------------------------------------------------------------------------------+----------------------------------------------------------------------------------------+----------------------------------------------------------------------------------------+----------------------------------------------------------------------------------------------------+-----------------------------------------------------------------------------------------------------+----------------------------------------------------------------------------------------------------+----------------------------------------------------------------------------------------------------+-----------------------------------------------------------------------------------------------------+----------------------------------------------------------------------------------------------------+-----------------------------------------------------------------------------------------------------+----------------------------------------------------------------------------------------------------+----------------------------------------------------------------------------------------------------+-----------------------------------------------------------------------------------------------------+----------------------------------------------------------------------------------------------------+-----------------------------------------------------------------------------------------------------+------------------------------------------------------------------------------------------------------------+------------------------------------------------------------------------------------------------------------+--------------------------------------------------------------------+-----------------------------------------------------------------------------------------+----------------------------------------------------------------------------------------+-------------------------------------------------------------------------------------+--------------------------------------------------------------------------------------+--------------------------------------------------------------------------------------+--------------------------------------------------------------------------------------+--------------------------------------------------------------------------------------+--------------------------------------------------------------------------------------+--------------------------------------------------------------------------------------+--------------------------------------------------------------------------------------+--------------------------------------------------------------------------------------+--------------------------------------------------------------------------------------+--------------------------------------------------------------------------------------+---------------------------------------------------------------------------------------+---------------------------------------------------------------------------------------+---------------------------------------------------------------------------------------+---------------------------------------------------------------------------------------------------+----------------------------------------------------------------------------------------------------+---------------------------------------------------------------------------------------------------+---------------------------------------------------------------------------------------------------+----------------------------------------------------------------------------------------------------+---------------------------------------------------------------------------------------------------+----------------------------------------------------------------------------------------------------+---------------------------------------------------------------------------------------------------+---------------------------------------------------------------------------------------------------+----------------------------------------------------------------------------------------------------+---------------------------------------------------------------------------------------------------+----------------------------------------------------------------------------------------------------+-----------------------------------------------------------------------------------------------------------+-----------------------------------------------------------------------------------------------------------+--------------------------------------------------------------------+-----------------------------------------------------------------------------------------+----------------------------------------------------------------------------------------+-------------------------------------------------------------------------------------+--------------------------------------------------------------------------------------+--------------------------------------------------------------------------------------+--------------------------------------------------------------------------------------+--------------------------------------------------------------------------------------+--------------------------------------------------------------------------------------+--------------------------------------------------------------------------------------+--------------------------------------------------------------------------------------+--------------------------------------------------------------------------------------+--------------------------------------------------------------------------------------+--------------------------------------------------------------------------------------+---------------------------------------------------------------------------------------+---------------------------------------------------------------------------------------+---------------------------------------------------------------------------------------+---------------------------------------------------------------------------------------------------+----------------------------------------------------------------------------------------------------+---------------------------------------------------------------------------------------------------+---------------------------------------------------------------------------------------------------+----------------------------------------------------------------------------------------------------+---------------------------------------------------------------------------------------------------+----------------------------------------------------------------------------------------------------+---------------------------------------------------------------------------------------------------+---------------------------------------------------------------------------------------------------+----------------------------------------------------------------------------------------------------+---------------------------------------------------------------------------------------------------+----------------------------------------------------------------------------------------------------+-----------------------------------------------------------------------------------------------------------+-----------------------------------------------------------------------------------------------------------+-------------------------------------------------------------------+----------------------------------------------------------------------------------------+---------------------------------------------------------------------------------------+------------------------------------------------------------------------------------+-------------------------------------------------------------------------------------+-------------------------------------------------------------------------------------+-------------------------------------------------------------------------------------+-------------------------------------------------------------------------------------+-------------------------------------------------------------------------------------+-------------------------------------------------------------------------------------+-------------------------------------------------------------------------------------+-------------------------------------------------------------------------------------+-------------------------------------------------------------------------------------+-------------------------------------------------------------------------------------+--------------------------------------------------------------------------------------+--------------------------------------------------------------------------------------+--------------------------------------------------------------------------------------+--------------------------------------------------------------------------------------------------+---------------------------------------------------------------------------------------------------+--------------------------------------------------------------------------------------------------+--------------------------------------------------------------------------------------------------+---------------------------------------------------------------------------------------------------+--------------------------------------------------------------------------------------------------+---------------------------------------------------------------------------------------------------+--------------------------------------------------------------------------------------------------+--------------------------------------------------------------------------------------------------+---------------------------------------------------------------------------------------------------+--------------------------------------------------------------------------------------------------+---------------------------------------------------------------------------------------------------+----------------------------------------------------------------------------------------------------------+----------------------------------------------------------------------------------------------------------+\n",
      "|TRAAABD128F429CF47|                                              1.087|                                             3359.0|                                            20300.0|                                         40050000.0|                                        239600000.0|                                       1433000000.0|                                          8.817e+11|                                       2141000000.0|                                      12810000000.0|                                           1.869e+14|                                   2.482|                                  5768.0|                                 33690.0|                             -44520000.0|                            -262300000.0|                           -1545000000.0|                               7.736e+11|                            2335000000.0|                           13770000000.0|                                1.603e+14|                         0.05756|                          0.1586|                          0.2605|                          0.1745|                          0.1653|                          0.1204|                          0.1106|                         0.09114|                         0.08305|                              0.0|               -0.975|               0.6324|              -0.2499|               0.1276|              -0.0364|              0.02161|             -0.00485|              0.00977|              0.01568|                   0.0|                                         6.229|                                             0.0534|                                  0.001519|                                   172.5|                                         0.001557|                                      0.05665|                                                     0.0558|                                      16.23|                              9.114|                                 0.06159|                        0.00109|                       1626.0|                              0.002902|                            0.1126|                                          0.5304|                            27.0|                                                             0.054683|                                                                                  0.037942|                                                                                 0.101108|                                                                              0.098841|                                                                             -45.660258|                                                                               4.627341|                                                                              -0.134918|                                                                               0.679839|                                                                               0.163120|                                                                               0.150807|                                                                              -0.033593|                                                                               0.277817|                                                                              -0.051685|                                                                               0.253489|                                                                                0.232986|                                                                                0.240197|                                                                                0.351326|                                                                                            0.000587|                                                                                             0.000563|                                                                                            0.000593|                                                                                            0.000656|                                                                                             0.000723|                                                                                            0.000762|                                                                                             0.000778|                                                                                            0.000796|                                                                                            0.000786|                                                                                             0.000737|                                                                                            0.000672|                                                                                             0.000633|                                                                                                    1.448878|                                                                                                    2.517609|                                                            0.019457|                                                                                 0.015288|                                                                                0.079243|                                                                             0.047049|                                                                              2.161908|                                                                              0.934234|                                                                              0.675816|                                                                              0.703396|                                                                              0.611476|                                                                              0.588765|                                                                              0.563407|                                                                              0.577838|                                                                              0.569382|                                                                              0.540302|                                                                               0.517572|                                                                               0.502687|                                                                               0.481581|                                                                                           0.000414|                                                                                            0.000392|                                                                                           0.000414|                                                                                           0.000466|                                                                                            0.000518|                                                                                           0.000552|                                                                                            0.000575|                                                                                           0.000594|                                                                                           0.000596|                                                                                            0.000559|                                                                                           0.000504|                                                                                            0.000460|                                                                                                   0.266905|                                                                                                   1.261893|                                                            0.022515|                                                                                 0.030767|                                                                                0.087944|                                                                             0.051330|                                                                              3.699128|                                                                              1.031595|                                                                              0.729998|                                                                              0.749560|                                                                              0.508797|                                                                              0.420580|                                                                              0.417530|                                                                              0.481978|                                                                              0.423588|                                                                              0.419790|                                                                               0.342876|                                                                               0.334146|                                                                               0.380373|                                                                                           0.000361|                                                                                            0.000347|                                                                                           0.000386|                                                                                           0.000414|                                                                                            0.000450|                                                                                           0.000457|                                                                                            0.000472|                                                                                           0.000487|                                                                                           0.000480|                                                                                            0.000451|                                                                                           0.000410|                                                                                            0.000394|                                                                                                   0.241177|                                                                                                   1.166999|                                                           0.011003|                                                                                0.017699|                                                                               0.108200|                                                                            0.032203|                                                                             2.759508|                                                                             0.377206|                                                                             0.178761|                                                                             0.202810|                                                                             0.131032|                                                                             0.133118|                                                                             0.118045|                                                                             0.127260|                                                                             0.129713|                                                                             0.108904|                                                                              0.108745|                                                                              0.093211|                                                                              0.100551|                                                                                          0.000261|                                                                                           0.000249|                                                                                          0.000275|                                                                                          0.000302|                                                                                           0.000336|                                                                                          0.000331|                                                                                           0.000342|                                                                                          0.000349|                                                                                          0.000345|                                                                                           0.000326|                                                                                          0.000293|                                                                                           0.000282|                                                                                                  0.202831|                                                                                                  1.670989|\n",
      "|TRAAADZ128F9348C2E|                                              1.384|                                             3355.0|                                            12670.0|                                         39930000.0|                                        152000000.0|                                        578200000.0|                                          8.778e+11|                                       1362000000.0|                                       5186000000.0|                                           4.863e+13|                                   3.763|                                  5759.0|                                 21700.0|                             -44380000.0|                            -167300000.0|                            -630200000.0|                               7.701e+11|                            1496000000.0|                            5641000000.0|                                4.148e+13|                          0.0529|                          0.1831|                          0.2688|                           0.143|                          0.1093|                         0.08803|                         0.07292|                         0.06914|                         0.06929|                              0.0|              -0.9855|               0.7186|              0.03637|             0.008855|             -0.01208|             0.003652|            -0.004604|             -0.01037|             0.003968|                   0.0|                                         4.187|                                            0.03719|                                  0.001638|                                   207.4|                                         0.002156|                                      0.07978|                                                    0.07485|                                      9.204|                              7.872|                                 0.04936|                       0.001605|                       1621.0|                              0.005229|                            0.2006|                                          0.4524|                           18.98|                                                             0.038928|                                                                                  0.032664|                                                                                 0.070905|                                                                              0.103928|                                                                             -43.430257|                                                                               6.516206|                                                                              -0.871449|                                                                               1.018064|                                                                              -0.008967|                                                                              -0.154448|                                                                               0.139960|                                                                               0.201224|                                                                              -0.198088|                                                                               0.215511|                                                                                0.043666|                                                                                0.198173|                                                                               -0.005376|                                                                                            0.001611|                                                                                             0.001797|                                                                                            0.001798|                                                                                            0.001815|                                                                                             0.001840|                                                                                            0.002037|                                                                                             0.002058|                                                                                            0.002073|                                                                                            0.001981|                                                                                             0.001688|                                                                                            0.001555|                                                                                             0.001516|                                                                                                    1.604289|                                                                                                    3.406271|                                                            0.010748|                                                                                 0.009080|                                                                                0.042640|                                                                             0.057635|                                                                              1.577409|                                                                              0.788969|                                                                              0.699086|                                                                              0.725212|                                                                              0.670986|                                                                              0.598860|                                                                              0.582275|                                                                              0.518552|                                                                              0.494691|                                                                              0.485615|                                                                               0.473152|                                                                               0.470138|                                                                               0.423775|                                                                                           0.000825|                                                                                            0.000929|                                                                                           0.000966|                                                                                           0.001010|                                                                                            0.000978|                                                                                           0.001021|                                                                                            0.000992|                                                                                           0.000979|                                                                                           0.000955|                                                                                            0.000827|                                                                                           0.000783|                                                                                            0.000778|                                                                                                   0.272812|                                                                                                   1.589168|                                                            0.012067|                                                                                 0.027884|                                                                                0.072206|                                                                             0.051684|                                                                              3.955280|                                                                              1.222340|                                                                              0.808461|                                                                              1.085728|                                                                              0.891388|                                                                              0.809062|                                                                              0.626609|                                                                              0.432633|                                                                              0.398482|                                                                              0.369732|                                                                               0.380121|                                                                               0.433448|                                                                               0.334429|                                                                                           0.000841|                                                                                            0.000941|                                                                                           0.000898|                                                                                           0.000984|                                                                                            0.000975|                                                                                           0.001184|                                                                                            0.001174|                                                                                           0.001149|                                                                                           0.001190|                                                                                            0.000909|                                                                                           0.000818|                                                                                            0.000790|                                                                                                   0.323284|                                                                                                   2.252672|                                                           0.008838|                                                                                0.017019|                                                                               0.082786|                                                                            0.032790|                                                                             2.819930|                                                                             0.326145|                                                                             0.253675|                                                                             0.319009|                                                                             0.290899|                                                                             0.195633|                                                                             0.179677|                                                                             0.143953|                                                                             0.124527|                                                                             0.131661|                                                                              0.127307|                                                                              0.120289|                                                                              0.108325|                                                                                          0.000464|                                                                                           0.000501|                                                                                          0.000532|                                                                                          0.000596|                                                                                           0.000587|                                                                                          0.000573|                                                                                           0.000550|                                                                                          0.000537|                                                                                          0.000538|                                                                                           0.000485|                                                                                          0.000463|                                                                                           0.000456|                                                                                                  0.146757|                                                                                                  1.726367|\n",
      "+------------------+---------------------------------------------------+---------------------------------------------------+---------------------------------------------------+---------------------------------------------------+---------------------------------------------------+---------------------------------------------------+---------------------------------------------------+---------------------------------------------------+---------------------------------------------------+----------------------------------------------------+----------------------------------------+----------------------------------------+----------------------------------------+----------------------------------------+----------------------------------------+----------------------------------------+----------------------------------------+----------------------------------------+----------------------------------------+-----------------------------------------+--------------------------------+--------------------------------+--------------------------------+--------------------------------+--------------------------------+--------------------------------+--------------------------------+--------------------------------+--------------------------------+---------------------------------+---------------------+---------------------+---------------------+---------------------+---------------------+---------------------+---------------------+---------------------+---------------------+----------------------+----------------------------------------------+---------------------------------------------------+------------------------------------------+----------------------------------------+-------------------------------------------------+---------------------------------------------+-----------------------------------------------------------+-------------------------------------------+-----------------------------------+----------------------------------------+-------------------------------+-----------------------------+--------------------------------------+----------------------------------+------------------------------------------------+--------------------------------+---------------------------------------------------------------------+------------------------------------------------------------------------------------------+-----------------------------------------------------------------------------------------+--------------------------------------------------------------------------------------+---------------------------------------------------------------------------------------+---------------------------------------------------------------------------------------+---------------------------------------------------------------------------------------+---------------------------------------------------------------------------------------+---------------------------------------------------------------------------------------+---------------------------------------------------------------------------------------+---------------------------------------------------------------------------------------+---------------------------------------------------------------------------------------+---------------------------------------------------------------------------------------+---------------------------------------------------------------------------------------+----------------------------------------------------------------------------------------+----------------------------------------------------------------------------------------+----------------------------------------------------------------------------------------+----------------------------------------------------------------------------------------------------+-----------------------------------------------------------------------------------------------------+----------------------------------------------------------------------------------------------------+----------------------------------------------------------------------------------------------------+-----------------------------------------------------------------------------------------------------+----------------------------------------------------------------------------------------------------+-----------------------------------------------------------------------------------------------------+----------------------------------------------------------------------------------------------------+----------------------------------------------------------------------------------------------------+-----------------------------------------------------------------------------------------------------+----------------------------------------------------------------------------------------------------+-----------------------------------------------------------------------------------------------------+------------------------------------------------------------------------------------------------------------+------------------------------------------------------------------------------------------------------------+--------------------------------------------------------------------+-----------------------------------------------------------------------------------------+----------------------------------------------------------------------------------------+-------------------------------------------------------------------------------------+--------------------------------------------------------------------------------------+--------------------------------------------------------------------------------------+--------------------------------------------------------------------------------------+--------------------------------------------------------------------------------------+--------------------------------------------------------------------------------------+--------------------------------------------------------------------------------------+--------------------------------------------------------------------------------------+--------------------------------------------------------------------------------------+--------------------------------------------------------------------------------------+--------------------------------------------------------------------------------------+---------------------------------------------------------------------------------------+---------------------------------------------------------------------------------------+---------------------------------------------------------------------------------------+---------------------------------------------------------------------------------------------------+----------------------------------------------------------------------------------------------------+---------------------------------------------------------------------------------------------------+---------------------------------------------------------------------------------------------------+----------------------------------------------------------------------------------------------------+---------------------------------------------------------------------------------------------------+----------------------------------------------------------------------------------------------------+---------------------------------------------------------------------------------------------------+---------------------------------------------------------------------------------------------------+----------------------------------------------------------------------------------------------------+---------------------------------------------------------------------------------------------------+----------------------------------------------------------------------------------------------------+-----------------------------------------------------------------------------------------------------------+-----------------------------------------------------------------------------------------------------------+--------------------------------------------------------------------+-----------------------------------------------------------------------------------------+----------------------------------------------------------------------------------------+-------------------------------------------------------------------------------------+--------------------------------------------------------------------------------------+--------------------------------------------------------------------------------------+--------------------------------------------------------------------------------------+--------------------------------------------------------------------------------------+--------------------------------------------------------------------------------------+--------------------------------------------------------------------------------------+--------------------------------------------------------------------------------------+--------------------------------------------------------------------------------------+--------------------------------------------------------------------------------------+--------------------------------------------------------------------------------------+---------------------------------------------------------------------------------------+---------------------------------------------------------------------------------------+---------------------------------------------------------------------------------------+---------------------------------------------------------------------------------------------------+----------------------------------------------------------------------------------------------------+---------------------------------------------------------------------------------------------------+---------------------------------------------------------------------------------------------------+----------------------------------------------------------------------------------------------------+---------------------------------------------------------------------------------------------------+----------------------------------------------------------------------------------------------------+---------------------------------------------------------------------------------------------------+---------------------------------------------------------------------------------------------------+----------------------------------------------------------------------------------------------------+---------------------------------------------------------------------------------------------------+----------------------------------------------------------------------------------------------------+-----------------------------------------------------------------------------------------------------------+-----------------------------------------------------------------------------------------------------------+-------------------------------------------------------------------+----------------------------------------------------------------------------------------+---------------------------------------------------------------------------------------+------------------------------------------------------------------------------------+-------------------------------------------------------------------------------------+-------------------------------------------------------------------------------------+-------------------------------------------------------------------------------------+-------------------------------------------------------------------------------------+-------------------------------------------------------------------------------------+-------------------------------------------------------------------------------------+-------------------------------------------------------------------------------------+-------------------------------------------------------------------------------------+-------------------------------------------------------------------------------------+-------------------------------------------------------------------------------------+--------------------------------------------------------------------------------------+--------------------------------------------------------------------------------------+--------------------------------------------------------------------------------------+--------------------------------------------------------------------------------------------------+---------------------------------------------------------------------------------------------------+--------------------------------------------------------------------------------------------------+--------------------------------------------------------------------------------------------------+---------------------------------------------------------------------------------------------------+--------------------------------------------------------------------------------------------------+---------------------------------------------------------------------------------------------------+--------------------------------------------------------------------------------------------------+--------------------------------------------------------------------------------------------------+---------------------------------------------------------------------------------------------------+--------------------------------------------------------------------------------------------------+---------------------------------------------------------------------------------------------------+----------------------------------------------------------------------------------------------------------+----------------------------------------------------------------------------------------------------------+\n",
      "only showing top 2 rows\n",
      "\n"
     ]
    },
    {
     "name": "stderr",
     "output_type": "stream",
     "text": [
      "[Stage 255:>                                                        (0 + 8) / 9]"
     ]
    },
    {
     "name": "stdout",
     "output_type": "stream",
     "text": [
      "Final row count after join: 994594\n"
     ]
    },
    {
     "name": "stderr",
     "output_type": "stream",
     "text": [
      "                                                                                "
     ]
    }
   ],
   "source": [
    "from pyspark.sql.functions import regexp_replace, trim, upper\n",
    "\n",
    "\n",
    "# Define file paths\n",
    "area_file = \"audio/features/msd-jmir-area-of-moments-all-v1.0.csv\"\n",
    "lpc_file = \"audio/features/msd-jmir-lpc-all-v1.0.csv\"\n",
    "spec_file = \"audio/features/msd-jmir-spectral-all-all-v1.0.csv\"\n",
    "marsyas_file = \"audio/features/msd-marsyas-timbral-v1.0.csv\"\n",
    "\n",
    "area_attr_file = \"audio/attributes/msd-jmir-area-of-moments-all-v1.0.attributes.csv\"\n",
    "lpc_attr_file = \"audio/attributes/msd-jmir-lpc-all-v1.0.attributes.csv\"\n",
    "spec_attr_file = \"audio/attributes/msd-jmir-spectral-all-all-v1.0.attributes.csv\"\n",
    "marsyas_attr_file = \"audio/attributes/msd-marsyas-timbral-v1.0.attributes.csv\"\n",
    "\n",
    "# Read schema from .attributes.csv file\n",
    "def read_schema(attr_path):\n",
    "    attr_df = spark.read.option(\"header\", \"false\").csv(base_path + attr_path)\n",
    "    return [row[0] for row in attr_df.collect()]\n",
    "\n",
    "# Load and clean a dataset using its feature and attribute file\n",
    "def load_feature_file(feature_file, attr_file):\n",
    "    column_names = read_schema(attr_file)\n",
    "    column_names[-1] = \"MSD_TRACKID\"  # Assign proper name to last column\n",
    "    df = spark.read.option(\"header\", \"false\").csv(base_path + feature_file)\n",
    "    for i, name in enumerate(column_names):\n",
    "        df = df.withColumnRenamed(f\"_c{i}\", name)\n",
    "       # Clean and normalize track_id\n",
    "    df = df.withColumn(\"track_id\", upper(trim(regexp_replace(\"MSD_TRACKID\", \"^$'|'\", \"\"))))\n",
    "    if \"area\" in feature_file:\n",
    "        df = df.dropDuplicates([\"track_id\"])\n",
    "    return df.drop(\"MSD_TRACKID\")\n",
    "\n",
    "# Load all datasets\n",
    "area_df = load_feature_file(area_file, area_attr_file)\n",
    "lpc_df = load_feature_file(lpc_file, lpc_attr_file)\n",
    "spec_df = load_feature_file(spec_file, spec_attr_file)\n",
    "marsyas_df = load_feature_file(marsyas_file, marsyas_attr_file)\n",
    "\n",
    "# Perform inner joins step by step\n",
    "merged_df = area_df.join(lpc_df, on=\"track_id\", how=\"inner\") \\\n",
    "                   .join(spec_df, on=\"track_id\", how=\"inner\") \\\n",
    "                   .join(marsyas_df, on=\"track_id\", how=\"inner\")\n",
    "\n",
    "# Show a sample\n",
    "merged_df.show(2)\n",
    "print(\"Final row count after join:\", merged_df.count())"
   ]
  },
  {
   "cell_type": "code",
   "execution_count": 34,
   "id": "70a73df4-1a38-408e-ac89-7029deefe8c7",
   "metadata": {},
   "outputs": [
    {
     "name": "stderr",
     "output_type": "stream",
     "text": [
      "                                                                                "
     ]
    },
    {
     "name": "stdout",
     "output_type": "stream",
     "text": [
      "Area rows: 994605 Unique track_ids: 994605\n",
      "LPC rows: 994623 Unique track_ids: 994623\n"
     ]
    },
    {
     "name": "stderr",
     "output_type": "stream",
     "text": [
      "                                                                                "
     ]
    },
    {
     "name": "stdout",
     "output_type": "stream",
     "text": [
      "Spectral rows: 994623 Unique track_ids: 994623\n"
     ]
    },
    {
     "name": "stderr",
     "output_type": "stream",
     "text": [
      "[Stage 292:============================>                            (4 + 4) / 8]"
     ]
    },
    {
     "name": "stdout",
     "output_type": "stream",
     "text": [
      "Marsyas rows: 995001 Unique track_ids: 995001\n"
     ]
    },
    {
     "name": "stderr",
     "output_type": "stream",
     "text": [
      "                                                                                "
     ]
    }
   ],
   "source": [
    "print(\"Area rows:\", area_df.count(), \"Unique track_ids:\", area_df.select(\"track_id\").distinct().count())\n",
    "print(\"LPC rows:\", lpc_df.count(), \"Unique track_ids:\", lpc_df.select(\"track_id\").distinct().count())\n",
    "print(\"Spectral rows:\", spec_df.count(), \"Unique track_ids:\", spec_df.select(\"track_id\").distinct().count())\n",
    "print(\"Marsyas rows:\", marsyas_df.count(), \"Unique track_ids:\", marsyas_df.select(\"track_id\").distinct().count())"
   ]
  },
  {
   "cell_type": "code",
   "execution_count": 35,
   "id": "f1859752-f144-42f0-adcf-7014ecde232c",
   "metadata": {},
   "outputs": [],
   "source": [
    "# Get all column names\n",
    "all_cols = merged_df.columns\n",
    "\n",
    "# Skip 'track_id'\n",
    "feature_cols = all_cols[1:]\n",
    "\n",
    "# Define split ranges\n",
    "aom_range = feature_cols[:20]\n",
    "lpc_range = feature_cols[20:40]\n",
    "spec_range = feature_cols[40:50]\n",
    "mt_range = feature_cols[50:]\n",
    "\n",
    "# Build new names\n",
    "rename_map = {}\n",
    "\n",
    "rename_map.update({col: f\"aom_{i+1}\" for i, col in enumerate(aom_range)})\n",
    "rename_map.update({col: f\"lpc_{i+1}\" for i, col in enumerate(lpc_range)})\n",
    "rename_map.update({col: f\"spec_{i+1}\" for i, col in enumerate(spec_range)})\n",
    "rename_map.update({col: f\"mt_{i+1}\" for i, col in enumerate(mt_range)})\n",
    "\n",
    "# Apply renaming\n",
    "for old_col, new_col in rename_map.items():\n",
    "    merged_df = merged_df.withColumnRenamed(old_col, new_col)"
   ]
  },
  {
   "cell_type": "code",
   "execution_count": 36,
   "id": "b44d09ac-00a4-4456-a29b-09ed76dca561",
   "metadata": {},
   "outputs": [
    {
     "name": "stderr",
     "output_type": "stream",
     "text": [
      "[Stage 301:=================================================>       (7 + 1) / 8]"
     ]
    },
    {
     "name": "stdout",
     "output_type": "stream",
     "text": [
      "+------------------+------+------+-------+-----------+------------+------------+---------+-------------+-------------+---------+------+-------+-------+------------+-------------+-------------+---------+-------------+-------------+---------+-------+------+------+------+------+-------+-------+-------+-------+------+-------+------+--------+--------+--------+--------+---------+--------+--------+------+------+-------+---------+------+--------+-------+-------+------+------+-------+---------+------+--------+-------+------+-----+--------+--------+--------+--------+----------+--------+---------+--------+---------+---------+---------+---------+---------+---------+--------+---------+---------+--------+--------+--------+--------+--------+--------+--------+--------+--------+--------+--------+--------+--------+---------+--------+--------+--------+--------+--------+--------+--------+--------+--------+--------+--------+--------+--------+--------+--------+--------+--------+--------+--------+--------+--------+--------+--------+--------+--------+--------+--------+--------+--------+--------+---------+--------+--------+--------+--------+--------+--------+--------+--------+--------+--------+--------+--------+--------+--------+--------+--------+--------+--------+--------+--------+--------+--------+--------+--------+--------+--------+--------+--------+--------+--------+---------+--------+--------+--------+--------+--------+--------+--------+--------+--------+--------+--------+--------+--------+--------+--------+--------+--------+--------+--------+--------+--------+--------+--------+--------+--------+--------+--------+--------+--------+--------+---------+\n",
      "|          track_id| aom_1| aom_2|  aom_3|      aom_4|       aom_5|       aom_6|    aom_7|        aom_8|        aom_9|   aom_10|aom_11| aom_12| aom_13|      aom_14|       aom_15|       aom_16|   aom_17|       aom_18|       aom_19|   aom_20|  lpc_1| lpc_2| lpc_3| lpc_4| lpc_5|  lpc_6|  lpc_7|  lpc_8|  lpc_9|lpc_10| lpc_11|lpc_12|  lpc_13|  lpc_14|  lpc_15|  lpc_16|   lpc_17|  lpc_18|  lpc_19|lpc_20|spec_1| spec_2|   spec_3|spec_4|  spec_5| spec_6| spec_7|spec_8|spec_9|spec_10|     mt_1|  mt_2|    mt_3|   mt_4|  mt_5| mt_6|    mt_7|    mt_8|    mt_9|   mt_10|     mt_11|   mt_12|    mt_13|   mt_14|    mt_15|    mt_16|    mt_17|    mt_18|    mt_19|    mt_20|   mt_21|    mt_22|    mt_23|   mt_24|   mt_25|   mt_26|   mt_27|   mt_28|   mt_29|   mt_30|   mt_31|   mt_32|   mt_33|   mt_34|   mt_35|   mt_36|    mt_37|   mt_38|   mt_39|   mt_40|   mt_41|   mt_42|   mt_43|   mt_44|   mt_45|   mt_46|   mt_47|   mt_48|   mt_49|   mt_50|   mt_51|   mt_52|   mt_53|   mt_54|   mt_55|   mt_56|   mt_57|   mt_58|   mt_59|   mt_60|   mt_61|   mt_62|   mt_63|   mt_64|   mt_65|   mt_66|   mt_67|    mt_68|   mt_69|   mt_70|   mt_71|   mt_72|   mt_73|   mt_74|   mt_75|   mt_76|   mt_77|   mt_78|   mt_79|   mt_80|   mt_81|   mt_82|   mt_83|   mt_84|   mt_85|   mt_86|   mt_87|   mt_88|   mt_89|   mt_90|   mt_91|   mt_92|   mt_93|   mt_94|   mt_95|   mt_96|   mt_97|   mt_98|    mt_99|  mt_100|  mt_101|  mt_102|  mt_103|  mt_104|  mt_105|  mt_106|  mt_107|  mt_108|  mt_109|  mt_110|  mt_111|  mt_112|  mt_113|  mt_114|  mt_115|  mt_116|  mt_117|  mt_118|  mt_119|  mt_120|  mt_121|  mt_122|  mt_123|  mt_124|  mt_125|  mt_126|  mt_127|  mt_128|  mt_129|   mt_130|\n",
      "+------------------+------+------+-------+-----------+------------+------------+---------+-------------+-------------+---------+------+-------+-------+------------+-------------+-------------+---------+-------------+-------------+---------+-------+------+------+------+------+-------+-------+-------+-------+------+-------+------+--------+--------+--------+--------+---------+--------+--------+------+------+-------+---------+------+--------+-------+-------+------+------+-------+---------+------+--------+-------+------+-----+--------+--------+--------+--------+----------+--------+---------+--------+---------+---------+---------+---------+---------+---------+--------+---------+---------+--------+--------+--------+--------+--------+--------+--------+--------+--------+--------+--------+--------+--------+---------+--------+--------+--------+--------+--------+--------+--------+--------+--------+--------+--------+--------+--------+--------+--------+--------+--------+--------+--------+--------+--------+--------+--------+--------+--------+--------+--------+--------+--------+--------+---------+--------+--------+--------+--------+--------+--------+--------+--------+--------+--------+--------+--------+--------+--------+--------+--------+--------+--------+--------+--------+--------+--------+--------+--------+--------+--------+--------+--------+--------+--------+---------+--------+--------+--------+--------+--------+--------+--------+--------+--------+--------+--------+--------+--------+--------+--------+--------+--------+--------+--------+--------+--------+--------+--------+--------+--------+--------+--------+--------+--------+--------+---------+\n",
      "|TRAAABD128F429CF47| 1.087|3359.0|20300.0| 40050000.0| 239600000.0|1433000000.0|8.817e+11| 2141000000.0|12810000000.0|1.869e+14| 2.482| 5768.0|33690.0| -44520000.0| -262300000.0|-1545000000.0|7.736e+11| 2335000000.0|13770000000.0|1.603e+14|0.05756|0.1586|0.2605|0.1745|0.1653| 0.1204| 0.1106|0.09114|0.08305|   0.0| -0.975|0.6324| -0.2499|  0.1276| -0.0364| 0.02161| -0.00485| 0.00977| 0.01568|   0.0| 6.229| 0.0534| 0.001519| 172.5|0.001557|0.05665| 0.0558| 16.23| 9.114|0.06159|  0.00109|1626.0|0.002902| 0.1126|0.5304| 27.0|0.054683|0.037942|0.101108|0.098841|-45.660258|4.627341|-0.134918|0.679839| 0.163120| 0.150807|-0.033593| 0.277817|-0.051685| 0.253489|0.232986| 0.240197| 0.351326|0.000587|0.000563|0.000593|0.000656|0.000723|0.000762|0.000778|0.000796|0.000786|0.000737|0.000672|0.000633|1.448878| 2.517609|0.019457|0.015288|0.079243|0.047049|2.161908|0.934234|0.675816|0.703396|0.611476|0.588765|0.563407|0.577838|0.569382|0.540302|0.517572|0.502687|0.481581|0.000414|0.000392|0.000414|0.000466|0.000518|0.000552|0.000575|0.000594|0.000596|0.000559|0.000504|0.000460|0.266905| 1.261893|0.022515|0.030767|0.087944|0.051330|3.699128|1.031595|0.729998|0.749560|0.508797|0.420580|0.417530|0.481978|0.423588|0.419790|0.342876|0.334146|0.380373|0.000361|0.000347|0.000386|0.000414|0.000450|0.000457|0.000472|0.000487|0.000480|0.000451|0.000410|0.000394|0.241177| 1.166999|0.011003|0.017699|0.108200|0.032203|2.759508|0.377206|0.178761|0.202810|0.131032|0.133118|0.118045|0.127260|0.129713|0.108904|0.108745|0.093211|0.100551|0.000261|0.000249|0.000275|0.000302|0.000336|0.000331|0.000342|0.000349|0.000345|0.000326|0.000293|0.000282|0.202831| 1.670989|\n",
      "|TRAAADZ128F9348C2E| 1.384|3355.0|12670.0| 39930000.0| 152000000.0| 578200000.0|8.778e+11| 1362000000.0| 5186000000.0|4.863e+13| 3.763| 5759.0|21700.0| -44380000.0| -167300000.0| -630200000.0|7.701e+11| 1496000000.0| 5641000000.0|4.148e+13| 0.0529|0.1831|0.2688| 0.143|0.1093|0.08803|0.07292|0.06914|0.06929|   0.0|-0.9855|0.7186| 0.03637|0.008855|-0.01208|0.003652|-0.004604|-0.01037|0.003968|   0.0| 4.187|0.03719| 0.001638| 207.4|0.002156|0.07978|0.07485| 9.204| 7.872|0.04936| 0.001605|1621.0|0.005229| 0.2006|0.4524|18.98|0.038928|0.032664|0.070905|0.103928|-43.430257|6.516206|-0.871449|1.018064|-0.008967|-0.154448| 0.139960| 0.201224|-0.198088| 0.215511|0.043666| 0.198173|-0.005376|0.001611|0.001797|0.001798|0.001815|0.001840|0.002037|0.002058|0.002073|0.001981|0.001688|0.001555|0.001516|1.604289| 3.406271|0.010748|0.009080|0.042640|0.057635|1.577409|0.788969|0.699086|0.725212|0.670986|0.598860|0.582275|0.518552|0.494691|0.485615|0.473152|0.470138|0.423775|0.000825|0.000929|0.000966|0.001010|0.000978|0.001021|0.000992|0.000979|0.000955|0.000827|0.000783|0.000778|0.272812| 1.589168|0.012067|0.027884|0.072206|0.051684|3.955280|1.222340|0.808461|1.085728|0.891388|0.809062|0.626609|0.432633|0.398482|0.369732|0.380121|0.433448|0.334429|0.000841|0.000941|0.000898|0.000984|0.000975|0.001184|0.001174|0.001149|0.001190|0.000909|0.000818|0.000790|0.323284| 2.252672|0.008838|0.017019|0.082786|0.032790|2.819930|0.326145|0.253675|0.319009|0.290899|0.195633|0.179677|0.143953|0.124527|0.131661|0.127307|0.120289|0.108325|0.000464|0.000501|0.000532|0.000596|0.000587|0.000573|0.000550|0.000537|0.000538|0.000485|0.000463|0.000456|0.146757| 1.726367|\n",
      "|TRAAAVL128F93028BC|0.9383|3357.0|23470.0| 40020000.0| 278800000.0|1949000000.0|8.804e+11| 2505000000.0|17530000000.0|2.958e+14| 1.564| 5772.0|43150.0| -44550000.0| -327300000.0|-2409000000.0|7.739e+11| 2938000000.0|21650000000.0|2.965e+14|0.05401|0.1183|0.1594|0.1956| 0.149| 0.2397| 0.0972|  0.136|0.08434|   0.0|-0.9522|0.7938|   0.272|  -0.344| -0.3784|  0.1022|  -0.1871| 0.07723| -0.1497|   0.0| 10.26| 0.0524|0.0009198| 224.1|0.001212|0.04155|0.04491|  19.6| 17.14|  0.111|0.0005823|1585.0| 0.00197|0.07356|0.5935|42.72|0.168014|0.141402|0.275286|0.088079|-50.854625|0.092449|-3.121127|3.624702|-0.269221| 0.593487| 0.559573| 0.784914| 0.367777| 0.512011|0.505692| 0.265712| 0.239963|0.000213|0.000231|0.000261|0.000250|0.000287|0.000384|0.000339|0.000294|0.000283|0.000250|0.000240|0.000230|2.018838| 5.174913|0.049382|0.055484|0.091894|0.029845|1.714546|0.959327|0.840073|0.752954|0.673054|0.667944|0.616214|0.578089|0.518414|0.497396|0.504536|0.452292|0.435657|0.000218|0.000205|0.000213|0.000225|0.000260|0.000311|0.000304|0.000294|0.000282|0.000269|0.000264|0.000235|0.694156| 4.154718|0.053123|0.059359|0.080875|0.072848|4.711494|1.534221|1.443251|0.838089|0.720101|0.653530|0.521933|0.474248|0.448519|0.537667|0.530262|0.684342|0.494387|0.000153|0.000189|0.000239|0.000197|0.000207|0.000398|0.000258|0.000198|0.000231|0.000190|0.000175|0.000161|0.633524| 3.933321|0.017753|0.023120|0.081405|0.043459|3.533028|0.355171|0.283076|0.300551|0.247821|0.251475|0.218455|0.180630|0.137317|0.157170|0.160451|0.127235|0.106439|0.000169|0.000161|0.000164|0.000169|0.000188|0.000234|0.000214|0.000222|0.000228|0.000218|0.000216|0.000186|0.339228| 4.001742|\n",
      "|TRAABYN12903CFD305|0.8557|6712.0|27970.0|160600000.0| 677300000.0|2862000000.0| 7.08e+12| 6094000000.0|25760000000.0|5.354e+14| 1.478|11580.0|54450.0|-179000000.0| -816200000.0|-3743000000.0| 6.23e+12| 7341000000.0|33700000000.0|5.627e+14| 0.0458| 0.158|0.1288|0.2555|0.1842| 0.1881|0.08903| 0.1379|0.09093|   0.0|-0.9813|0.7282|  0.2388| -0.1459| -0.1543|  0.0553| -0.05324| 0.07354|-0.01558|   0.0|  6.24|0.04309|0.0004123| 249.1|0.001247|0.04712|0.08117| 13.94| 9.565|0.06159|0.0002826|1705.0|0.002039|0.07816|0.5358|23.05|0.109567|0.096761|0.187071|0.092296|-48.776576|5.457956|-0.766824|2.459709|-1.333760| 0.654727|-0.134635|-0.189401|-0.073649| 0.049266|0.240836|-0.275403| 0.029817|0.000255|0.000193|0.000183|0.000228|0.000198|0.000222|0.000305|0.000234|0.000289|0.000288|0.000317|0.000382|2.416979|13.859450|0.040462|0.039158|0.085551|0.029613|3.451525|1.391927|1.184419|1.031915|0.950541|0.715481|0.676434|0.633047|0.594843|0.568052|0.478015|0.493980|0.505883|0.000223|0.000142|0.000129|0.000173|0.000148|0.000179|0.000267|0.000199|0.000255|0.000222|0.000270|0.000328|0.644781|10.937943|0.035867|0.044185|0.085347|0.073170|4.173230|1.418052|1.131232|1.423357|1.073473|0.756022|0.908253|0.844437|0.608921|0.447945|0.412076|0.467526|0.557604|0.000259|0.000165|0.000148|0.000238|0.000209|0.000277|0.000472|0.000229|0.000386|0.000264|0.000396|0.000664|0.541475|11.555316|0.037613|0.040469|0.068719|0.042373|3.734118|0.727497|0.657716|0.480404|0.456791|0.302328|0.282370|0.211682|0.214190|0.185659|0.143524|0.164750|0.189560|0.000299|0.000135|0.000107|0.000223|0.000200|0.000290|0.000472|0.000238|0.000437|0.000252|0.000418|0.000677|0.269341|11.232144|\n",
      "|TRAACWF12903CA0AD7| 1.285|6727.0|48900.0|161300000.0|1173000000.0|8524000000.0|7.132e+12|10510000000.0|76420000000.0|2.745e+15| 3.628|11610.0|86420.0|-179900000.0|-1332000000.0|-9851000000.0|6.278e+12|11920000000.0|88210000000.0|2.508e+15|  0.063|0.1557|0.1473|0.1543|0.1555| 0.1408| 0.1108| 0.1123| 0.1226|   0.0|-0.9653|0.5962|-0.00579| -0.1115| -0.2261|   0.165| -0.04832|-0.01814|-0.09186|   0.0| 10.28|0.07154| 0.003022| 252.1|0.002332|0.07864|0.05194| 22.61| 10.92|0.07455| 0.001936|1585.0|0.004375| 0.1636|0.5263|30.56|0.135171|0.111762|0.253107|0.099216|-43.979457|2.609067| 0.581606|1.296629|-0.280203| 0.459868|-0.412058|-0.096785| 0.002755|-0.098667|0.287015| 0.139449| 0.013376|0.000933|0.000917|0.000822|0.000809|0.000797|0.000878|0.000973|0.001110|0.001090|0.000817|0.000829|0.000902|2.089565| 9.353302|0.069939|0.066716|0.169144|0.035347|3.705120|1.606287|1.169670|0.928055|0.885523|0.710987|0.672511|0.612598|0.509669|0.532965|0.484092|0.462842|0.440568|0.000769|0.000827|0.000823|0.000833|0.000794|0.000848|0.000919|0.001096|0.001115|0.000773|0.000696|0.000731|0.642952| 9.229781|0.049606|0.054911|0.100626|0.071017|3.526525|1.013770|0.750589|0.722064|0.823733|0.365045|0.410953|0.415581|0.259123|0.376157|0.263032|0.339864|0.211733|0.000367|0.000332|0.000401|0.000559|0.000545|0.000628|0.000634|0.000705|0.000739|0.000511|0.000532|0.000428|0.559426| 7.750070|0.033790|0.040749|0.084799|0.043700|2.943108|0.478825|0.370086|0.271346|0.310753|0.217065|0.184530|0.139804|0.128430|0.147588|0.106158|0.097741|0.103642|0.000271|0.000269|0.000318|0.000483|0.000446|0.000501|0.000513|0.000651|0.000739|0.000415|0.000410|0.000330|0.285775|10.273429|\n",
      "+------------------+------+------+-------+-----------+------------+------------+---------+-------------+-------------+---------+------+-------+-------+------------+-------------+-------------+---------+-------------+-------------+---------+-------+------+------+------+------+-------+-------+-------+-------+------+-------+------+--------+--------+--------+--------+---------+--------+--------+------+------+-------+---------+------+--------+-------+-------+------+------+-------+---------+------+--------+-------+------+-----+--------+--------+--------+--------+----------+--------+---------+--------+---------+---------+---------+---------+---------+---------+--------+---------+---------+--------+--------+--------+--------+--------+--------+--------+--------+--------+--------+--------+--------+--------+---------+--------+--------+--------+--------+--------+--------+--------+--------+--------+--------+--------+--------+--------+--------+--------+--------+--------+--------+--------+--------+--------+--------+--------+--------+--------+--------+--------+--------+--------+--------+---------+--------+--------+--------+--------+--------+--------+--------+--------+--------+--------+--------+--------+--------+--------+--------+--------+--------+--------+--------+--------+--------+--------+--------+--------+--------+--------+--------+--------+--------+--------+---------+--------+--------+--------+--------+--------+--------+--------+--------+--------+--------+--------+--------+--------+--------+--------+--------+--------+--------+--------+--------+--------+--------+--------+--------+--------+--------+--------+--------+--------+--------+---------+\n",
      "only showing top 5 rows\n",
      "\n"
     ]
    },
    {
     "name": "stderr",
     "output_type": "stream",
     "text": [
      "                                                                                "
     ]
    }
   ],
   "source": [
    "# Show merged result\n",
    "merged_df.show(5)"
   ]
  },
  {
   "cell_type": "code",
   "execution_count": 37,
   "id": "6e5bf666-9bdb-4975-a937-2e7001606536",
   "metadata": {},
   "outputs": [],
   "source": [
    "# Drop rows where all features are null (except track_id)\n",
    "feature_cols = [col for col in merged_df.columns if col != 'track_id']\n",
    "non_null_df = merged_df.dropna(subset=feature_cols, how=\"all\")"
   ]
  },
  {
   "cell_type": "code",
   "execution_count": 38,
   "id": "622b13ce-f62a-4377-841b-64e08e6bcfad",
   "metadata": {},
   "outputs": [
    {
     "name": "stderr",
     "output_type": "stream",
     "text": [
      "25/06/13 09:38:09 WARN DAGScheduler: Broadcasting large task binary with size 1880.1 KiB\n",
      "                                                                                "
     ]
    },
    {
     "name": "stdout",
     "output_type": "stream",
     "text": [
      "+-------+------------------+-----------------+-----------------+--------------------+--------------------+--------------------+--------------------+--------------------+--------------------+--------------------+------------------+-----------------+------------------+--------------------+--------------------+--------------------+--------------------+--------------------+--------------------+--------------------+--------------------+-------------------+-------------------+-------------------+-------------------+--------------------+-------------------+-------------------+--------------------+------+--------------------+------------------+--------------------+--------------------+-------------------+-------------------+--------------------+--------------------+--------------------+------+------------------+--------------------+--------------------+-----------------+--------------------+-------------------+--------------------+------------------+------------------+--------------------+--------------------+------------------+--------------------+-------------------+------------------+------------------+-------------------+-------------------+-------------------+--------------------+-----------------+------------------+-------------------+------------------+-------------------+-------------------+-------------------+-------------------+------------------+-------------------+-------------------+-------------------+-------------------+--------------------+--------------------+--------------------+--------------------+--------------------+--------------------+--------------------+--------------------+--------------------+--------------------+--------------------+--------------------+-------------------+------------------+--------------------+--------------------+-------------------+-------------------+------------------+-------------------+-------------------+-------------------+-------------------+-------------------+-------------------+-------------------+-------------------+-------------------+-------------------+-------------------+-------------------+--------------------+--------------------+--------------------+--------------------+--------------------+--------------------+--------------------+--------------------+--------------------+--------------------+--------------------+--------------------+-------------------+------------------+--------------------+--------------------+--------------------+--------------------+------------------+------------------+------------------+-------------------+------------------+-------------------+-------------------+-------------------+------------------+-------------------+-------------------+-------------------+-------------------+--------------------+--------------------+--------------------+--------------------+--------------------+--------------------+--------------------+--------------------+--------------------+-------------------+--------------------+--------------------+-------------------+------------------+--------------------+--------------------+-------------------+--------------------+------------------+-------------------+-------------------+-------------------+--------------------+-------------------+--------------------+-------------------+-------------------+-------------------+--------------------+--------------------+-------------------+--------------------+--------------------+--------------------+--------------------+--------------------+--------------------+--------------------+--------------------+--------------------+--------------------+--------------------+--------------------+-------------------+-----------------+\n",
      "|summary|             aom_1|            aom_2|            aom_3|               aom_4|               aom_5|               aom_6|               aom_7|               aom_8|               aom_9|              aom_10|            aom_11|           aom_12|            aom_13|              aom_14|              aom_15|              aom_16|              aom_17|              aom_18|              aom_19|              aom_20|               lpc_1|              lpc_2|              lpc_3|              lpc_4|              lpc_5|               lpc_6|              lpc_7|              lpc_8|               lpc_9|lpc_10|              lpc_11|            lpc_12|              lpc_13|              lpc_14|             lpc_15|             lpc_16|              lpc_17|              lpc_18|              lpc_19|lpc_20|            spec_1|              spec_2|              spec_3|           spec_4|              spec_5|             spec_6|              spec_7|            spec_8|            spec_9|             spec_10|                mt_1|              mt_2|                mt_3|               mt_4|              mt_5|              mt_6|               mt_7|               mt_8|               mt_9|               mt_10|            mt_11|             mt_12|              mt_13|             mt_14|              mt_15|              mt_16|              mt_17|              mt_18|             mt_19|              mt_20|              mt_21|              mt_22|              mt_23|               mt_24|               mt_25|               mt_26|               mt_27|               mt_28|               mt_29|               mt_30|               mt_31|               mt_32|               mt_33|               mt_34|               mt_35|              mt_36|             mt_37|               mt_38|               mt_39|              mt_40|              mt_41|             mt_42|              mt_43|              mt_44|              mt_45|              mt_46|              mt_47|              mt_48|              mt_49|              mt_50|              mt_51|              mt_52|              mt_53|              mt_54|               mt_55|               mt_56|               mt_57|               mt_58|               mt_59|               mt_60|               mt_61|               mt_62|               mt_63|               mt_64|               mt_65|               mt_66|              mt_67|             mt_68|               mt_69|               mt_70|               mt_71|               mt_72|             mt_73|             mt_74|             mt_75|              mt_76|             mt_77|              mt_78|              mt_79|              mt_80|             mt_81|              mt_82|              mt_83|              mt_84|              mt_85|               mt_86|               mt_87|               mt_88|               mt_89|               mt_90|               mt_91|               mt_92|               mt_93|               mt_94|              mt_95|               mt_96|               mt_97|              mt_98|             mt_99|              mt_100|              mt_101|             mt_102|              mt_103|            mt_104|             mt_105|             mt_106|             mt_107|              mt_108|             mt_109|              mt_110|             mt_111|             mt_112|             mt_113|              mt_114|              mt_115|             mt_116|              mt_117|              mt_118|              mt_119|              mt_120|              mt_121|              mt_122|              mt_123|              mt_124|              mt_125|              mt_126|              mt_127|              mt_128|             mt_129|           mt_130|\n",
      "+-------+------------------+-----------------+-----------------+--------------------+--------------------+--------------------+--------------------+--------------------+--------------------+--------------------+------------------+-----------------+------------------+--------------------+--------------------+--------------------+--------------------+--------------------+--------------------+--------------------+--------------------+-------------------+-------------------+-------------------+-------------------+--------------------+-------------------+-------------------+--------------------+------+--------------------+------------------+--------------------+--------------------+-------------------+-------------------+--------------------+--------------------+--------------------+------+------------------+--------------------+--------------------+-----------------+--------------------+-------------------+--------------------+------------------+------------------+--------------------+--------------------+------------------+--------------------+-------------------+------------------+------------------+-------------------+-------------------+-------------------+--------------------+-----------------+------------------+-------------------+------------------+-------------------+-------------------+-------------------+-------------------+------------------+-------------------+-------------------+-------------------+-------------------+--------------------+--------------------+--------------------+--------------------+--------------------+--------------------+--------------------+--------------------+--------------------+--------------------+--------------------+--------------------+-------------------+------------------+--------------------+--------------------+-------------------+-------------------+------------------+-------------------+-------------------+-------------------+-------------------+-------------------+-------------------+-------------------+-------------------+-------------------+-------------------+-------------------+-------------------+--------------------+--------------------+--------------------+--------------------+--------------------+--------------------+--------------------+--------------------+--------------------+--------------------+--------------------+--------------------+-------------------+------------------+--------------------+--------------------+--------------------+--------------------+------------------+------------------+------------------+-------------------+------------------+-------------------+-------------------+-------------------+------------------+-------------------+-------------------+-------------------+-------------------+--------------------+--------------------+--------------------+--------------------+--------------------+--------------------+--------------------+--------------------+--------------------+-------------------+--------------------+--------------------+-------------------+------------------+--------------------+--------------------+-------------------+--------------------+------------------+-------------------+-------------------+-------------------+--------------------+-------------------+--------------------+-------------------+-------------------+-------------------+--------------------+--------------------+-------------------+--------------------+--------------------+--------------------+--------------------+--------------------+--------------------+--------------------+--------------------+--------------------+--------------------+--------------------+--------------------+-------------------+-----------------+\n",
      "|  count|            994594|           994594|           994594|              994594|              994594|              994594|              994594|              994594|              994594|              994594|            994594|           994594|            994594|              994594|              994594|              994594|              994594|              994594|              994594|              994594|              994594|             994594|             994594|             994594|             994594|              994594|             994594|             994594|              994594|994594|              994594|            994594|              994594|              994594|             994594|             994594|              994594|              994594|              994594|994594|            994594|              994594|              994594|           994594|              994594|             994594|              994594|            994594|            994594|              994594|              994594|            994594|              994594|             994594|            994594|            994594|             994594|             994594|             994594|              994594|           994594|            994594|             994594|            994594|             994594|             994594|             994594|             994594|            994594|             994594|             994594|             994594|             994594|              994594|              994594|              994594|              994594|              994594|              994594|              994594|              994594|              994594|              994594|              994594|              994594|             994594|            994594|              994594|              994594|             994594|             994594|            994594|             994594|             994594|             994594|             994594|             994594|             994594|             994594|             994594|             994594|             994594|             994594|             994594|              994594|              994594|              994594|              994594|              994594|              994594|              994594|              994594|              994594|              994594|              994594|              994594|             994594|            994594|              994594|              994594|              994594|              994594|            994594|            994594|            994594|             994594|            994594|             994594|             994594|             994594|            994594|             994594|             994594|             994594|             994594|              994594|              994594|              994594|              994594|              994594|              994594|              994594|              994594|              994594|             994594|              994594|              994594|             994594|            994594|              994594|              994594|             994594|              994594|            994594|             994594|             994594|             994594|              994594|             994594|              994594|             994594|             994594|             994594|              994594|              994594|             994594|              994594|              994594|              994594|              994594|              994594|              994594|              994594|              994594|              994594|              994594|              994594|              994594|             994594|           994594|\n",
      "|   mean|1.2289213012118398|5500.573034059525| 33817.8940935075|1.2767019942248486E8| 7.834837381236113E8| 5.254836578079107E9|7.770638384819305E12|7.0365568987984705E9|4.722032652144478...|2.323944960715866E15|  3.51675968275606|9476.024829978867| 58331.71011371122|-1.42298643318518...|-8.725718119577552E8|-5.857226801888962E9|6.835776252207289E12| 7.828443226779023E9|5.259018317493819E10|2.043745474889883...| 0.05565345643347952|0.17127037791581293| 0.1834437653002125|0.15027183165683652|0.14290118240819874| 0.13189477123699722| 0.0995512872484653| 0.0945543976305908| 0.08453855438530701|   0.0| -0.9700372886406953|  0.55344172730295|-0.05019243958385...|0.010336927916625384|-0.1344208456160843|0.10148170575050942|-0.02613559697395...|-0.01092702213466...|-0.04688278798340...|   0.0| 6.945219881026834| 0.05570770857998351|0.003945517042809485|222.5220068006443|0.002227189244550723|0.07420277926687606|0.060208466785442144|16.803200920094042|  9.11041797329162| 0.06194432299114007|0.002932218975125...|1638.7629079769404|0.004395567043898317|0.16593121232530006|0.5562940184729652|26.680896535141876|0.09150204396165659|0.06906648151205416|0.19068499752461823| 0.09454300062940256|-45.8935341692731| 4.433819367441383|0.12370662178537163|1.1745762782642972|0.11738012337898687|0.37070451985332736|  0.101454747156126|0.13185731730334185|0.0736399088663314|0.10744761651990674|0.08272665470935886|0.06124635696977855|0.04948028057880901|0.001565235333211342|0.001468586199997...|0.001466896669394...|0.001596315521710368|0.001679975369849...|0.001783656419604...|0.001846144045711...|0.001889667142572...|0.001849392286701...|  0.0017711665956159|0.001710277154296...|0.001639444002276307|  1.687553179917634|10.461340589305829| 0.03683560806017329| 0.03261854468959192| 0.1252512772709267|0.03788945725089835|  2.32273749481497| 1.0172368647870367| 0.7679420698154209| 0.6756459565501107| 0.5859715878328241| 0.5322551464426686| 0.5157424525072538|0.49903234997395884| 0.4786505461313863|0.46836141472299175| 0.4555198336336234| 0.4426187504569699|0.42987837305171755|0.001176633795297...|0.001092931184986...|0.001090061079194...|0.001209876085116138|0.001285147255060...|0.001371913297285123|0.001433736926826...|0.001481760902438...|0.001468354353635...|0.001400562682863...|0.001331380312971...|0.001253169125291...| 0.3791480616281622|17.703911513345027|0.030911121487762854| 0.04086398513463778|  0.1027250609866942| 0.06286155304375443| 4.607858529032954| 1.057881184250056|0.7492556313571156| 0.6621337839188659| 0.506823493747197|  0.434216834844168| 0.4076162992457224| 0.3923402812906576|0.3749661079284617| 0.3661272570496105|0.35153086797728506|0.34016793101707765| 0.3277835885657866| 7.55331325143728E-4|7.015806148036296E-4|7.043880849874427E-4|7.725943631270655E-4|8.041799085858156E-4|8.606272549402085E-4|8.834730573480249E-4|9.125394090452999E-4|9.011225997743801E-4|8.62996047633507E-4| 8.34412236550794E-4|7.891711140425154E-4|0.35588065822034015| 31.20407337108094| 0.02022602855537034|0.026607750103057153|0.07986195519679386|0.037396251140666435| 2.962438402182196| 0.4019487432862051| 0.2597251433931833|0.22154291286494765|   0.173175485665508|0.14394621920602788|  0.1374750104213379|0.13188565621650647| 0.1245417889339771|0.12273819002326569| 0.11820701224017022| 0.11538537450256088|0.11243890300162687|6.636922834845177E-4| 6.16395236649327E-4|6.167865038397599E-4|6.910650456367127E-4|7.353401005837567E-4|7.862655948055193E-4|8.157714444285821E-4|8.417416845466605E-4|8.373834619955494E-4|8.019157244061409E-4| 7.60967124273826E-4|7.074819252881082E-4|0.21004218788168855|98.05595245974652|\n",
      "| stddev|0.5282422077185045|2366.035157401238|18228.68710832563| 2.396396206180721E8|1.5825990246323361E9|1.218938632315457...|5.691701793991666...|1.424631991196274E10|1.097881074876660...|2.456514605127158...|1.8600989973241693|4088.533227232935|31372.728405415615| 2.671040027066946E8|1.7589162502627876E9|1.358645402906189...|5.008499317492327E13|1.583238342567310...|1.223702014793235E11|2.163190189695855...|0.028960117010523916|0.04527864100403142|0.05599608400821561|0.03932372305287078|0.03978932249627807|0.027468264758747987|0.02931738900647762|0.02173396291943795|0.020575229145887185|   0.0|0.039550564396254546|0.1116044848241155|  0.1777487992475046| 0.12257911390227723|0.09758327990889516|0.07218421171388915| 0.04892590838651007|  0.0402838078022778| 0.05483518986489527|   0.0|3.6317165608951525|0.026499363371647582|0.003265319668425631|59.71897572466406|0.001039707518656...|0.03176492382959956| 0.01851479897344024| 7.529855836944407|3.8434655194144365|0.029015739478782446|0.002491143023519...|105.86520404188985|0.001995819374968...| 0.0742958494380986|0.0474919699753595|10.394169093785782|0.03983672592835469|0.03713221731728969| 0.1072518165190942|0.009400974719901667|5.255203574046796|1.8462614259580146| 0.9113709872252037|0.6071836484904451| 0.4593996311114775| 0.3532355001033992|0.31497865534321773| 0.3020752013980521|0.2552049680832112|0.24755630424431532|0.22270388198623675|0.20580569448175529| 0.1927418800568926| 0.00135161666790833|0.001257282171551...|0.001244733320816...|0.001371294529822...|0.001468967842706...|0.001565908815220594|0.001634607518131...|0.001672815743771...|0.001648758349187...|0.001589013500076...|0.001519415614852...|0.001438746874410...|0.38833672628630966| 2538.550232452318|0.019887842778810755|0.020015701011840782|0.08533466837352531|0.01103769048165242|1.0077667666191066|0.36050173816890335|0.21155416844117225|0.16159228583297175|0.12006997379537007|0.09042811012516416|0.08467789389504916| 0.0797832623706786|0.07044030128981289|0.07052289670607653|0.06634064485401808|0.06426865890541236|0.06091733631116577|0.001036822212982...|9.560210053553773E-4|9.462520767556482E-4|0.001060099339733...|0.001153500701242608|0.001238825091405...|0.001310193775446...|0.001351245421159...|0.001344905374057028|0.001295502523594...|0.001217529611232...|0.001127347299030...|0.17853411118452409|10539.233833436876|0.014939831788337136|0.015635459530965717|0.044183701083846304|0.012335729967198235|1.8470472757057779|0.4422452425916876|0.2878973293142822|0.23937228654604795|0.1867254302557247|0.15143305564065487|0.14554870152574825|0.14579728457298213|0.1429708367898413|0.14589030507584225|0.14520454537523084| 0.1404932480858991|0.13508248769304537|6.605487834130168E-4|6.109574544517599E-4|6.007901276126638E-4| 6.60299341563593E-4| 7.05302487989886E-4|7.524775842627099E-4|7.835821553032387E-4|8.017474539543372E-4|7.981148362475929E-4|7.79935213158331E-4|7.487218537680663E-4|7.036648413049594E-4|0.20863100261107265|19279.388159263915|0.012035078341841227|0.011268832527231081|0.03631199609792896|0.007236978769735877|0.7134993721109674|0.16348169176606633|0.09503172477632274|0.08028069867085484|0.061186077010225465|0.04162078465142647|0.039756703449861694|0.03885659732264752|0.03588262702683716|0.03750851467983675|0.037381343126476375|0.037731148462761065|0.03821608202731021|6.172576983743448E-4|5.762291332763105E-4|5.680182366009195E-4| 6.23279653129353E-4|6.742918122896685E-4|7.164785344754866E-4|7.520160823211431E-4|7.670391234488876E-4|7.639345883685669E-4|7.502811555044905E-4|7.124259732845359E-4|6.644449684710292E-4|0.09388295719999303|80076.80582833385|\n",
      "|    min|               0.0|              0.0|              0.0|                 0.0|                 0.0|                 0.0|                 0.0|                 0.0|                 0.0|                 0.0|               0.0|              0.0|               0.0|             -0.7924|              -10.71|          -1.001e+11|                 0.0|                 0.0|                 0.0|                 0.0|                 0.0|                0.0|                0.0|                0.0|                0.0|                 0.0|                0.0|                0.0|                 0.0|   0.0|          -0.0001338|        -0.0001368|          -0.0001009|          -0.0001006|         -0.0001001|         -0.0001001|          -0.0001001|             -0.0001|             -0.0001|   0.0|               0.0|                 0.0|                 0.0|              0.0|                 0.0|                0.0|                 0.0|               0.0|               0.0|                 0.0|                 0.0|               0.0|                 0.0|                0.0|               0.0|               0.0|           0.001953|           0.001593|           0.007798|            0.003351|        -0.149591|         -0.000007|          -0.000000|         -0.000004|          -0.000000|          -0.000004|          -0.000000|          -0.000000|         -0.000000|          -0.000001|          -0.000001|          -0.000001|          -0.000001|            0.000000|            0.000000|            0.000000|            0.000000|            0.000000|            0.000000|            0.000000|            0.000000|            0.000000|            0.000000|            0.000000|            0.000000|           0.000000|          0.000000|            0.000000|            0.000000|           0.000000|           0.002534|          0.000000|           0.000000|           0.000000|           0.000000|           0.000000|           0.000000|           0.000000|           0.000000|           0.000000|           0.000000|           0.000000|           0.000000|           0.000000|            0.000000|            0.000000|            0.000000|            0.000000|            0.000000|            0.000000|            0.000000|            0.000000|            0.000000|            0.000000|            0.000000|            0.000000|           0.000000|          0.000000|            0.000000|            0.000000|            0.000000|            0.014881|          0.000000|          0.000000|          0.000000|           0.000000|          0.000000|           0.000000|           0.000000|           0.000000|          0.000000|           0.000000|           0.000000|           0.000000|           0.000000|            0.000000|            0.000000|            0.000000|            0.000000|            0.000000|            0.000000|            0.000000|            0.000000|            0.000000|           0.000000|            0.000000|            0.000000|           0.000000|          0.000000|            0.000000|            0.000000|           0.000000|            0.011215|          0.000000|           0.000000|           0.000000|           0.000000|            0.000000|           0.000000|            0.000000|           0.000000|           0.000000|           0.000000|            0.000000|            0.000000|           0.000000|            0.000000|            0.000000|            0.000000|            0.000000|            0.000000|            0.000000|            0.000000|            0.000000|            0.000000|            0.000000|            0.000000|            0.000000|           0.000000|         0.000000|\n",
      "|    max|         9.747e-06|           9981.0|           9999.0|         999900000.0|         999900000.0|        9999000000.0|               9e+11|        9999000000.0|               9e+11|               9e+15|             9.999|           9999.0|           99990.0|                 0.0|                 0.0|                 0.0|               9e+11|        9999000000.0|       99990000000.0|               9e+15|              0.6369|             0.5592|             0.5057|             0.5371|             0.4871|           7.859e-05|             0.3467|              0.358|              0.3165|   0.0|              0.2358|         7.732e-05|           9.917e-05|             9.9e-05|          9.997e-05|          9.954e-05|             9.9e-05|           9.995e-05|           9.997e-05|   0.0|             9.999|              0.3739|               9e-05|            999.9|           9.997e-05|          9.725e-05|              0.4938|              96.5|              96.5|             7.4e-05|               9e-10|             999.4|             9.9e-09|          9.908e-06|            0.9538|             99.97|           0.803114|           0.823652|           1.000000|            0.663868|         0.000000|          9.999879|           7.406938|          8.269740|           4.280974|           5.167740|           3.954292|           3.361447|          3.505257|           7.624950|           3.462411|           3.501840|           2.325700|            0.059426|            0.059184|            0.058902|            0.059415|            0.059225|            0.058305|            0.056657|            0.054317|            0.053208|            0.055812|            0.057744|            0.058952|           8.046457|        993.159852|            0.313154|            0.339420|           0.488765|           0.464071|          9.989437|           4.874215|           2.969835|           2.335670|           1.750782|           1.517991|           1.497939|           1.769053|           1.652262|           1.823571|           2.033869|           1.640435|           1.450105|            0.029094|            0.029097|            0.028764|            0.028391|            0.028690|            0.028185|            0.027141|            0.026146|            0.025861|            0.027248|            0.029219|            0.028847|           2.459565|        996.866239|            0.349489|            0.338482|            0.488036|            0.293256|          9.999965|          6.719038|          5.307940|           3.402869|          3.608314|           3.242076|           2.493704|           3.233121|          2.519486|           3.875734|           2.507020|           2.795132|           2.545061|            0.028351|            0.028242|            0.028107|            0.028348|            0.028251|            0.027807|            0.027016|            0.025892|            0.025362|           0.026609|            0.027534|            0.028117|           3.426838|        999.288776|            0.146852|            0.138211|           0.231656|            0.196099|          9.996816|           2.235623|           1.522853|           0.967321|            0.894500|           0.805637|            0.679975|           0.887876|           0.803986|           1.296595|            0.768312|            0.826616|           0.707855|            0.013640|            0.013711|            0.013953|            0.015442|            0.014450|            0.014112|            0.014737|            0.013752|            0.013255|            0.013645|            0.013713|            0.014228|           1.362674|       999.129591|\n",
      "+-------+------------------+-----------------+-----------------+--------------------+--------------------+--------------------+--------------------+--------------------+--------------------+--------------------+------------------+-----------------+------------------+--------------------+--------------------+--------------------+--------------------+--------------------+--------------------+--------------------+--------------------+-------------------+-------------------+-------------------+-------------------+--------------------+-------------------+-------------------+--------------------+------+--------------------+------------------+--------------------+--------------------+-------------------+-------------------+--------------------+--------------------+--------------------+------+------------------+--------------------+--------------------+-----------------+--------------------+-------------------+--------------------+------------------+------------------+--------------------+--------------------+------------------+--------------------+-------------------+------------------+------------------+-------------------+-------------------+-------------------+--------------------+-----------------+------------------+-------------------+------------------+-------------------+-------------------+-------------------+-------------------+------------------+-------------------+-------------------+-------------------+-------------------+--------------------+--------------------+--------------------+--------------------+--------------------+--------------------+--------------------+--------------------+--------------------+--------------------+--------------------+--------------------+-------------------+------------------+--------------------+--------------------+-------------------+-------------------+------------------+-------------------+-------------------+-------------------+-------------------+-------------------+-------------------+-------------------+-------------------+-------------------+-------------------+-------------------+-------------------+--------------------+--------------------+--------------------+--------------------+--------------------+--------------------+--------------------+--------------------+--------------------+--------------------+--------------------+--------------------+-------------------+------------------+--------------------+--------------------+--------------------+--------------------+------------------+------------------+------------------+-------------------+------------------+-------------------+-------------------+-------------------+------------------+-------------------+-------------------+-------------------+-------------------+--------------------+--------------------+--------------------+--------------------+--------------------+--------------------+--------------------+--------------------+--------------------+-------------------+--------------------+--------------------+-------------------+------------------+--------------------+--------------------+-------------------+--------------------+------------------+-------------------+-------------------+-------------------+--------------------+-------------------+--------------------+-------------------+-------------------+-------------------+--------------------+--------------------+-------------------+--------------------+--------------------+--------------------+--------------------+--------------------+--------------------+--------------------+--------------------+--------------------+--------------------+--------------------+--------------------+-------------------+-----------------+\n",
      "\n"
     ]
    }
   ],
   "source": [
    "# Show descriptive statistics for all numeric columns\n",
    "non_null_df.select(feature_cols).describe().show()\n",
    "\n",
    "# Ensure only numeric feature columns are cast\n",
    "numeric_feature_cols = [c for c in non_null_df.columns if c not in [\"track_id\", \"genre\", \"label\"]]\n",
    "\n",
    "for c in numeric_feature_cols:\n",
    "    non_null_df = non_null_df.withColumn(c, col(c).cast(DoubleType()))"
   ]
  },
  {
   "cell_type": "code",
   "execution_count": null,
   "id": "5397452c-c723-4496-b229-f4539773be3f",
   "metadata": {
    "scrolled": true
   },
   "outputs": [],
   "source": [
    "# Sample a subset of columns for correlation due to compute cost\n",
    "sample_cols = feature_cols[:10]\n",
    "print(\"Sampled Correlations:\")\n",
    "for i in range(len(sample_cols)):\n",
    "    for j in range(i + 1, len(sample_cols)):\n",
    "        corr_val = non_null_df.stat.corr(sample_cols[i], sample_cols[j])\n",
    "        print(f\"Correlation between {sample_cols[i]} and {sample_cols[j]}: {corr_val:.4f}\")"
   ]
  },
  {
   "cell_type": "code",
   "execution_count": null,
   "id": "c8743450-077a-4c1d-8aeb-8d97da68185b",
   "metadata": {},
   "outputs": [],
   "source": [
    "# Display heatmap for a sample of 50 columns\n",
    "sample_cols = feature_cols[:55]\n",
    "\n",
    "# Convert to pandas and clean data\n",
    "pandas_df = non_null_df.select(sample_cols).dropna().limit(1000).toPandas()\n",
    "pandas_df = pandas_df.apply(pd.to_numeric, errors='coerce')\n",
    "corr_matrix = pandas_df.corr()\n",
    "\n",
    "plt.figure(figsize=(18, 14))\n",
    "sns.heatmap(corr_matrix, cmap=\"coolwarm\", center=0, fmt=\".2f\")\n",
    "plt.title(\"Correlation Matrix (Corrgram) for 50 Sample Audio Features\")\n",
    "plt.show()"
   ]
  },
  {
   "cell_type": "markdown",
   "id": "14fe149d-5977-42b7-ae5c-d23ecf29966c",
   "metadata": {},
   "source": [
    "### Genre analysis"
   ]
  },
  {
   "cell_type": "code",
   "execution_count": 44,
   "id": "1d19bd6e-5dc1-4d51-b037-e7c2ba03c280",
   "metadata": {},
   "outputs": [
    {
     "name": "stdout",
     "output_type": "stream",
     "text": [
      "+------------------+--------+\n",
      "|          track_id|   genre|\n",
      "+------------------+--------+\n",
      "|TRAAAAK128F9318786|Pop_Rock|\n",
      "|TRAAAAV128F421A322|Pop_Rock|\n",
      "|TRAAAAW128F429D538|     Rap|\n",
      "|TRAAABD128F429CF47|Pop_Rock|\n",
      "|TRAAACV128F423E09E|Pop_Rock|\n",
      "+------------------+--------+\n",
      "only showing top 5 rows\n",
      "\n"
     ]
    }
   ],
   "source": [
    "# Load the MAGD genre dataset\n",
    "genre_path = base_path + \"genre/msd-MAGD-genreAssignment.tsv\"\n",
    "genre_df = spark.read.option(\"sep\", \"\\t\").option(\"header\", \"false\").csv(genre_path)\n",
    "genre_df = genre_df.withColumnRenamed(\"_c0\", \"track_id\").withColumnRenamed(\"_c1\", \"genre\")\n",
    "\n",
    "# Preview\n",
    "genre_df.show(5)"
   ]
  },
  {
   "cell_type": "code",
   "execution_count": 45,
   "id": "06e276ab-b008-467d-88da-5f54f01e27a0",
   "metadata": {},
   "outputs": [],
   "source": [
    "# Load and display genre distribution\n",
    "from pyspark.sql.functions import col, count\n",
    "import matplotlib.pyplot as plt\n",
    "\n",
    "# Load the MAGD genre dataset\n",
    "genre_path = base_path + \"genre/msd-MAGD-genreAssignment.tsv\"\n",
    "genre_df = spark.read.option(\"sep\", \"\t\").option(\"header\", \"false\").csv(genre_path)\n",
    "genre_df = genre_df.withColumnRenamed(\"_c0\", \"track_id\").withColumnRenamed(\"_c1\", \"genre\")"
   ]
  },
  {
   "cell_type": "code",
   "execution_count": 46,
   "id": "5564ec37-b040-4753-825d-4207385d9820",
   "metadata": {},
   "outputs": [],
   "source": [
    "# Count genres\n",
    "genre_counts = genre_df.groupBy(\"genre\").agg(count(\"track_id\").alias(\"count\")).orderBy(col(\"count\").desc())\n",
    "\n",
    "genre_pd = genre_counts.toPandas()"
   ]
  },
  {
   "cell_type": "code",
   "execution_count": 47,
   "id": "3ad27fa3-d32b-4a57-a33a-50d5f8c87599",
   "metadata": {},
   "outputs": [
    {
     "data": {
      "image/png": "[encoded data removed]",
      "text/plain": [
       "<Figure size 1200x600 with 1 Axes>"
      ]
     },
     "metadata": {},
     "output_type": "display_data"
    }
   ],
   "source": [
    "# Plot genre distribution\n",
    "plt.figure(figsize=(12, 6))\n",
    "plt.bar(genre_pd['genre'], genre_pd['count'], color='skyblue')\n",
    "plt.xticks(rotation=45, ha='right')\n",
    "plt.title(\"Genre Distribution (MAGD Dataset)\")\n",
    "plt.xlabel(\"Genre\")\n",
    "plt.ylabel(\"Track Count\")\n",
    "plt.tight_layout()\n",
    "plt.show()\n"
   ]
  },
  {
   "cell_type": "code",
   "execution_count": 48,
   "id": "1a0ba5e3-b608-449b-871d-5336e427749e",
   "metadata": {},
   "outputs": [
    {
     "name": "stderr",
     "output_type": "stream",
     "text": [
      "[Stage 1054:>                                                       (0 + 1) / 1]"
     ]
    },
    {
     "name": "stdout",
     "output_type": "stream",
     "text": [
      "+------------------+----------+\n",
      "|          track_id|     genre|\n",
      "+------------------+----------+\n",
      "|TRAAAAK128F9318786|  Pop_Rock|\n",
      "|TRAAABD128F429CF47|  Pop_Rock|\n",
      "|TRAAAEM128F93347B9|Electronic|\n",
      "|TRAAAFD128F92F423A|  Pop_Rock|\n",
      "|TRAAAHZ128E0799171|       Rap|\n",
      "+------------------+----------+\n",
      "only showing top 5 rows\n",
      "\n"
     ]
    },
    {
     "name": "stderr",
     "output_type": "stream",
     "text": [
      "                                                                                "
     ]
    }
   ],
   "source": [
    "# Clean quotes in track_id before merging\n",
    "merged_audio_genre = merged_df.join(genre_df, on=\"track_id\", how=\"inner\")\n",
    "\n",
    "# Preview merged data\n",
    "merged_audio_genre.select(\"track_id\", \"genre\").show(5)"
   ]
  },
  {
   "cell_type": "markdown",
   "id": "857ad932-dc92-47f9-a0ed-590de3f52888",
   "metadata": {},
   "source": [
    "## Q2 Prepare for binary classification"
   ]
  },
  {
   "cell_type": "code",
   "execution_count": 49,
   "id": "5ffcaee3-e986-4516-81ac-16db4532c325",
   "metadata": {},
   "outputs": [],
   "source": [
    "from pyspark.sql.functions import when\n",
    "# Create binary label column: 1 for Electronic, 0 for others\n",
    "binary_df = merged_audio_genre.withColumn(\"label\", when(merged_audio_genre[\"genre\"] == \"Electronic\", 1).otherwise(0))"
   ]
  },
  {
   "cell_type": "code",
   "execution_count": 50,
   "id": "4f05b16c-672a-49f3-8206-fa466567e5cf",
   "metadata": {},
   "outputs": [
    {
     "name": "stderr",
     "output_type": "stream",
     "text": [
      "25/06/13 02:18:18 WARN DAGScheduler: Broadcasting large task binary with size 1883.7 KiB\n",
      "[Stage 1070:>                                                       (0 + 1) / 1]"
     ]
    },
    {
     "name": "stdout",
     "output_type": "stream",
     "text": [
      "+-------+------------------+-----------------+------------------+--------------------+-------------------+--------------------+--------------------+--------------------+--------------------+--------------------+-----------------+-----------------+-----------------+--------------------+--------------------+--------------------+--------------------+--------------------+--------------------+--------------------+--------------------+-------------------+--------------------+-------------------+-------------------+--------------------+--------------------+--------------------+--------------------+------+--------------------+-------------------+--------------------+--------------------+--------------------+-------------------+--------------------+--------------------+--------------------+------+------------------+--------------------+--------------------+------------------+--------------------+--------------------+--------------------+-----------------+-----------------+-------------------+--------------------+------------------+--------------------+-------------------+------------------+------------------+--------------------+-------------------+-------------------+--------------------+------------------+------------------+-------------------+------------------+-------------------+-------------------+-------------------+-------------------+-------------------+-------------------+-------------------+-------------------+--------------------+--------------------+--------------------+--------------------+--------------------+--------------------+--------------------+--------------------+--------------------+--------------------+--------------------+--------------------+--------------------+-------------------+------------------+--------------------+--------------------+-------------------+--------------------+------------------+-------------------+-------------------+-------------------+-------------------+------------------+-------------------+-------------------+-------------------+-------------------+-------------------+-------------------+-------------------+--------------------+--------------------+--------------------+--------------------+--------------------+--------------------+--------------------+--------------------+--------------------+--------------------+--------------------+--------------------+-------------------+------------------+--------------------+-------------------+-------------------+--------------------+------------------+------------------+-------------------+-------------------+-------------------+------------------+-------------------+------------------+------------------+-------------------+-------------------+-------------------+-------------------+--------------------+--------------------+--------------------+--------------------+--------------------+--------------------+--------------------+--------------------+--------------------+--------------------+--------------------+--------------------+------------------+------------------+--------------------+--------------------+-------------------+--------------------+------------------+------------------+-------------------+-------------------+-------------------+-------------------+--------------------+-------------------+--------------------+--------------------+-------------------+-------------------+-------------------+--------------------+--------------------+--------------------+--------------------+--------------------+--------------------+--------------------+--------------------+--------------------+--------------------+--------------------+--------------------+-------------------+------------------+\n",
      "|summary|             aom_1|            aom_2|             aom_3|               aom_4|              aom_5|               aom_6|               aom_7|               aom_8|               aom_9|              aom_10|           aom_11|           aom_12|           aom_13|              aom_14|              aom_15|              aom_16|              aom_17|              aom_18|              aom_19|              aom_20|               lpc_1|              lpc_2|               lpc_3|              lpc_4|              lpc_5|               lpc_6|               lpc_7|               lpc_8|               lpc_9|lpc_10|              lpc_11|             lpc_12|              lpc_13|              lpc_14|              lpc_15|             lpc_16|              lpc_17|              lpc_18|              lpc_19|lpc_20|            spec_1|              spec_2|              spec_3|            spec_4|              spec_5|              spec_6|              spec_7|           spec_8|           spec_9|            spec_10|                mt_1|              mt_2|                mt_3|               mt_4|              mt_5|              mt_6|                mt_7|               mt_8|               mt_9|               mt_10|             mt_11|             mt_12|              mt_13|             mt_14|              mt_15|              mt_16|              mt_17|              mt_18|              mt_19|              mt_20|              mt_21|              mt_22|               mt_23|               mt_24|               mt_25|               mt_26|               mt_27|               mt_28|               mt_29|               mt_30|               mt_31|               mt_32|               mt_33|               mt_34|               mt_35|              mt_36|             mt_37|               mt_38|               mt_39|              mt_40|               mt_41|             mt_42|              mt_43|              mt_44|              mt_45|              mt_46|             mt_47|              mt_48|              mt_49|              mt_50|              mt_51|              mt_52|              mt_53|              mt_54|               mt_55|               mt_56|               mt_57|               mt_58|               mt_59|               mt_60|               mt_61|               mt_62|               mt_63|               mt_64|               mt_65|               mt_66|              mt_67|             mt_68|               mt_69|              mt_70|              mt_71|               mt_72|             mt_73|             mt_74|              mt_75|              mt_76|              mt_77|             mt_78|              mt_79|             mt_80|             mt_81|              mt_82|              mt_83|              mt_84|              mt_85|               mt_86|               mt_87|               mt_88|               mt_89|               mt_90|               mt_91|               mt_92|               mt_93|               mt_94|               mt_95|               mt_96|               mt_97|             mt_98|             mt_99|              mt_100|              mt_101|             mt_102|              mt_103|            mt_104|            mt_105|             mt_106|             mt_107|             mt_108|             mt_109|              mt_110|             mt_111|              mt_112|              mt_113|             mt_114|             mt_115|             mt_116|              mt_117|              mt_118|              mt_119|              mt_120|              mt_121|              mt_122|              mt_123|              mt_124|              mt_125|              mt_126|              mt_127|              mt_128|             mt_129|            mt_130|\n",
      "+-------+------------------+-----------------+------------------+--------------------+-------------------+--------------------+--------------------+--------------------+--------------------+--------------------+-----------------+-----------------+-----------------+--------------------+--------------------+--------------------+--------------------+--------------------+--------------------+--------------------+--------------------+-------------------+--------------------+-------------------+-------------------+--------------------+--------------------+--------------------+--------------------+------+--------------------+-------------------+--------------------+--------------------+--------------------+-------------------+--------------------+--------------------+--------------------+------+------------------+--------------------+--------------------+------------------+--------------------+--------------------+--------------------+-----------------+-----------------+-------------------+--------------------+------------------+--------------------+-------------------+------------------+------------------+--------------------+-------------------+-------------------+--------------------+------------------+------------------+-------------------+------------------+-------------------+-------------------+-------------------+-------------------+-------------------+-------------------+-------------------+-------------------+--------------------+--------------------+--------------------+--------------------+--------------------+--------------------+--------------------+--------------------+--------------------+--------------------+--------------------+--------------------+--------------------+-------------------+------------------+--------------------+--------------------+-------------------+--------------------+------------------+-------------------+-------------------+-------------------+-------------------+------------------+-------------------+-------------------+-------------------+-------------------+-------------------+-------------------+-------------------+--------------------+--------------------+--------------------+--------------------+--------------------+--------------------+--------------------+--------------------+--------------------+--------------------+--------------------+--------------------+-------------------+------------------+--------------------+-------------------+-------------------+--------------------+------------------+------------------+-------------------+-------------------+-------------------+------------------+-------------------+------------------+------------------+-------------------+-------------------+-------------------+-------------------+--------------------+--------------------+--------------------+--------------------+--------------------+--------------------+--------------------+--------------------+--------------------+--------------------+--------------------+--------------------+------------------+------------------+--------------------+--------------------+-------------------+--------------------+------------------+------------------+-------------------+-------------------+-------------------+-------------------+--------------------+-------------------+--------------------+--------------------+-------------------+-------------------+-------------------+--------------------+--------------------+--------------------+--------------------+--------------------+--------------------+--------------------+--------------------+--------------------+--------------------+--------------------+--------------------+-------------------+------------------+\n",
      "|  count|            420600|           420600|            420600|              420600|             420600|              420600|              420600|              420600|              420600|              420600|           420600|           420600|           420600|              420600|              420600|              420600|              420600|              420600|              420600|              420600|              420600|             420600|              420600|             420600|             420600|              420600|              420600|              420600|              420600|420600|              420600|             420600|              420600|              420600|              420600|             420600|              420600|              420600|              420600|420600|            420600|              420600|              420600|            420600|              420600|              420600|              420600|           420600|           420600|             420600|              420600|            420600|              420600|             420600|            420600|            420600|              420600|             420600|             420600|              420600|            420600|            420600|             420600|            420600|             420600|             420600|             420600|             420600|             420600|             420600|             420600|             420600|              420600|              420600|              420600|              420600|              420600|              420600|              420600|              420600|              420600|              420600|              420600|              420600|              420600|             420600|            420600|              420600|              420600|             420600|              420600|            420600|             420600|             420600|             420600|             420600|            420600|             420600|             420600|             420600|             420600|             420600|             420600|             420600|              420600|              420600|              420600|              420600|              420600|              420600|              420600|              420600|              420600|              420600|              420600|              420600|             420600|            420600|              420600|             420600|             420600|              420600|            420600|            420600|             420600|             420600|             420600|            420600|             420600|            420600|            420600|             420600|             420600|             420600|             420600|              420600|              420600|              420600|              420600|              420600|              420600|              420600|              420600|              420600|              420600|              420600|              420600|            420600|            420600|              420600|              420600|             420600|              420600|            420600|            420600|             420600|             420600|             420600|             420600|              420600|             420600|              420600|              420600|             420600|             420600|             420600|              420600|              420600|              420600|              420600|              420600|              420600|              420600|              420600|              420600|              420600|              420600|              420600|             420600|            420600|\n",
      "|   mean|1.2715404529849457|5374.172122256302|33502.395974679035| 1.230412895990371E8|7.632074571211978E8| 5.148158311752243E9|7.497838189835645...| 6.854779324504889E9|4.626385002893373E10|2.249683647787933...|3.750150486298883|9257.375596990776|57783.39258092914|-1.37133880349316...|-8.499139825368664E8| -5.73772528761547E9|6.595543271874612E12| 7.625260113068605E9|5.151761519055529E10|1.979505142949434...| 0.05533933592486924|0.16842490107417973| 0.18336424665240128|0.14835947972634342|0.14150258663361864|  0.1311852781100807| 0.09962328200095108| 0.09425147014265339|  0.0844045765794104|   0.0| -0.9698580222677134| 0.5515139143956963|-0.06465393632125299|0.014810931657169278|-0.13732151412909904|0.10164596494540219|-0.02846368254736...|-0.01471257851845...|-0.04947069792269898|   0.0| 6.836280848644791| 0.05560612202853057|0.004175428459979709|219.93444594341403|0.002252099268221295| 0.07487590404214982| 0.05949904520684734|16.66709232394198|9.104485048283399| 0.0626425742246553|0.003166904077886727|1634.4983690685635|0.004589223483930499| 0.1737399072780141|0.5590472133145501| 27.07522442596028|  0.0917429483594864|0.06819692408226345|0.18800253290061822| 0.09424817609367567|-45.35158557092012| 4.326373410268659|0.14831620091060377|1.1778995214098904|0.13339942404184493| 0.3726472194531624|0.11275667012125545|0.15515318025439848|0.08410710133380882|0.12267849395625294|0.09623109285306707|0.06726566423918215|0.057002765627674826|0.001656472113647171|0.001556578808844...|0.001557427063718...|0.001691555325725...|0.001778616642891...|0.001884735932001...|0.001948339591060...| 0.00199249327151688|0.001947650860675...|0.001864961024726581|0.001802527665240...|0.001732130858297...| 1.6411316765882067|12.549832627555924| 0.03590604292914883| 0.03155583066571566|0.12185019983832622| 0.03780687070613409|2.2041789966737992|   0.98482146357109|  0.748106608592488| 0.6625272422230146| 0.5760745398858773|0.5259889789324781|  0.509915981761769|0.49298786131478844| 0.4734794433000477|0.46274439575606335| 0.4503327516714224| 0.4373926977579649| 0.4249375965525441|0.001219663347598...|0.001132654581550166|0.001129688582976...|0.001252467596291...|0.001330197534474...|0.001417925437470282|0.001481603884926...|0.001530841319543...|0.001516694593437...|0.001447624457917...|0.001376569776509...|0.001297969690917...|0.35569686988112237|30.118251445717945|0.030369710668093186|0.04007515311935332|0.10165728247028052|0.062146837439372334| 4.612412076390874| 1.028598503604375| 0.7335214913456972| 0.6528606044079887| 0.4962661364812176|0.4289707580290061|0.40037133068235853|0.3837656816262481|0.3671694772776987|0.35676579177365697| 0.3424223897360913|  0.331803018452211|0.31993656850927243|7.794259914407987E-4|7.246329481692815E-4|7.297024155967665E-4|7.976106609605321E-4|8.294823133618643E-4|8.850087066096044E-4|9.078620304327149E-4|9.373824845458863E-4|9.244615929624347E-4|8.863879267712796E-4|8.569812196861627E-4|8.127427698525913E-4|0.3344537196647644| 53.03839833358992|0.019934921153114595|0.026067555946267248|0.08055808048502136|0.036993114755111724|2.9407251625677624|0.3923104954778886|0.25417019572753213|0.21681864314075122| 0.1688991792914883|0.14146400709462661|  0.1348541094174988| 0.1288218200237755|  0.1216876637660485| 0.11943801936994772|0.11494386040893965|0.11213293641464578|0.10924134315501666|6.888642368045645E-4|6.388867950546837E-4|6.395966809320014E-4|7.158802662862576E-4|7.639655349500722E-4|8.159242605801238E-4|8.478704374702803E-4|8.739873823109854E-4|8.686381478839764E-4|8.332756086543031E-4|7.897936875891588E-4| 7.35144096528769E-4|   0.19993846851165|198.03041365811035|\n",
      "| stddev| 0.528766468630206|2382.071795067812|17999.940177862325|2.3749994170762348E8|1.545146062390036E9|1.189776151583221...|5.551082407401305E13|1.390557481479742...|1.071518153001296...|2.403850607106583...|1.908774625967391|4116.352492499067|30949.96799964448| 2.646889440345097E8| 1.716346731781628E9|1.324951011207627E10|4.884046410420166...|1.544398810660099...|1.193118035071792...|2.122021993355494E16|0.027903965629126382|0.04587004329963817|0.054842637326576835|0.03813344257798446|0.04063015571701681|0.026496209788077933|0.029616489505557852|0.021312057932821198|0.020021305487244005|   0.0|0.039352281799473435|0.10699204553715237|  0.1734361358190345| 0.12549255116241606| 0.09811347863188447|0.07218946148872685| 0.05001438560304706| 0.03906407033807027| 0.05652637749714838|   0.0|3.4640764029483497|0.025486456317111193|0.003169149422771227| 56.62234042197471|9.667676898082998E-4|0.029777298670775196|0.018118879928292808|7.185584764887948|3.818016612832673|0.02935210642897161|0.002489788687860108|104.77686588962911|0.001948092956034...|0.07319440727169575|0.0466499406358603|10.444237556076185|0.039941926297925916|0.03689702980031917|0.10269451702831958|0.009341764875767157| 5.125643488079485|1.7939943727171972|   0.86567127265971| 0.576839810964754|0.43255151259847585|0.34063714174419807| 0.3019454620811989|0.28803317661561617| 0.2449870262517406|0.24252208937982273|0.21714292215110803|0.20099561546120945|  0.1871148417838877|0.001313043637654681|0.001225419667007...|0.001215357557807...|0.001333960791848...|0.001424265833490...|0.001514067424494425|0.001575493959592...|0.001609768157536...|0.001584435792986...|0.001526303792019593|0.001463984807218...|0.001391994473906...|0.35315999493102174|3872.5948111853195|0.018475905765032243|0.018657920401891844| 0.0793587557719217|0.011077587156948426|0.9654059538721439|0.34694626717938604|0.20035900474776325|0.15326890686292924|0.11390248474535968| 0.087272051585215|0.08165549184237426|0.07681031479450089|0.06798983785569222|0.06771825983584076|0.06345938614444638|0.06132948151467949|0.05801183744399003| 9.91196095565674E-4|9.153353213934222E-4|9.054027219508387E-4|0.001012142727097...|0.001098831380344...|0.001177875527200...|0.001243356136568...|0.001280671139407...|0.001274287301892...|0.001228476410934...|0.001156987887626...| 0.00107458329213814|0.16748145617661644|16143.647884217964|0.014250737930488344|0.01532671962388822|0.04407810181644748| 0.01237395918793667|1.8424687465205394|0.4348925384972446|0.28346918630260753|0.23029869210631576|0.17708537695610993|0.1471088165590393|0.14004054604495686|0.1378584522888451|0.1357955478367016|0.13710865938463337|0.13683521032537202|0.13342007528298616|0.12905226972644773|6.331959321197852E-4|5.865736893476759E-4|5.771597641664362E-4|6.320953275454965E-4|6.730423828779074E-4|7.161094325012422E-4|7.437513821654393E-4|7.602306590909877E-4|7.566088810878239E-4|7.398191726338438E-4|7.118674129654354E-4| 6.71291122574777E-4|0.1970939179843181|29447.523468834774|0.011604005681165094|0.010945236305694042|0.03669056904915091|0.007248427572669643|0.7088564073888679|0.1633771156931757|0.09284679229305577|0.07662485979528452|0.05831621553357241|0.04047586208104493|0.038547938993382595|0.03728247080771557|0.034155126818453285|0.035504502576403564|0.03516181950252961|0.03560226048753913|0.03612108795124793|6.068501532849637E-4|5.666912506208949E-4|5.574290316787229E-4|6.102629175705097E-4|6.600254857397929E-4|7.007611669558395E-4|7.347963786113122E-4|7.481836561471892E-4|7.449804738141109E-4|7.332860669697383E-4|6.980079871887185E-4|6.525322840637232E-4|0.09131497300086268|122710.95477770973|\n",
      "|    min|               0.0|              0.0|               0.0|                 0.0|                0.0|                 0.0|                 0.0|                 0.0|                 0.0|                 0.0|              0.0|              0.0|              0.0|              -10.11|              -10.71|          -1.001e+11|                 0.0|                 0.0|                 0.0|                 0.0|                 0.0|                0.0|                 0.0|                0.0|                0.0|                 0.0|                 0.0|                 0.0|                 0.0|   0.0|          -0.0005148|         -0.0001368|          -0.0001009|          -0.0001012|          -0.0001017|         -0.0001001|          -0.0001001|          -0.0001001|           -0.000101|   0.0|               0.0|                 0.0|                 0.0|               0.0|                 0.0|                 0.0|                 0.0|              0.0|              0.0|                0.0|                 0.0|               0.0|                 0.0|                0.0|               0.0|               0.0|            0.001953|           0.001593|           0.015208|            0.003934|         -0.175166|         -0.000007|          -0.000005|         -0.000004|          -0.000001|          -0.000004|          -0.000000|          -0.000003|          -0.000002|          -0.000001|          -0.000002|          -0.000001|           -0.000001|            0.000000|            0.000000|            0.000000|            0.000000|            0.000000|            0.000000|            0.000000|            0.000000|            0.000000|            0.000000|            0.000000|            0.000000|           0.000000|          0.000000|            0.000000|            0.000000|           0.000000|            0.002865|          0.000000|           0.000000|           0.000000|           0.000000|           0.000000|          0.000000|           0.000000|           0.000000|           0.000000|           0.000000|           0.000000|           0.000000|           0.000000|            0.000000|            0.000000|            0.000000|            0.000000|            0.000000|            0.000000|            0.000000|            0.000000|            0.000000|            0.000000|            0.000000|            0.000000|           0.000000|          0.000000|            0.000000|           0.000000|           0.000000|            0.017847|          0.000000|          0.000000|           0.000000|           0.000000|           0.000000|          0.000000|           0.000000|          0.000000|          0.000000|           0.000000|           0.000000|           0.000000|           0.000000|            0.000000|            0.000000|            0.000000|            0.000000|            0.000000|            0.000000|            0.000000|            0.000000|            0.000000|            0.000000|            0.000000|            0.000000|          0.000000|          0.000000|            0.000000|            0.000000|           0.000000|            0.011663|          0.000000|          0.000000|           0.000000|           0.000000|           0.000000|           0.000000|            0.000000|           0.000000|            0.000000|            0.000000|           0.000000|           0.000000|           0.000000|            0.000000|            0.000000|            0.000000|            0.000000|            0.000000|            0.000000|            0.000000|            0.000000|            0.000000|            0.000000|            0.000000|            0.000000|           0.000000|          0.000000|\n",
      "|    max|         9.696e-05|            996.3|            9999.0|          99990000.0|        999900000.0|        9999000000.0|               9e+11|        9999000000.0|               9e+11|               9e+14|            9.999|           9997.0|          99990.0|                 0.0|                 0.0|                 0.0|               9e+11|        9999000000.0|       99990000000.0|               9e+15|              0.5079|             0.5592|              0.4966|             0.4281|              0.486|              0.3851|              0.3101|              0.2864|              0.3135|   0.0|                 0.0|          7.302e-05|           9.889e-05|            9.91e-05|           9.949e-05|            9.8e-05|             9.9e-05|           9.967e-05|           9.997e-05|   0.0|             9.999|              0.3739|           9.999e-05|             99.93|           9.867e-05|           9.067e-05|              0.4938|            96.36|             96.5|            7.4e-05|            9.99e-05|             999.1|             9.9e-09|          9.863e-06|            0.9471|             99.03|            0.795636|           0.811396|           1.000000|            0.663868|          0.000000|          9.999707|           7.406938|          6.143561|           4.254884|           5.167740|           3.068391|           3.325790|           2.864496|           7.624950|           3.462411|           3.501840|            2.325700|            0.050603|            0.050330|            0.050059|            0.050708|            0.050744|            0.050081|            0.048792|            0.046938|            0.045918|            0.047943|            0.049433|            0.050333|           8.046457|        993.159852|            0.282628|            0.300242|           0.481768|            0.463710|          9.989306|           4.874215|           2.701848|           1.852926|           1.609309|          1.350162|           1.259053|           1.274343|           1.508168|           1.345481|           1.444140|           1.488985|           1.167005|            0.024107|            0.023997|            0.023888|            0.024129|            0.024087|            0.023759|            0.023139|            0.022232|            0.021797|            0.022799|            0.023522|            0.023952|           2.459565|        992.569964|            0.283497|           0.299213|           0.488036|            0.293256|          9.999965|          6.483896|           4.556417|           3.402869|           3.007607|          3.242076|           2.493704|          2.648026|          2.519486|           3.118222|           2.507020|           2.286340|           2.062299|            0.020232|            0.020164|            0.020084|            0.020262|            0.020178|            0.019852|            0.019281|            0.018477|            0.018099|            0.018987|            0.019644|            0.020061|          2.785453|        997.822949|            0.130334|            0.138211|           0.227810|            0.192964|          9.996816|          2.055322|           1.522853|           0.967321|           0.894500|           0.741679|            0.593224|           0.887876|            0.615429|            1.296595|           0.609544|           0.826616|           0.559608|            0.009097|            0.008950|            0.008887|            0.009154|            0.009298|            0.009294|            0.009185|            0.008958|            0.008825|            0.009075|            0.009173|            0.009168|           1.362674|        992.945898|\n",
      "+-------+------------------+-----------------+------------------+--------------------+-------------------+--------------------+--------------------+--------------------+--------------------+--------------------+-----------------+-----------------+-----------------+--------------------+--------------------+--------------------+--------------------+--------------------+--------------------+--------------------+--------------------+-------------------+--------------------+-------------------+-------------------+--------------------+--------------------+--------------------+--------------------+------+--------------------+-------------------+--------------------+--------------------+--------------------+-------------------+--------------------+--------------------+--------------------+------+------------------+--------------------+--------------------+------------------+--------------------+--------------------+--------------------+-----------------+-----------------+-------------------+--------------------+------------------+--------------------+-------------------+------------------+------------------+--------------------+-------------------+-------------------+--------------------+------------------+------------------+-------------------+------------------+-------------------+-------------------+-------------------+-------------------+-------------------+-------------------+-------------------+-------------------+--------------------+--------------------+--------------------+--------------------+--------------------+--------------------+--------------------+--------------------+--------------------+--------------------+--------------------+--------------------+--------------------+-------------------+------------------+--------------------+--------------------+-------------------+--------------------+------------------+-------------------+-------------------+-------------------+-------------------+------------------+-------------------+-------------------+-------------------+-------------------+-------------------+-------------------+-------------------+--------------------+--------------------+--------------------+--------------------+--------------------+--------------------+--------------------+--------------------+--------------------+--------------------+--------------------+--------------------+-------------------+------------------+--------------------+-------------------+-------------------+--------------------+------------------+------------------+-------------------+-------------------+-------------------+------------------+-------------------+------------------+------------------+-------------------+-------------------+-------------------+-------------------+--------------------+--------------------+--------------------+--------------------+--------------------+--------------------+--------------------+--------------------+--------------------+--------------------+--------------------+--------------------+------------------+------------------+--------------------+--------------------+-------------------+--------------------+------------------+------------------+-------------------+-------------------+-------------------+-------------------+--------------------+-------------------+--------------------+--------------------+-------------------+-------------------+-------------------+--------------------+--------------------+--------------------+--------------------+--------------------+--------------------+--------------------+--------------------+--------------------+--------------------+--------------------+--------------------+-------------------+------------------+\n",
      "\n"
     ]
    },
    {
     "name": "stderr",
     "output_type": "stream",
     "text": [
      "                                                                                "
     ]
    }
   ],
   "source": [
    "binary_df.select(feature_cols).describe().show()"
   ]
  },
  {
   "cell_type": "code",
   "execution_count": 51,
   "id": "10e2922d-0a42-475c-9e5c-7c9842a20339",
   "metadata": {},
   "outputs": [
    {
     "name": "stderr",
     "output_type": "stream",
     "text": [
      "[Stage 1078:>                                                      (0 + 8) / 10]"
     ]
    },
    {
     "name": "stdout",
     "output_type": "stream",
     "text": [
      "+-----+------+\n",
      "|label| count|\n",
      "+-----+------+\n",
      "|    1| 40662|\n",
      "|    0|379938|\n",
      "+-----+------+\n",
      "\n"
     ]
    },
    {
     "name": "stderr",
     "output_type": "stream",
     "text": [
      "                                                                                "
     ]
    }
   ],
   "source": [
    "binary_df.groupBy(\"label\").count().show()"
   ]
  },
  {
   "cell_type": "code",
   "execution_count": 52,
   "id": "ec1e6253-490a-47a3-ab25-cd07f59855a0",
   "metadata": {},
   "outputs": [],
   "source": [
    "from pyspark.sql.functions import col, when"
   ]
  },
  {
   "cell_type": "code",
   "execution_count": 53,
   "id": "beec8220-38b4-494f-b943-ab52692b3900",
   "metadata": {},
   "outputs": [
    {
     "name": "stderr",
     "output_type": "stream",
     "text": [
      "                                                                                "
     ]
    }
   ],
   "source": [
    "# Step 1: Calculate class frequencies\n",
    "total = binary_df.count()\n",
    "class_counts = binary_df.groupBy(\"label\").count().collect()\n",
    "\n",
    "# Extract counts\n",
    "count_0 = next(row['count'] for row in class_counts if row['label'] == 0)\n",
    "count_1 = next(row['count'] for row in class_counts if row['label'] == 1)"
   ]
  },
  {
   "cell_type": "code",
   "execution_count": 54,
   "id": "181f95fc-9b7a-4275-9360-5cdd84059357",
   "metadata": {},
   "outputs": [],
   "source": [
    "# Step 2: Compute balancing weights (inverse of frequency)\n",
    "weight_0 = total / (2.0 * count_0)\n",
    "weight_1 = total / (2.0 * count_1)"
   ]
  },
  {
   "cell_type": "code",
   "execution_count": 55,
   "id": "9fc7859c-cc25-4bb6-9b49-1de79f5ff94c",
   "metadata": {},
   "outputs": [],
   "source": [
    "# Step 3: Add a new column called 'class_weight'\n",
    "weighted_df = binary_df.withColumn(\n",
    "    \"class_weight\",\n",
    "    when(col(\"label\") == 0, weight_0).otherwise(weight_1)\n",
    ")"
   ]
  },
  {
   "cell_type": "code",
   "execution_count": 56,
   "id": "863af286-0cd3-4001-9bfd-a2c3b169bf2b",
   "metadata": {},
   "outputs": [],
   "source": [
    "from pyspark.sql.functions import col\n",
    "from pyspark.sql.types import DoubleType\n",
    "\n",
    "# Ensure only numeric feature columns are cast\n",
    "numeric_feature_cols = [c for c in weighted_df.columns if c not in [\"track_id\", \"genre\", \"label\"]]\n",
    "\n",
    "for c in numeric_feature_cols:\n",
    "    weighted_df = weighted_df.withColumn(c, col(c).cast(DoubleType()))"
   ]
  },
  {
   "cell_type": "code",
   "execution_count": 57,
   "id": "81a75bdf-4dba-4937-8d8f-912642e3bcb8",
   "metadata": {},
   "outputs": [
    {
     "name": "stderr",
     "output_type": "stream",
     "text": [
      "[Stage 1108:=================================================>      (7 + 1) / 8]"
     ]
    },
    {
     "name": "stdout",
     "output_type": "stream",
     "text": [
      "+------------------+------+------+-------+-------+-------+-------+--------+-------+--------+--------+------+-------+-------+--------+--------+--------+--------+-------+--------+--------+-------+------+------+------+-------+------+-------+-------+-------+------+-------+------+--------+--------+--------+-------+--------+--------+--------+------+------+-------+--------+------+--------+-------+-------+------+------+-------+--------+------+--------+-------+------+-----+--------+--------+--------+--------+----------+--------+---------+--------+---------+---------+---------+---------+---------+--------+---------+---------+---------+-------+-------+-------+-------+-------+-------+-------+-------+-------+-------+-------+-------+--------+---------+--------+--------+--------+--------+--------+--------+--------+--------+--------+--------+--------+--------+--------+--------+--------+--------+--------+-------+-------+-------+-------+-------+-------+-------+-------+-------+-------+-------+-------+--------+---------+--------+--------+--------+--------+--------+--------+--------+--------+--------+--------+--------+--------+--------+--------+--------+--------+--------+-------+-------+-------+-------+-------+-------+-------+-------+-------+-------+-------+-------+--------+---------+--------+--------+--------+--------+--------+--------+--------+--------+--------+--------+--------+--------+--------+--------+--------+--------+--------+-------+-------+-------+-------+-------+-------+-------+-------+-------+-------+-------+-------+--------+---------+-------------+-----+------------------+\n",
      "|          track_id| aom_1| aom_2|  aom_3|  aom_4|  aom_5|  aom_6|   aom_7|  aom_8|   aom_9|  aom_10|aom_11| aom_12| aom_13|  aom_14|  aom_15|  aom_16|  aom_17| aom_18|  aom_19|  aom_20|  lpc_1| lpc_2| lpc_3| lpc_4|  lpc_5| lpc_6|  lpc_7|  lpc_8|  lpc_9|lpc_10| lpc_11|lpc_12|  lpc_13|  lpc_14|  lpc_15| lpc_16|  lpc_17|  lpc_18|  lpc_19|lpc_20|spec_1| spec_2|  spec_3|spec_4|  spec_5| spec_6| spec_7|spec_8|spec_9|spec_10|    mt_1|  mt_2|    mt_3|   mt_4|  mt_5| mt_6|    mt_7|    mt_8|    mt_9|   mt_10|     mt_11|   mt_12|    mt_13|   mt_14|    mt_15|    mt_16|    mt_17|    mt_18|    mt_19|   mt_20|    mt_21|    mt_22|    mt_23|  mt_24|  mt_25|  mt_26|  mt_27|  mt_28|  mt_29|  mt_30|  mt_31|  mt_32|  mt_33|  mt_34|  mt_35|   mt_36|    mt_37|   mt_38|   mt_39|   mt_40|   mt_41|   mt_42|   mt_43|   mt_44|   mt_45|   mt_46|   mt_47|   mt_48|   mt_49|   mt_50|   mt_51|   mt_52|   mt_53|   mt_54|  mt_55|  mt_56|  mt_57|  mt_58|  mt_59|  mt_60|  mt_61|  mt_62|  mt_63|  mt_64|  mt_65|  mt_66|   mt_67|    mt_68|   mt_69|   mt_70|   mt_71|   mt_72|   mt_73|   mt_74|   mt_75|   mt_76|   mt_77|   mt_78|   mt_79|   mt_80|   mt_81|   mt_82|   mt_83|   mt_84|   mt_85|  mt_86|  mt_87|  mt_88|  mt_89|  mt_90|  mt_91|  mt_92|  mt_93|  mt_94|  mt_95|  mt_96|  mt_97|   mt_98|    mt_99|  mt_100|  mt_101|  mt_102|  mt_103|  mt_104|  mt_105|  mt_106|  mt_107|  mt_108|  mt_109|  mt_110|  mt_111|  mt_112|  mt_113|  mt_114|  mt_115|  mt_116| mt_117| mt_118| mt_119| mt_120| mt_121| mt_122| mt_123| mt_124| mt_125| mt_126| mt_127| mt_128|  mt_129|   mt_130|        genre|label|      class_weight|\n",
      "+------------------+------+------+-------+-------+-------+-------+--------+-------+--------+--------+------+-------+-------+--------+--------+--------+--------+-------+--------+--------+-------+------+------+------+-------+------+-------+-------+-------+------+-------+------+--------+--------+--------+-------+--------+--------+--------+------+------+-------+--------+------+--------+-------+-------+------+------+-------+--------+------+--------+-------+------+-----+--------+--------+--------+--------+----------+--------+---------+--------+---------+---------+---------+---------+---------+--------+---------+---------+---------+-------+-------+-------+-------+-------+-------+-------+-------+-------+-------+-------+-------+--------+---------+--------+--------+--------+--------+--------+--------+--------+--------+--------+--------+--------+--------+--------+--------+--------+--------+--------+-------+-------+-------+-------+-------+-------+-------+-------+-------+-------+-------+-------+--------+---------+--------+--------+--------+--------+--------+--------+--------+--------+--------+--------+--------+--------+--------+--------+--------+--------+--------+-------+-------+-------+-------+-------+-------+-------+-------+-------+-------+-------+-------+--------+---------+--------+--------+--------+--------+--------+--------+--------+--------+--------+--------+--------+--------+--------+--------+--------+--------+--------+-------+-------+-------+-------+-------+-------+-------+-------+-------+-------+-------+-------+--------+---------+-------------+-----+------------------+\n",
      "|TRAAABD128F429CF47| 1.087|3359.0|20300.0|4.005E7|2.396E8|1.433E9|8.817E11|2.141E9|1.281E10|1.869E14| 2.482| 5768.0|33690.0|-4.452E7|-2.623E8|-1.545E9|7.736E11|2.335E9|1.377E10|1.603E14|0.05756|0.1586|0.2605|0.1745| 0.1653|0.1204| 0.1106|0.09114|0.08305|   0.0| -0.975|0.6324| -0.2499|  0.1276| -0.0364|0.02161|-0.00485| 0.00977| 0.01568|   0.0| 6.229| 0.0534|0.001519| 172.5|0.001557|0.05665| 0.0558| 16.23| 9.114|0.06159| 0.00109|1626.0|0.002902| 0.1126|0.5304| 27.0|0.054683|0.037942|0.101108|0.098841|-45.660258|4.627341|-0.134918|0.679839|  0.16312| 0.150807|-0.033593| 0.277817|-0.051685|0.253489| 0.232986| 0.240197| 0.351326|5.87E-4|5.63E-4|5.93E-4|6.56E-4|7.23E-4|7.62E-4|7.78E-4|7.96E-4|7.86E-4|7.37E-4|6.72E-4|6.33E-4|1.448878| 2.517609|0.019457|0.015288|0.079243|0.047049|2.161908|0.934234|0.675816|0.703396|0.611476|0.588765|0.563407|0.577838|0.569382|0.540302|0.517572|0.502687|0.481581|4.14E-4|3.92E-4|4.14E-4|4.66E-4|5.18E-4|5.52E-4|5.75E-4|5.94E-4|5.96E-4|5.59E-4|5.04E-4| 4.6E-4|0.266905| 1.261893|0.022515|0.030767|0.087944| 0.05133|3.699128|1.031595|0.729998| 0.74956|0.508797| 0.42058| 0.41753|0.481978|0.423588| 0.41979|0.342876|0.334146|0.380373|3.61E-4|3.47E-4|3.86E-4|4.14E-4| 4.5E-4|4.57E-4|4.72E-4|4.87E-4| 4.8E-4|4.51E-4| 4.1E-4|3.94E-4|0.241177| 1.166999|0.011003|0.017699|  0.1082|0.032203|2.759508|0.377206|0.178761| 0.20281|0.131032|0.133118|0.118045| 0.12726|0.129713|0.108904|0.108745|0.093211|0.100551|2.61E-4|2.49E-4|2.75E-4|3.02E-4|3.36E-4|3.31E-4|3.42E-4|3.49E-4|3.45E-4|3.26E-4|2.93E-4|2.82E-4|0.202831| 1.670989|     Pop_Rock|    0|0.5535113623801778|\n",
      "|TRAAGTO128F1497E3C|0.9806|3378.0|16290.0|4.036E7|1.975E8| 9.65E8|8.913E11|1.766E9| 8.639E9|1.049E14| 1.011| 5776.0|29560.0|-4.474E7|-2.256E8|-1.137E9|7.802E11|2.005E9|1.012E10|9.757E13|0.06619|0.1815|0.1922|0.1461| 0.1404|0.1253| 0.1064| 0.1069|0.08801|   0.0|-0.9826|0.5986| 0.09088|0.002587|-0.07529| 0.1293| 0.04169|-0.02336|-0.04103|   0.0| 5.699|0.03838|0.001236| 274.8|0.001789|0.06716|0.08579| 13.03|  7.33|0.04096|3.271E-4|1754.0| 0.00162| 0.0619|0.6142|18.96|0.074575| 0.06254|0.107267|0.089092| -53.56198|5.524972| 0.405246|1.363614|-0.040993| 0.817706|-0.268234| 0.001031|-0.105668|-0.04321|-0.610342|-0.234542| 0.088622|3.34E-4|3.02E-4|2.34E-4| 2.3E-4|2.13E-4|2.08E-4|1.86E-4| 1.8E-4|2.33E-4|1.98E-4|1.47E-4|2.55E-4|2.469134|29.313252|0.025545|0.021499|0.055648|0.032333|3.475558|0.900078|0.745796|0.693217|0.625724|0.584232|0.513916|0.510589|0.499164|0.504849| 0.45892|0.493489|0.444555|5.35E-4|4.86E-4|3.12E-4|2.18E-4|2.02E-4|2.17E-4|1.92E-4|1.65E-4|1.76E-4|1.76E-4| 2.0E-4|4.08E-4|0.543559|23.913752|0.031086|0.046533|0.094894|0.070699|6.416865|1.350693|0.920192|0.997048|0.715365|0.770825|0.450827|0.504621| 0.47231|0.546488| 0.46422|0.512654|0.522771|5.54E-4|4.86E-4|3.46E-4|4.02E-4|3.14E-4| 2.7E-4|2.34E-4|2.48E-4|5.97E-4|4.64E-4|2.11E-4|4.28E-4|0.710834|48.191648| 0.02671|0.033857|0.060278|0.045961|4.137444|0.472385|0.353779|0.337392|0.241516|0.239393|0.163556|0.185226|0.167655|0.190429|0.128503|0.201816|0.184485|8.87E-4|8.43E-4|4.69E-4|3.07E-4|2.66E-4|2.86E-4|2.42E-4|2.23E-4|3.33E-4|3.01E-4|3.17E-4| 6.8E-4|0.258991| 37.75932|     Pop_Rock|    0|0.5535113623801778|\n",
      "|TRAAHAU128F9313A3D|0.6652|3354.0|26910.0|3.996E7|3.147E8|2.475E9|8.788E11|2.823E9|2.222E10| 4.25E14| 2.592| 5768.0|43290.0|-4.447E7|-3.396E8|-2.594E9|7.721E11|3.041E9|2.325E10| 3.53E14|0.04437|0.1197|0.1542|0.1247|0.09948|0.1112|0.07781|0.08103|0.07743|   0.0|-0.9655|0.6237|-0.06921|-0.05609| -0.1951| 0.1262|-0.08355|-0.04614| -0.1294|   0.0| 6.099|0.05708|8.682E-4| 187.9|9.592E-4| 0.0332|0.06616| 15.04| 12.02|0.09123|8.643E-4|1569.0|0.002507|0.09907|0.5874|35.99|0.140658|0.100073|0.251436|0.083662|-44.828822|3.074378|-0.351517|0.846029|-0.505646| 0.491178| 0.967017| 0.189071| 0.234187|0.391842|-0.041568| 0.251224| 0.148398|3.63E-4|3.35E-4|3.41E-4|3.47E-4| 3.4E-4|3.59E-4|3.82E-4|4.21E-4|4.37E-4|4.37E-4|4.27E-4|3.89E-4|1.590914| 2.746172|0.038267|0.036018|0.089703| 0.02738|1.390602|0.628753|0.676027| 0.57367|0.544353|0.499222|0.462685|0.437122|0.445274|0.426084|0.414872|0.392109| 0.37581|2.61E-4| 2.4E-4| 2.2E-4|2.23E-4|2.18E-4|2.31E-4|2.63E-4|3.02E-4|3.13E-4|2.97E-4|2.91E-4|2.75E-4|0.316922| 1.133533|0.032805|0.025777|0.070995|0.048213|4.702006|0.835044|0.790362|0.596174|0.395678|0.389681|0.322774|0.277772|0.257875|0.205684|0.229981|0.235967|0.257329|1.32E-4|1.08E-4|1.21E-4|1.31E-4|1.11E-4|1.14E-4|1.32E-4|1.56E-4|1.51E-4|1.59E-4|1.85E-4|1.43E-4|0.260618| 0.971029|0.019431|0.020812| 0.05121|0.028365|1.808594|0.217065|0.226358| 0.16428|0.138093|0.138586|0.096873|0.097297|0.097029|0.081251| 0.08596|0.084388|0.070921|1.03E-4| 9.7E-5| 9.4E-5|1.07E-4|1.02E-4| 9.8E-5|1.06E-4|1.18E-4|1.14E-4|1.01E-4|1.15E-4|1.02E-4| 0.15408| 0.721714|     Pop_Rock|    0|0.5535113623801778|\n",
      "|TRAAHZP12903CA25F4| 1.372|3362.0|29130.0|4.017E7|3.467E8|2.991E9|8.855E11|3.128E9|  2.7E10|5.655E14| 1.868| 5788.0|49760.0|-4.477E7|-3.857E8|-3.319E9|7.792E11|3.481E9|2.999E10|4.988E14|0.06659|0.2211|0.2462| 0.151| 0.1735|0.1985|  0.119| 0.1371| 0.1263|   0.0|-0.9425|0.6377| 0.02286| -0.1305| -0.2536| 0.2645|-0.01012| 0.04977|-0.04219|   0.0| 11.18|0.07767|0.002841| 265.3|0.002088|0.07393|0.06671| 24.03| 18.56| 0.1115|9.622E-4|1636.0|0.002193|0.08333|0.6052|44.33|0.174169|0.155472|0.316951|0.095617|-48.800388| 1.23047|-1.190498|0.216763| -0.47088|-0.490122|-0.601767|-0.056948| -0.16667|0.141286|-0.180471| 0.207992|-0.486421|4.73E-4|4.34E-4|4.09E-4|4.44E-4|4.81E-4|5.15E-4|5.53E-4| 5.7E-4|5.53E-4|5.28E-4|5.17E-4|5.07E-4|2.386329|12.111252|0.057082|0.055442|0.155934| 0.03332|3.747975|1.206431|1.270182|1.146984|0.822224|0.670829|0.655975|0.632642|0.566347|0.576504|0.536375|0.491119|0.516417|5.85E-4| 5.5E-4|5.15E-4|5.46E-4|5.72E-4|5.95E-4|6.37E-4|6.71E-4|6.58E-4|6.37E-4|6.26E-4|5.97E-4|0.731487| 10.26533|0.067719|0.068551|0.118269|0.072124|4.186563| 0.92644|1.942814|1.165174|0.891197|0.651683| 0.82158|0.326664|0.430984|0.412432|0.512627|0.300595|0.408253|5.26E-4|4.83E-4|4.76E-4|5.64E-4|6.52E-4|7.15E-4|7.57E-4|7.75E-4|7.57E-4|7.12E-4|6.48E-4|5.91E-4|0.792476| 9.886399|0.025649|0.031444|0.098077|0.043537|3.365791|0.467572|0.449949|0.355204|0.263292|0.184777|0.146462|0.184832|0.148271|0.168031|0.134137|0.113228|0.141165|6.53E-4|5.98E-4|6.21E-4|7.38E-4| 8.4E-4|9.11E-4|9.58E-4|9.78E-4|9.55E-4| 9.0E-4|8.04E-4|7.13E-4|0.333981|11.914364|          Rap|    0|0.5535113623801778|\n",
      "|TRAAICW128F1496C68|0.9336|6711.0|42110.0|1.605E8|1.014E9|6.398E9|7.077E12|9.108E9|5.751E10|1.783E15| 2.876|11580.0|73720.0| -1.79E8|-1.136E9|  -7.2E9|6.231E12|1.02E10|6.468E10|1.583E15|0.02989|0.1445|0.1486|0.1304| 0.1003|0.1021|0.09268|0.06998|0.08512|   0.0|-0.9843|0.5398|-0.07409|-0.04319| -0.1657|0.06977|-0.06272|-0.05445| -0.1091|   0.0| 3.433|0.03825|0.002125| 185.2|0.001619|0.05383|0.05024| 10.48| 6.082|0.04126|0.001649|1617.0|0.003661| 0.1381|0.5431|22.45| 0.09108|0.053663|0.135556| 0.08248|-45.514938|4.056627| 0.952406|1.837094|-0.171088| 0.308797| 0.269989|-0.270388|-0.139339|0.277785| 0.184467|-0.008379| 0.264193|7.25E-4|6.97E-4|6.78E-4| 6.9E-4|6.84E-4|7.19E-4|7.97E-4|8.41E-4|7.83E-4|6.85E-4|6.78E-4|7.18E-4|1.362359| 2.001442|0.024657| 0.01694| 0.06206|0.027978| 1.46428|  0.7331|0.512699|0.543769|0.466696|0.412235|0.398311|0.381246|0.383705|0.359336|0.369501| 0.37608|0.347962|4.09E-4|3.98E-4|3.84E-4|3.93E-4|3.92E-4|3.98E-4|4.18E-4|4.43E-4|4.33E-4|4.01E-4|3.85E-4|3.99E-4|0.171372| 0.541056| 0.02388|0.023628|0.078195|0.051504| 5.04262|0.706306|0.548225|0.548118|0.382477|0.377537|0.240104|0.226715| 0.18194|0.311148|0.193568|0.170298|0.174174|3.22E-4|3.11E-4|2.95E-4|2.99E-4| 3.0E-4|3.08E-4|3.23E-4| 3.4E-4|3.29E-4|3.06E-4|2.98E-4|3.14E-4| 0.07572| 0.206801| 0.00937|0.011637|0.039792|0.029579|1.985586|0.383816|0.160355|0.171845| 0.13789|0.086236|0.111263|0.075951|0.092106|0.074993|0.073186|0.073024|0.057675|2.96E-4|2.62E-4|2.12E-4|2.32E-4|2.64E-4|2.94E-4|3.21E-4|3.37E-4|3.38E-4|3.33E-4|3.15E-4|3.05E-4|0.053584| 0.231956|International|    0|0.5535113623801778|\n",
      "+------------------+------+------+-------+-------+-------+-------+--------+-------+--------+--------+------+-------+-------+--------+--------+--------+--------+-------+--------+--------+-------+------+------+------+-------+------+-------+-------+-------+------+-------+------+--------+--------+--------+-------+--------+--------+--------+------+------+-------+--------+------+--------+-------+-------+------+------+-------+--------+------+--------+-------+------+-----+--------+--------+--------+--------+----------+--------+---------+--------+---------+---------+---------+---------+---------+--------+---------+---------+---------+-------+-------+-------+-------+-------+-------+-------+-------+-------+-------+-------+-------+--------+---------+--------+--------+--------+--------+--------+--------+--------+--------+--------+--------+--------+--------+--------+--------+--------+--------+--------+-------+-------+-------+-------+-------+-------+-------+-------+-------+-------+-------+-------+--------+---------+--------+--------+--------+--------+--------+--------+--------+--------+--------+--------+--------+--------+--------+--------+--------+--------+--------+-------+-------+-------+-------+-------+-------+-------+-------+-------+-------+-------+-------+--------+---------+--------+--------+--------+--------+--------+--------+--------+--------+--------+--------+--------+--------+--------+--------+--------+--------+--------+-------+-------+-------+-------+-------+-------+-------+-------+-------+-------+-------+-------+--------+---------+-------------+-----+------------------+\n",
      "only showing top 5 rows\n",
      "\n"
     ]
    },
    {
     "name": "stderr",
     "output_type": "stream",
     "text": [
      "                                                                                "
     ]
    }
   ],
   "source": [
    "weighted_df.show(5)"
   ]
  },
  {
   "cell_type": "code",
   "execution_count": 58,
   "id": "7ce04d1a-1fc5-4fce-b2ff-21313501077e",
   "metadata": {},
   "outputs": [],
   "source": [
    "from pyspark.ml.classification import LogisticRegression, RandomForestClassifier, GBTClassifier\n",
    "from pyspark.ml.feature import VectorAssembler, StandardScaler, StringIndexer\n",
    "from pyspark.ml import Pipeline\n",
    "from pyspark.sql.functions import when"
   ]
  },
  {
   "cell_type": "code",
   "execution_count": 59,
   "id": "cfb524f3-3ff9-4565-9658-d8595605bffc",
   "metadata": {},
   "outputs": [],
   "source": [
    "# Feature preparation\n",
    "feature_cols = [col for col in weighted_df.columns if col not in [\"track_id\", \"genre\", \"label\", \"class_weight\"]]\n",
    "assembler = VectorAssembler(inputCols=feature_cols, outputCol=\"features_unscaled\")\n",
    "scaler = StandardScaler(inputCol=\"features_unscaled\", outputCol=\"features\")"
   ]
  },
  {
   "cell_type": "code",
   "execution_count": 60,
   "id": "38091538-5daf-43eb-bc8a-d7d57f329184",
   "metadata": {},
   "outputs": [],
   "source": [
    "# Stratified split for training and testing (80/20)\n",
    "stratified = weighted_df.stat.sampleBy(\"label\", fractions={0: 0.8, 1: 0.8}, seed=42)\n",
    "test_df = weighted_df.join(stratified.select(\"track_id\"), on=\"track_id\", how=\"anti\")\n",
    "train_df = stratified"
   ]
  },
  {
   "cell_type": "code",
   "execution_count": 61,
   "id": "57882ecc-88b3-4bf2-aaab-0e862cb2fe42",
   "metadata": {},
   "outputs": [],
   "source": [
    "# Define models\n",
    "lr = LogisticRegression(featuresCol=\"features\", labelCol=\"label\", weightCol=\"class_weight\")\n",
    "rf = RandomForestClassifier(featuresCol=\"features\", labelCol=\"label\", weightCol=\"class_weight\", numTrees=50)\n",
    "# Note: GBTClassifier does NOT support weightCol — you must skip it or handle imbalance another way\n",
    "gbt = GBTClassifier(featuresCol=\"features\", labelCol=\"label\")"
   ]
  },
  {
   "cell_type": "code",
   "execution_count": 62,
   "id": "40974c81-6a19-4c6c-8b99-e368fe8c704f",
   "metadata": {},
   "outputs": [
    {
     "name": "stderr",
     "output_type": "stream",
     "text": [
      "25/06/13 02:21:19 WARN InstanceBuilder: Failed to load implementation from:dev.ludovic.netlib.blas.JNIBLAS\n",
      "                                                                                "
     ]
    }
   ],
   "source": [
    "# Create pipeline and train models\n",
    "pipeline = Pipeline(stages=[assembler, scaler])\n",
    "train_prepared = pipeline.fit(train_df).transform(train_df)\n",
    "test_prepared = pipeline.fit(train_df).transform(test_df)\n",
    "\n",
    "lr_model = lr.fit(train_prepared)\n",
    "rf_model = rf.fit(train_prepared)\n",
    "gbt_model = gbt.fit(train_prepared)"
   ]
  },
  {
   "cell_type": "code",
   "execution_count": 63,
   "id": "c95d85a3-0944-477b-a64e-fc078ee40413",
   "metadata": {},
   "outputs": [],
   "source": [
    "lr_preds = lr_model.transform(test_prepared)\n",
    "rf_preds = rf_model.transform(test_prepared)\n",
    "gbt_preds = gbt_model.transform(test_prepared)"
   ]
  },
  {
   "cell_type": "code",
   "execution_count": 64,
   "id": "387efee8-85b0-4457-9254-d4ffd439fb19",
   "metadata": {},
   "outputs": [
    {
     "name": "stderr",
     "output_type": "stream",
     "text": [
      "                                                                                "
     ]
    },
    {
     "name": "stdout",
     "output_type": "stream",
     "text": [
      "Logistic Regression AUC: 0.8789803775683847\n"
     ]
    },
    {
     "name": "stderr",
     "output_type": "stream",
     "text": [
      "                                                                                "
     ]
    },
    {
     "name": "stdout",
     "output_type": "stream",
     "text": [
      "Random Forest AUC: 0.8482801575967001\n"
     ]
    },
    {
     "name": "stderr",
     "output_type": "stream",
     "text": [
      "                                                                                "
     ]
    },
    {
     "name": "stdout",
     "output_type": "stream",
     "text": [
      "GBT AUC: 0.8698942730528687\n"
     ]
    }
   ],
   "source": [
    "from pyspark.ml.evaluation import BinaryClassificationEvaluator\n",
    "\n",
    "evaluator = BinaryClassificationEvaluator(labelCol=\"label\", rawPredictionCol=\"rawPrediction\")\n",
    "\n",
    "print(\"Logistic Regression AUC:\", evaluator.evaluate(lr_preds))\n",
    "print(\"Random Forest AUC:\", evaluator.evaluate(rf_preds))\n",
    "print(\"GBT AUC:\", evaluator.evaluate(gbt_preds))"
   ]
  },
  {
   "cell_type": "code",
   "execution_count": 65,
   "id": "a78a4e5b-7bca-4ee4-963d-b5474827788b",
   "metadata": {},
   "outputs": [
    {
     "name": "stderr",
     "output_type": "stream",
     "text": [
      "                                                                                "
     ]
    },
    {
     "name": "stdout",
     "output_type": "stream",
     "text": [
      "Logistic Regression Accuracy: 0.8373022935725388\n"
     ]
    },
    {
     "name": "stderr",
     "output_type": "stream",
     "text": [
      "                                                                                "
     ]
    },
    {
     "name": "stdout",
     "output_type": "stream",
     "text": [
      "Random Forest Accuracy: 0.8075083947365299\n"
     ]
    },
    {
     "name": "stderr",
     "output_type": "stream",
     "text": [
      "[Stage 2952:==================================================>   (30 + 2) / 32]"
     ]
    },
    {
     "name": "stdout",
     "output_type": "stream",
     "text": [
      "GBT Accuracy: 0.9194105293133521\n"
     ]
    },
    {
     "name": "stderr",
     "output_type": "stream",
     "text": [
      "                                                                                "
     ]
    }
   ],
   "source": [
    "from pyspark.ml.evaluation import MulticlassClassificationEvaluator\n",
    "\n",
    "acc_evaluator = MulticlassClassificationEvaluator(labelCol=\"label\", predictionCol=\"prediction\", metricName=\"accuracy\")\n",
    "\n",
    "print(\"Logistic Regression Accuracy:\", acc_evaluator.evaluate(lr_preds))\n",
    "print(\"Random Forest Accuracy:\", acc_evaluator.evaluate(rf_preds))\n",
    "print(\"GBT Accuracy:\", acc_evaluator.evaluate(gbt_preds))"
   ]
  },
  {
   "cell_type": "code",
   "execution_count": 66,
   "id": "d4a4cb56-51c1-4244-a6e5-6d9a066ac889",
   "metadata": {},
   "outputs": [
    {
     "name": "stderr",
     "output_type": "stream",
     "text": [
      "[Stage 2969:==================================================>   (30 + 2) / 32]"
     ]
    },
    {
     "name": "stdout",
     "output_type": "stream",
     "text": [
      "+-----+----------+-----+\n",
      "|label|prediction|count|\n",
      "+-----+----------+-----+\n",
      "|    1|       0.0| 1879|\n",
      "|    0|       0.0|64302|\n",
      "|    0|       1.0|11833|\n",
      "|    1|       1.0| 6265|\n",
      "+-----+----------+-----+\n",
      "\n"
     ]
    },
    {
     "name": "stderr",
     "output_type": "stream",
     "text": [
      "                                                                                "
     ]
    }
   ],
   "source": [
    "lr_preds.groupBy(\"label\", \"prediction\").count().show()"
   ]
  },
  {
   "cell_type": "raw",
   "id": "6bd52eab-ae49-4108-9cdc-4f3f87db4719",
   "metadata": {},
   "source": [
    "GBT doesnt have weighted labels option, so this next plot is for evaluating the GBT with respect to the other ones"
   ]
  },
  {
   "cell_type": "code",
   "execution_count": 67,
   "id": "215f916c-58bf-4818-8506-93f5a31d3de8",
   "metadata": {},
   "outputs": [
    {
     "name": "stderr",
     "output_type": "stream",
     "text": [
      "                                                                                "
     ]
    },
    {
     "data": {
      "image/png": "[encoded data removed]",
      "text/plain": [
       "<Figure size 800x600 with 1 Axes>"
      ]
     },
     "metadata": {},
     "output_type": "display_data"
    }
   ],
   "source": [
    "import matplotlib.pyplot as plt\n",
    "from sklearn.metrics import roc_curve, auc\n",
    "\n",
    "def plot_roc(preds, label):\n",
    "    paired = preds.select(\"label\", \"probability\") \\\n",
    "                  .rdd.map(lambda row: (row[\"label\"], float(row[\"probability\"][1]))) \\\n",
    "                  .collect()\n",
    "\n",
    "    y_true, y_score = zip(*paired)\n",
    "    fpr, tpr, _ = roc_curve(y_true, y_score)\n",
    "    return fpr, tpr, auc(fpr, tpr)\n",
    "\n",
    "fpr_lr, tpr_lr, auc_lr = plot_roc(lr_preds, \"LogReg\")\n",
    "fpr_rf, tpr_rf, auc_rf = plot_roc(rf_preds, \"RandomForest\")\n",
    "fpr_gbt, tpr_gbt, auc_gbt = plot_roc(gbt_preds, \"GBT\")\n",
    "\n",
    "plt.figure(figsize=(8, 6))\n",
    "plt.plot(fpr_lr, tpr_lr, label=f\"LR (AUC = {auc_lr:.2f})\")\n",
    "plt.plot(fpr_rf, tpr_rf, label=f\"RF (AUC = {auc_rf:.2f})\")\n",
    "plt.plot(fpr_gbt, tpr_gbt, label=f\"GBT (AUC = {auc_gbt:.2f})\")\n",
    "plt.plot([0, 1], [0, 1], linestyle=\"--\", color=\"gray\")\n",
    "plt.xlabel(\"False Positive Rate\")\n",
    "plt.ylabel(\"True Positive Rate\")\n",
    "plt.title(\"ROC Curve Comparison\")\n",
    "plt.legend()\n",
    "plt.show()"
   ]
  },
  {
   "cell_type": "code",
   "execution_count": 68,
   "id": "cb1f70fb-c889-4269-9aa9-de642b7b39ce",
   "metadata": {},
   "outputs": [
    {
     "data": {
      "image/png": "[encoded data removed]",
      "text/plain": [
       "<Figure size 1000x600 with 1 Axes>"
      ]
     },
     "metadata": {},
     "output_type": "display_data"
    },
    {
     "data": {
      "image/png": "[encoded data removed]",
      "text/plain": [
       "<Figure size 1000x600 with 1 Axes>"
      ]
     },
     "metadata": {},
     "output_type": "display_data"
    }
   ],
   "source": [
    "import pandas as pd\n",
    "import matplotlib.pyplot as plt\n",
    "\n",
    "def plot_feature_importance(model, feature_cols, title):\n",
    "    importances = model.featureImportances.toArray()\n",
    "    df = pd.DataFrame({\"Feature\": feature_cols, \"Importance\": importances})\n",
    "    df = df.sort_values(by=\"Importance\", ascending=False).head(20)  # top 20\n",
    "    plt.figure(figsize=(10, 6))\n",
    "    plt.barh(df[\"Feature\"], df[\"Importance\"])\n",
    "    plt.gca().invert_yaxis()\n",
    "    plt.title(title)\n",
    "    plt.xlabel(\"Importance\")\n",
    "    plt.show()\n",
    "\n",
    "plot_feature_importance(rf_model, feature_cols, \"Random Forest Feature Importance\")\n",
    "plot_feature_importance(gbt_model, feature_cols, \"GBT Feature Importance\")"
   ]
  },
  {
   "cell_type": "code",
   "execution_count": 69,
   "id": "2e4bf49f-93a1-4d4e-a078-698dd8f02167",
   "metadata": {},
   "outputs": [
    {
     "name": "stderr",
     "output_type": "stream",
     "text": [
      "                                                                                "
     ]
    },
    {
     "name": "stdout",
     "output_type": "stream",
     "text": [
      "LogReg AUC: 0.87898454824391\n"
     ]
    },
    {
     "name": "stderr",
     "output_type": "stream",
     "text": [
      "                                                                                "
     ]
    },
    {
     "name": "stdout",
     "output_type": "stream",
     "text": [
      "RandomForest AUC: 0.8482832952800856\n"
     ]
    },
    {
     "name": "stderr",
     "output_type": "stream",
     "text": [
      "                                                                                "
     ]
    },
    {
     "name": "stdout",
     "output_type": "stream",
     "text": [
      "GBT AUC: 0.8698930755561254\n"
     ]
    }
   ],
   "source": [
    "from pyspark.ml.evaluation import BinaryClassificationEvaluator\n",
    "\n",
    "evaluator = BinaryClassificationEvaluator(labelCol=\"label\", metricName=\"areaUnderROC\")\n",
    "\n",
    "print(\"LogReg AUC:\", evaluator.evaluate(lr_preds))\n",
    "print(\"RandomForest AUC:\", evaluator.evaluate(rf_preds))\n",
    "print(\"GBT AUC:\", evaluator.evaluate(gbt_preds))\n"
   ]
  },
  {
   "cell_type": "code",
   "execution_count": 70,
   "id": "ab2383f5-cc59-4c4a-8fb5-bca73f82956b",
   "metadata": {},
   "outputs": [
    {
     "name": "stderr",
     "output_type": "stream",
     "text": [
      "                                                                                "
     ]
    },
    {
     "name": "stdout",
     "output_type": "stream",
     "text": [
      "LogReg F1: 0.8624694044411663\n"
     ]
    },
    {
     "name": "stderr",
     "output_type": "stream",
     "text": [
      "                                                                                "
     ]
    },
    {
     "name": "stdout",
     "output_type": "stream",
     "text": [
      "RandomForest F1: 0.8396114930445067\n"
     ]
    },
    {
     "name": "stderr",
     "output_type": "stream",
     "text": [
      "[Stage 3207:===========================================>          (26 + 6) / 32]"
     ]
    },
    {
     "name": "stdout",
     "output_type": "stream",
     "text": [
      "GBT F1: 0.9064576894621397\n"
     ]
    },
    {
     "name": "stderr",
     "output_type": "stream",
     "text": [
      "                                                                                "
     ]
    }
   ],
   "source": [
    "from pyspark.ml.evaluation import MulticlassClassificationEvaluator\n",
    "\n",
    "f1_evaluator = MulticlassClassificationEvaluator(labelCol=\"label\", metricName=\"f1\")\n",
    "\n",
    "print(\"LogReg F1:\", f1_evaluator.evaluate(lr_preds))\n",
    "print(\"RandomForest F1:\", f1_evaluator.evaluate(rf_preds))\n",
    "print(\"GBT F1:\", f1_evaluator.evaluate(gbt_preds))"
   ]
  },
  {
   "cell_type": "markdown",
   "id": "cccb914e-ee8f-470d-b55d-f1c9b5af9252",
   "metadata": {},
   "source": [
    "# Logistic Regression for all genres"
   ]
  },
  {
   "cell_type": "code",
   "execution_count": 71,
   "id": "969778f4-555b-41b4-a0a6-841989364462",
   "metadata": {},
   "outputs": [
    {
     "name": "stderr",
     "output_type": "stream",
     "text": [
      "                                                                                "
     ]
    }
   ],
   "source": [
    "from pyspark.ml.feature import StringIndexer, VectorAssembler, StandardScaler\n",
    "from pyspark.ml.classification import LogisticRegression\n",
    "from pyspark.ml.evaluation import MulticlassClassificationEvaluator\n",
    "from pyspark.ml import Pipeline\n",
    "\n",
    "# STEP 1: Encode genre into label\n",
    "indexer = StringIndexer(inputCol=\"genre\", outputCol=\"label\")\n",
    "labeled_df = indexer.fit(merged_audio_genre).transform(merged_audio_genre)"
   ]
  },
  {
   "cell_type": "code",
   "execution_count": 72,
   "id": "9113fefb-799b-458c-80a5-847bd5cb0ec3",
   "metadata": {},
   "outputs": [
    {
     "name": "stderr",
     "output_type": "stream",
     "text": [
      "                                                                                "
     ]
    },
    {
     "name": "stdout",
     "output_type": "stream",
     "text": [
      "Label Index Mapping:\n",
      "0 -> Pop_Rock\n",
      "1 -> Electronic\n",
      "2 -> Rap\n",
      "3 -> Jazz\n",
      "4 -> Latin\n",
      "5 -> RnB\n",
      "6 -> International\n",
      "7 -> Country\n",
      "8 -> Religious\n",
      "9 -> Reggae\n",
      "10 -> Blues\n",
      "11 -> Vocal\n",
      "12 -> Folk\n",
      "13 -> New Age\n",
      "14 -> Comedy_Spoken\n",
      "15 -> Stage \n",
      "16 -> Easy_Listening\n",
      "17 -> Avant_Garde\n",
      "18 -> Classical\n",
      "19 -> Children\n",
      "20 -> Holiday\n"
     ]
    }
   ],
   "source": [
    "# See genre -> label mapping\n",
    "indexer_model = indexer.fit(merged_audio_genre)\n",
    "print(\"Label Index Mapping:\")\n",
    "for i, label in enumerate(indexer_model.labels):\n",
    "    print(f\"{i} -> {label}\")"
   ]
  },
  {
   "cell_type": "code",
   "execution_count": 73,
   "id": "2d2a9d54-5bb5-4f74-8403-6cc7ddcb58ef",
   "metadata": {},
   "outputs": [],
   "source": [
    "# STEP 2: Split into train/test\n",
    "# Cast all feature columns to FloatType\n",
    "feature_cols = [col for col in labeled_df.columns if col not in [\"track_id\", \"genre\", \"label\"]]\n",
    "for colname in feature_cols:\n",
    "    labeled_df = labeled_df.withColumn(colname, col(colname).cast(DoubleType()))\n",
    "train_df, test_df = labeled_df.randomSplit([0.8, 0.2], seed=42)"
   ]
  },
  {
   "cell_type": "code",
   "execution_count": 74,
   "id": "05970d35-1df1-4a87-8829-ef9499344502",
   "metadata": {},
   "outputs": [],
   "source": [
    "# STEP 3: Assemble and scale features\n",
    "assembler = VectorAssembler(inputCols=feature_cols, outputCol=\"assembled_features\")\n",
    "scaler = StandardScaler(inputCol=\"assembled_features\", outputCol=\"features\", withMean=True, withStd=True)"
   ]
  },
  {
   "cell_type": "code",
   "execution_count": 75,
   "id": "b4cebc16-92da-4d31-a9c8-5736dc6f097e",
   "metadata": {},
   "outputs": [],
   "source": [
    "# STEP 4: Train multiclass Logistic Regression\n",
    "lr = LogisticRegression(featuresCol=\"features\", labelCol=\"label\", maxIter=50)"
   ]
  },
  {
   "cell_type": "code",
   "execution_count": 76,
   "id": "b7ce00d3-8379-4575-85b3-6fb060a08b0a",
   "metadata": {},
   "outputs": [
    {
     "name": "stderr",
     "output_type": "stream",
     "text": [
      "[Stage 3642:=================================================>      (7 + 1) / 8]"
     ]
    }
   ],
   "source": [
    "# Pipeline\n",
    "pipeline = Pipeline(stages=[assembler, scaler, lr])\n",
    "lr_model = pipeline.fit(train_df)"
   ]
  },
  {
   "cell_type": "code",
   "execution_count": 77,
   "id": "21cab9ff-10cc-4582-b2d3-a1fe579f0d37",
   "metadata": {},
   "outputs": [],
   "source": [
    "predictions = lr_model.transform(test_df)"
   ]
  },
  {
   "cell_type": "code",
   "execution_count": 78,
   "id": "a039a966-3cb9-4cc2-bb61-9dcb109cf372",
   "metadata": {},
   "outputs": [
    {
     "name": "stderr",
     "output_type": "stream",
     "text": [
      "                                                                                "
     ]
    }
   ],
   "source": [
    "# STEP 6: Evaluate model\n",
    "evaluator_acc = MulticlassClassificationEvaluator(labelCol=\"label\", predictionCol=\"prediction\", metricName=\"accuracy\")\n",
    "evaluator_f1 = MulticlassClassificationEvaluator(labelCol=\"label\", predictionCol=\"prediction\", metricName=\"f1\")\n",
    "evaluator_wp = MulticlassClassificationEvaluator(labelCol=\"label\", predictionCol=\"prediction\", metricName=\"weightedPrecision\")\n",
    "evaluator_wr = MulticlassClassificationEvaluator(labelCol=\"label\", predictionCol=\"prediction\", metricName=\"weightedRecall\")\n",
    "\n",
    "accuracy = evaluator_acc.evaluate(predictions)\n",
    "f1 = evaluator_f1.evaluate(predictions)\n",
    "weighted_precision = evaluator_wp.evaluate(predictions)\n",
    "weighted_recall = evaluator_wr.evaluate(predictions)"
   ]
  },
  {
   "cell_type": "code",
   "execution_count": 79,
   "id": "a77b73d2-4aff-4a44-8832-79d9b26337ae",
   "metadata": {},
   "outputs": [
    {
     "name": "stdout",
     "output_type": "stream",
     "text": [
      "✅ Multiclass Logistic Regression Evaluation:\n",
      "Accuracy:           0.6488\n",
      "F1 Score (Macro):   0.5867\n",
      "Weighted Precision: 0.5871\n",
      "Weighted Recall:    0.6488\n"
     ]
    }
   ],
   "source": [
    "# STEP 7: Print metrics\n",
    "print(f\"✅ Multiclass Logistic Regression Evaluation:\")\n",
    "print(f\"Accuracy:           {accuracy:.4f}\")\n",
    "print(f\"F1 Score (Macro):   {f1:.4f}\")\n",
    "print(f\"Weighted Precision: {weighted_precision:.4f}\")\n",
    "print(f\"Weighted Recall:    {weighted_recall:.4f}\")"
   ]
  },
  {
   "cell_type": "markdown",
   "id": "7f9a5260-4767-4f46-b1b1-679033f29b70",
   "metadata": {},
   "source": [
    "# Song Recommedations"
   ]
  },
  {
   "cell_type": "code",
   "execution_count": 80,
   "id": "11a74854-6e21-49bc-86fe-15f0434e709d",
   "metadata": {},
   "outputs": [],
   "source": [
    "file_path = base_path + \"tasteprofile/triplets.tsv\" \n",
    "df = spark.read.option(\"delimiter\", \"\\t\").option(\"header\", False).csv(file_path)\n",
    "df = df.toDF(\"user_id\", \"track_id\", \"play_count\").withColumn(\"play_count\", col(\"play_count\").cast(\"int\"))"
   ]
  },
  {
   "cell_type": "code",
   "execution_count": 81,
   "id": "6fafec99-f6bc-4a40-8725-4b1693e8e322",
   "metadata": {},
   "outputs": [],
   "source": [
    "df = df.repartition(200).cache()"
   ]
  },
  {
   "cell_type": "code",
   "execution_count": 82,
   "id": "da429f36-52a3-437a-b1f7-8b0bd062305a",
   "metadata": {},
   "outputs": [
    {
     "name": "stderr",
     "output_type": "stream",
     "text": [
      "                                                                                "
     ]
    }
   ],
   "source": [
    "# Step 4: Get basic stats\n",
    "unique_songs = df.select(\"track_id\").distinct().count()\n",
    "unique_users = df.select(\"user_id\").distinct().count()"
   ]
  },
  {
   "cell_type": "code",
   "execution_count": 85,
   "id": "f7462710-71d5-424f-993d-692e87ac9aa2",
   "metadata": {},
   "outputs": [
    {
     "name": "stderr",
     "output_type": "stream",
     "text": [
      "                                                                                "
     ]
    }
   ],
   "source": [
    "from pyspark.sql import SparkSession\n",
    "from pyspark.sql.functions import col, countDistinct, count, desc\n",
    "\n",
    "# Most active user stats\n",
    "most_active_user_row = df.groupBy(\"user_id\") \\\n",
    "    .agg(countDistinct(\"track_id\").alias(\"unique_tracks\")) \\\n",
    "    .orderBy(desc(\"unique_tracks\")).first()\n",
    "\n",
    "most_active_user_tracks = most_active_user_row[\"unique_tracks\"]\n",
    "percentage = (most_active_user_tracks / unique_songs) * 100"
   ]
  },
  {
   "cell_type": "code",
   "execution_count": 86,
   "id": "fdec975a-6e7d-48dd-ab64-3e59db7ebbd1",
   "metadata": {},
   "outputs": [
    {
     "name": "stdout",
     "output_type": "stream",
     "text": [
      "Unique songs: 384546\n",
      "Unique users: 1019318\n",
      "Most active user played 4400 unique songs.\n",
      "That's 1.14% of all songs.\n"
     ]
    }
   ],
   "source": [
    "print(f\"Unique songs: {unique_songs}\")\n",
    "print(f\"Unique users: {unique_users}\")\n",
    "print(f\"Most active user played {most_active_user_tracks} unique songs.\")\n",
    "print(f\"That's {percentage:.2f}% of all songs.\")"
   ]
  },
  {
   "cell_type": "code",
   "execution_count": 87,
   "id": "e5b8bb2f-7db9-44e1-9a92-be3a2c7526e5",
   "metadata": {},
   "outputs": [
    {
     "name": "stderr",
     "output_type": "stream",
     "text": [
      "                                                                                "
     ]
    }
   ],
   "source": [
    "from pyspark.sql.functions import avg, max, min, stddev, count\n",
    "\n",
    "# Total number of plays\n",
    "total_plays = df.count()"
   ]
  },
  {
   "cell_type": "code",
   "execution_count": 88,
   "id": "20100176-cf56-420a-b61f-7a6ec0ef96b2",
   "metadata": {},
   "outputs": [
    {
     "name": "stderr",
     "output_type": "stream",
     "text": [
      "                                                                                "
     ]
    }
   ],
   "source": [
    "# Average number of plays per user\n",
    "avg_plays_per_user = df.groupBy(\"user_id\") \\\n",
    "    .agg(count(\"*\").alias(\"total_plays\")) \\\n",
    "    .agg(avg(\"total_plays\")).first()[0]"
   ]
  },
  {
   "cell_type": "code",
   "execution_count": 89,
   "id": "c772a356-a6d2-404a-8a46-63b0fb3f141d",
   "metadata": {},
   "outputs": [
    {
     "name": "stderr",
     "output_type": "stream",
     "text": [
      "                                                                                "
     ]
    }
   ],
   "source": [
    "# Average number of plays per song\n",
    "avg_plays_per_song = df.groupBy(\"track_id\") \\\n",
    "    .agg(count(\"*\").alias(\"total_plays\")) \\\n",
    "    .agg(avg(\"total_plays\")).first()[0]"
   ]
  },
  {
   "cell_type": "code",
   "execution_count": 90,
   "id": "dea493d8-adf9-4b15-a994-46f85da5a179",
   "metadata": {},
   "outputs": [
    {
     "name": "stderr",
     "output_type": "stream",
     "text": [
      "                                                                                "
     ]
    }
   ],
   "source": [
    "# Standard deviation of play counts\n",
    "std_play_count = df.agg(stddev(\"play_count\")).first()[0]"
   ]
  },
  {
   "cell_type": "code",
   "execution_count": 91,
   "id": "2e01a549-406c-4aef-83f1-71a130439962",
   "metadata": {},
   "outputs": [
    {
     "name": "stderr",
     "output_type": "stream",
     "text": [
      "                                                                                "
     ]
    }
   ],
   "source": [
    "# Max and Min play count for a track-user pair\n",
    "min_play_count = df.agg(min(\"play_count\")).first()[0]\n",
    "max_play_count = df.agg(max(\"play_count\")).first()[0]"
   ]
  },
  {
   "cell_type": "code",
   "execution_count": 92,
   "id": "f8f079c2-fe3c-4cd8-a4d1-908e92b638de",
   "metadata": {},
   "outputs": [
    {
     "name": "stdout",
     "output_type": "stream",
     "text": [
      "Total number of user-song play records: 48373586\n",
      "Average number of plays per user: 47.46\n",
      "Average number of plays per song: 125.79\n",
      "Standard deviation of play counts: 6.44\n",
      "Minimum play count in any user-song pair: 1\n",
      "Maximum play count in any user-song pair: 9667\n"
     ]
    }
   ],
   "source": [
    "# Show results\n",
    "print(f\"Total number of user-song play records: {total_plays}\")\n",
    "print(f\"Average number of plays per user: {avg_plays_per_user:.2f}\")\n",
    "print(f\"Average number of plays per song: {avg_plays_per_song:.2f}\")\n",
    "print(f\"Standard deviation of play counts: {std_play_count:.2f}\")\n",
    "print(f\"Minimum play count in any user-song pair: {min_play_count}\")\n",
    "print(f\"Maximum play count in any user-song pair: {max_play_count}\")"
   ]
  },
  {
   "cell_type": "code",
   "execution_count": 93,
   "id": "e279d1e8-d33c-4a22-b7b6-67155f706989",
   "metadata": {},
   "outputs": [],
   "source": [
    "# Number of unique users per song\n",
    "song_popularity_df = df.groupBy(\"track_id\").agg(countDistinct(\"user_id\").alias(\"user_count\"))"
   ]
  },
  {
   "cell_type": "code",
   "execution_count": 94,
   "id": "50a21b5b-f9c9-489f-b1ba-a992feb07dc3",
   "metadata": {},
   "outputs": [],
   "source": [
    "# Number of unique songs per user\n",
    "user_activity_df = df.groupBy(\"user_id\").agg(countDistinct(\"track_id\").alias(\"song_count\"))"
   ]
  },
  {
   "cell_type": "code",
   "execution_count": 95,
   "id": "3964f6e5-93be-4316-a91d-6f90924f667c",
   "metadata": {},
   "outputs": [
    {
     "name": "stderr",
     "output_type": "stream",
     "text": [
      "                                                                                "
     ]
    }
   ],
   "source": [
    "# Convert to Pandas for plotting\n",
    "song_popularity_pd = song_popularity_df.select(\"user_count\").toPandas()\n",
    "user_activity_pd = user_activity_df.select(\"song_count\").toPandas()"
   ]
  },
  {
   "cell_type": "code",
   "execution_count": 96,
   "id": "c256c3dc-ee3a-4dca-a1cb-ce91d49c1e69",
   "metadata": {},
   "outputs": [
    {
     "data": {
      "image/png": "[encoded data removed]",
      "text/plain": [
       "<Figure size 1000x500 with 1 Axes>"
      ]
     },
     "metadata": {},
     "output_type": "display_data"
    },
    {
     "data": {
      "image/png": "[encoded data removed]",
      "text/plain": [
       "<Figure size 1000x500 with 1 Axes>"
      ]
     },
     "metadata": {},
     "output_type": "display_data"
    }
   ],
   "source": [
    "import matplotlib.pyplot as plt\n",
    "\n",
    "# Plot song popularity\n",
    "plt.figure(figsize=(10,5))\n",
    "plt.hist(song_popularity_pd[\"user_count\"], bins=100, color='steelblue', edgecolor='black')\n",
    "plt.title(\"Distribution of Song Popularity (Unique Users per Song)\")\n",
    "plt.xlabel(\"Number of Users\")\n",
    "plt.ylabel(\"Number of Songs\")\n",
    "plt.yscale(\"log\")\n",
    "plt.grid(True)\n",
    "plt.show()\n",
    "\n",
    "# Plot user activity\n",
    "plt.figure(figsize=(10,5))\n",
    "plt.hist(user_activity_pd[\"song_count\"], bins=100, color='darkorange', edgecolor='black')\n",
    "plt.title(\"Distribution of User Activity (Unique Songs per User)\")\n",
    "plt.xlabel(\"Number of Songs\")\n",
    "plt.ylabel(\"Number of Users\")\n",
    "plt.yscale(\"log\")\n",
    "plt.grid(True)\n",
    "plt.show()"
   ]
  },
  {
   "cell_type": "code",
   "execution_count": 97,
   "id": "2b08afc0-ca74-4b75-82e3-e73451b01a7d",
   "metadata": {},
   "outputs": [],
   "source": [
    "from pyspark.sql.functions import count, col\n",
    "\n",
    "# Step 1: Find songs played fewer than 20 times\n",
    "popular_songs = df.groupBy(\"track_id\").agg(count(\"user_id\").alias(\"play_count\")) \\\n",
    "                  .filter(col(\"play_count\") >= 20)"
   ]
  },
  {
   "cell_type": "code",
   "execution_count": 98,
   "id": "b5aa06ef-17db-4310-b793-8751b47ea6aa",
   "metadata": {},
   "outputs": [],
   "source": [
    "# Join to keep only those songs\n",
    "df_filtered_songs = df.join(popular_songs.select(\"track_id\"), on=\"track_id\", how=\"inner\")"
   ]
  },
  {
   "cell_type": "code",
   "execution_count": 99,
   "id": "bc3ac4d1-7e9a-488d-b4e9-b0ae8bd1f844",
   "metadata": {},
   "outputs": [],
   "source": [
    "from pyspark.sql.functions import countDistinct\n",
    "\n",
    "# Step 2: Find users who played 20 or more unique songs\n",
    "active_users = df_filtered_songs.groupBy(\"user_id\") \\\n",
    "                .agg(countDistinct(\"track_id\").alias(\"song_count\")) \\\n",
    "                .filter(col(\"song_count\") >= 20)\n",
    "\n",
    "# Join to keep only those users\n",
    "df_filtered = df_filtered_songs.join(active_users.select(\"user_id\"), on=\"user_id\", how=\"inner\")"
   ]
  },
  {
   "cell_type": "code",
   "execution_count": 100,
   "id": "7ca03e96-5afa-4bed-b71c-ac49adbd6938",
   "metadata": {},
   "outputs": [
    {
     "name": "stderr",
     "output_type": "stream",
     "text": [
      "                                                                                ]]"
     ]
    }
   ],
   "source": [
    "# Before filtering\n",
    "initial_users = df.select(\"user_id\").distinct().count()\n",
    "initial_songs = df.select(\"track_id\").distinct().count()\n",
    "\n",
    "# After filtering\n",
    "final_users = df_filtered.select(\"user_id\").distinct().count()\n",
    "final_songs = df_filtered.select(\"track_id\").distinct().count()\n",
    "\n",
    "excluded_users = initial_users - final_users\n",
    "excluded_songs = initial_songs - final_songs"
   ]
  },
  {
   "cell_type": "code",
   "execution_count": 101,
   "id": "af208d1d-dcdb-49c7-98e8-87a54a92998d",
   "metadata": {},
   "outputs": [
    {
     "name": "stdout",
     "output_type": "stream",
     "text": [
      "Initial Users: 1019318\n",
      "Final Users: 647808\n",
      "Excluded Users: 371510\n",
      "Initial Songs: 384546\n",
      "Final Songs: 161173\n",
      "Excluded Songs: 223373\n"
     ]
    }
   ],
   "source": [
    "print(\"Initial Users:\", initial_users)\n",
    "print(\"Final Users:\", final_users)\n",
    "print(\"Excluded Users:\", excluded_users)\n",
    "\n",
    "print(\"Initial Songs:\", initial_songs)\n",
    "print(\"Final Songs:\", final_songs)\n",
    "print(\"Excluded Songs:\", excluded_songs)"
   ]
  },
  {
   "cell_type": "code",
   "execution_count": 102,
   "id": "44feeab2-70eb-456b-970a-f57ff7dcd82d",
   "metadata": {},
   "outputs": [
    {
     "name": "stderr",
     "output_type": "stream",
     "text": [
      "                                                                                ]]"
     ]
    }
   ],
   "source": [
    "from pyspark.ml.feature import StringIndexer\n",
    "\n",
    "# Step 1: Index user_id\n",
    "user_indexer = StringIndexer(inputCol=\"user_id\", outputCol=\"user_index\")\n",
    "df_indexed = user_indexer.fit(df_filtered).transform(df_filtered)\n",
    "\n",
    "# Step 2: Index track_id\n",
    "song_indexer = StringIndexer(inputCol=\"track_id\", outputCol=\"song_index\")\n",
    "df_indexed = song_indexer.fit(df_indexed).transform(df_indexed)"
   ]
  },
  {
   "cell_type": "code",
   "execution_count": 103,
   "id": "c604bf3d-e1c1-417f-93ae-e671a0072636",
   "metadata": {},
   "outputs": [
    {
     "name": "stderr",
     "output_type": "stream",
     "text": [
      "25/06/13 04:25:42 WARN DAGScheduler: Broadcasting large task binary with size 44.4 MiB\n",
      "[Stage 3955:>                                                       (0 + 1) / 1]"
     ]
    },
    {
     "name": "stdout",
     "output_type": "stream",
     "text": [
      "+--------------------+----------+------------------+----------+\n",
      "|             user_id|user_index|          track_id|song_index|\n",
      "+--------------------+----------+------------------+----------+\n",
      "|00007f902e31b0693...|  602451.0|SODZJCH12A8C132ADC|    1157.0|\n",
      "|00007f902e31b0693...|  602451.0|SOWYYUQ12A6701D68D|     130.0|\n",
      "|00007f902e31b0693...|  602451.0|SOGPBAW12A6D4F9F22|      34.0|\n",
      "|00007f902e31b0693...|  602451.0|SOUUPZA12A8C136429|    2747.0|\n",
      "|00007f902e31b0693...|  602451.0|SOIGXKF12A6701E096|     831.0|\n",
      "+--------------------+----------+------------------+----------+\n",
      "only showing top 5 rows\n",
      "\n"
     ]
    },
    {
     "name": "stderr",
     "output_type": "stream",
     "text": [
      "                                                                                "
     ]
    }
   ],
   "source": [
    "# Show a sample with original and indexed columns\n",
    "df_indexed.select(\"user_id\", \"user_index\", \"track_id\", \"song_index\").show(5)"
   ]
  },
  {
   "cell_type": "code",
   "execution_count": 104,
   "id": "7fce0d07-1fcc-4ef8-86f5-1a0590937359",
   "metadata": {},
   "outputs": [],
   "source": [
    "from pyspark.sql.functions import col\n",
    "\n",
    "df_indexed = df_indexed.withColumn(\"user_index\", col(\"user_index\").cast(\"int\")) \\\n",
    "                       .withColumn(\"song_index\", col(\"song_index\").cast(\"int\"))"
   ]
  },
  {
   "cell_type": "code",
   "execution_count": 105,
   "id": "42ac0d62-ad2e-4d21-a34f-a446755f905b",
   "metadata": {},
   "outputs": [
    {
     "name": "stderr",
     "output_type": "stream",
     "text": [
      "25/06/13 04:58:45 WARN DAGScheduler: Broadcasting large task binary with size 38.3 MiB\n",
      "25/06/13 04:58:59 WARN DAGScheduler: Broadcasting large task binary with size 38.3 MiB\n",
      "                                                                                "
     ]
    }
   ],
   "source": [
    "from pyspark.sql.functions import col\n",
    "from pyspark.sql.window import Window\n",
    "from pyspark.sql.functions import row_number\n",
    "import random\n",
    "\n",
    "# Assign a row number per user, then split 80/20 randomly\n",
    "window = Window.partitionBy(\"user_index\").orderBy(\"song_index\")\n",
    "df_indexed = df_indexed.withColumn(\"row_num\", row_number().over(window))\n",
    "\n",
    "# Set a random seed for reproducibility\n",
    "random_seed = 42\n",
    "\n",
    "# Get 80% for training by sampling each user's interactions\n",
    "train_df = df_indexed.sampleBy(\"user_index\", fractions=dict.fromkeys(df_indexed.select(\"user_index\").distinct().rdd.map(lambda r: r[0]).collect(), 0.8), seed=random_seed)"
   ]
  },
  {
   "cell_type": "code",
   "execution_count": 106,
   "id": "cb1ef531-e44a-4a15-a4c9-7af90356f4ec",
   "metadata": {},
   "outputs": [],
   "source": [
    "# Join with original to get test set as the remainder\n",
    "test_df = df_indexed.join(train_df, on=[\"user_id\", \"track_id\"], how=\"left_anti\")"
   ]
  },
  {
   "cell_type": "code",
   "execution_count": 107,
   "id": "33c9614f-1805-44a0-83c3-d6d6eb1a8056",
   "metadata": {},
   "outputs": [],
   "source": [
    "from pyspark.ml.recommendation import ALS"
   ]
  },
  {
   "cell_type": "code",
   "execution_count": 108,
   "id": "27d29281-a09f-4d5b-8e4f-bcf03cc44ecb",
   "metadata": {},
   "outputs": [],
   "source": [
    "als = ALS(\n",
    "    userCol=\"user_index\",       # integer-encoded user ID\n",
    "    itemCol=\"song_index\",       # integer-encoded song ID\n",
    "    ratingCol=\"play_count\",     # the strength of interaction\n",
    "    implicitPrefs=True,         # use implicit feedback mode\n",
    "    coldStartStrategy=\"drop\",   # drop NaN predictions during evaluation\n",
    "    nonnegative=True,           # constrain factors to be non-negative\n",
    "    rank=10,                    # number of latent factors\n",
    "    maxIter=10,                 # number of iterations\n",
    "    regParam=0.1                # regularization parameter\n",
    ")"
   ]
  },
  {
   "cell_type": "code",
   "execution_count": 109,
   "id": "bacd5929-a3f7-4904-b092-d5ab76b86a7f",
   "metadata": {},
   "outputs": [
    {
     "name": "stderr",
     "output_type": "stream",
     "text": [
      "25/06/13 05:04:19 WARN DAGScheduler: Broadcasting large task binary with size 44.4 MiB\n",
      "25/06/13 05:04:44 WARN DAGScheduler: Broadcasting large task binary with size 59.2 MiB\n",
      "25/06/13 05:04:49 WARN DAGScheduler: Broadcasting large task binary with size 59.2 MiB\n",
      "25/06/13 05:05:12 WARN DAGScheduler: Broadcasting large task binary with size 59.2 MiB\n",
      "25/06/13 05:05:19 WARN DAGScheduler: Broadcasting large task binary with size 59.2 MiB\n",
      "25/06/13 05:05:27 WARN DAGScheduler: Broadcasting large task binary with size 59.2 MiB\n",
      "25/06/13 05:05:35 WARN DAGScheduler: Broadcasting large task binary with size 59.2 MiB\n",
      "25/06/13 05:05:45 WARN DAGScheduler: Broadcasting large task binary with size 59.2 MiB\n",
      "25/06/13 05:05:47 WARN DAGScheduler: Broadcasting large task binary with size 59.2 MiB\n",
      "25/06/13 05:05:53 WARN DAGScheduler: Broadcasting large task binary with size 59.2 MiB\n",
      "25/06/13 05:05:59 WARN DAGScheduler: Broadcasting large task binary with size 59.2 MiB\n",
      "25/06/13 05:06:03 WARN DAGScheduler: Broadcasting large task binary with size 59.2 MiB\n",
      "25/06/13 05:06:08 WARN DAGScheduler: Broadcasting large task binary with size 59.2 MiB\n",
      "25/06/13 05:06:13 WARN DAGScheduler: Broadcasting large task binary with size 59.2 MiB\n",
      "25/06/13 05:06:20 WARN DAGScheduler: Broadcasting large task binary with size 59.2 MiB\n",
      "25/06/13 05:06:23 WARN DAGScheduler: Broadcasting large task binary with size 59.2 MiB\n",
      "25/06/13 05:06:29 WARN DAGScheduler: Broadcasting large task binary with size 59.2 MiB\n",
      "25/06/13 05:06:32 WARN DAGScheduler: Broadcasting large task binary with size 59.3 MiB\n",
      "25/06/13 05:06:38 WARN DAGScheduler: Broadcasting large task binary with size 59.3 MiB\n",
      "25/06/13 05:06:41 WARN DAGScheduler: Broadcasting large task binary with size 59.3 MiB\n",
      "25/06/13 05:06:46 WARN DAGScheduler: Broadcasting large task binary with size 59.3 MiB\n",
      "25/06/13 05:06:49 WARN DAGScheduler: Broadcasting large task binary with size 59.3 MiB\n",
      "25/06/13 05:06:56 WARN DAGScheduler: Broadcasting large task binary with size 59.3 MiB\n",
      "25/06/13 05:06:59 WARN DAGScheduler: Broadcasting large task binary with size 59.3 MiB\n",
      "25/06/13 05:07:05 WARN DAGScheduler: Broadcasting large task binary with size 59.3 MiB\n",
      "25/06/13 05:07:09 WARN DAGScheduler: Broadcasting large task binary with size 59.3 MiB\n",
      "25/06/13 05:07:16 WARN DAGScheduler: Broadcasting large task binary with size 59.3 MiB\n",
      "25/06/13 05:07:19 WARN DAGScheduler: Broadcasting large task binary with size 59.3 MiB\n",
      "25/06/13 05:07:25 WARN DAGScheduler: Broadcasting large task binary with size 59.3 MiB\n",
      "25/06/13 05:07:28 WARN DAGScheduler: Broadcasting large task binary with size 59.3 MiB\n",
      "25/06/13 05:07:34 WARN DAGScheduler: Broadcasting large task binary with size 59.3 MiB\n",
      "25/06/13 05:07:38 WARN DAGScheduler: Broadcasting large task binary with size 59.3 MiB\n",
      "25/06/13 05:07:43 WARN DAGScheduler: Broadcasting large task binary with size 59.3 MiB\n",
      "25/06/13 05:07:46 WARN DAGScheduler: Broadcasting large task binary with size 59.3 MiB\n",
      "25/06/13 05:07:52 WARN DAGScheduler: Broadcasting large task binary with size 59.3 MiB\n",
      "25/06/13 05:07:55 WARN DAGScheduler: Broadcasting large task binary with size 59.3 MiB\n",
      "25/06/13 05:08:00 WARN DAGScheduler: Broadcasting large task binary with size 59.3 MiB\n",
      "25/06/13 05:08:04 WARN DAGScheduler: Broadcasting large task binary with size 59.3 MiB\n",
      "25/06/13 05:08:10 WARN DAGScheduler: Broadcasting large task binary with size 59.3 MiB\n",
      "25/06/13 05:08:14 WARN DAGScheduler: Broadcasting large task binary with size 59.3 MiB\n",
      "25/06/13 05:08:19 WARN DAGScheduler: Broadcasting large task binary with size 59.3 MiB\n",
      "25/06/13 05:08:24 WARN DAGScheduler: Broadcasting large task binary with size 59.3 MiB\n",
      "25/06/13 05:08:30 WARN DAGScheduler: Broadcasting large task binary with size 59.3 MiB\n",
      "25/06/13 05:08:33 WARN DAGScheduler: Broadcasting large task binary with size 59.3 MiB\n",
      "25/06/13 05:08:39 WARN DAGScheduler: Broadcasting large task binary with size 59.3 MiB\n",
      "25/06/13 05:08:42 WARN DAGScheduler: Broadcasting large task binary with size 59.3 MiB\n",
      "25/06/13 05:08:49 WARN DAGScheduler: Broadcasting large task binary with size 59.3 MiB\n",
      "25/06/13 05:08:52 WARN DAGScheduler: Broadcasting large task binary with size 59.3 MiB\n",
      "25/06/13 05:08:57 WARN DAGScheduler: Broadcasting large task binary with size 59.3 MiB\n",
      "                                                                                "
     ]
    }
   ],
   "source": [
    "als_model = als.fit(train_df)"
   ]
  },
  {
   "cell_type": "code",
   "execution_count": 110,
   "id": "18aec4a3-34fa-4ecd-be85-cb83f34ca0d2",
   "metadata": {},
   "outputs": [
    {
     "name": "stderr",
     "output_type": "stream",
     "text": [
      "25/06/13 05:09:01 WARN DAGScheduler: Broadcasting large task binary with size 59.3 MiB\n",
      "25/06/13 05:09:02 WARN DAGScheduler: Broadcasting large task binary with size 59.3 MiB\n",
      "25/06/13 05:12:08 WARN DAGScheduler: Broadcasting large task binary with size 44.4 MiB\n",
      "25/06/13 05:13:24 WARN DAGScheduler: Broadcasting large task binary with size 53.1 MiB\n",
      "25/06/13 05:13:50 WARN DAGScheduler: Broadcasting large task binary with size 44.4 MiB\n",
      "25/06/13 05:14:33 WARN DAGScheduler: Broadcasting large task binary with size 59.3 MiB\n",
      "25/06/13 05:15:05 WARN DAGScheduler: Broadcasting large task binary with size 59.4 MiB\n",
      "25/06/13 05:15:20 WARN DAGScheduler: Broadcasting large task binary with size 59.4 MiB\n",
      "[Stage 4700:>                                                       (0 + 1) / 1]"
     ]
    },
    {
     "name": "stdout",
     "output_type": "stream",
     "text": [
      "+--------------------+------------------+----------+----------+----------+-------+----------+\n",
      "|             user_id|          track_id|play_count|user_index|song_index|row_num|prediction|\n",
      "+--------------------+------------------+----------+----------+----------+-------+----------+\n",
      "|1ae8f776484cb6ac3...|SOUVTSM12AC468F6A7|         1|       304|        12|     11| 0.4668767|\n",
      "|eaa2b3c9e086a662a...|SOUVTSM12AC468F6A7|        12|       374|        12|     12|0.82435673|\n",
      "|8e9f5c871f48fcb16...|SOUVTSM12AC468F6A7|         1|       927|        12|      8|0.43379432|\n",
      "|6a944bfe30ae8d6b8...|SOUVTSM12AC468F6A7|        32|      1137|        12|     12|0.69801366|\n",
      "|30e13bb5d68e5300d...|SOUVTSM12AC468F6A7|         1|      1278|        12|      5|  0.259111|\n",
      "+--------------------+------------------+----------+----------+----------+-------+----------+\n",
      "only showing top 5 rows\n",
      "\n"
     ]
    },
    {
     "name": "stderr",
     "output_type": "stream",
     "text": [
      "                                                                                "
     ]
    }
   ],
   "source": [
    "predictions = als_model.transform(test_df)\n",
    "predictions.show(5)"
   ]
  },
  {
   "cell_type": "code",
   "execution_count": 111,
   "id": "58f8cf9f-5df2-4e38-9e6c-d4faea3ae14e",
   "metadata": {},
   "outputs": [
    {
     "name": "stderr",
     "output_type": "stream",
     "text": [
      "25/06/13 05:18:21 WARN DAGScheduler: Broadcasting large task binary with size 38.3 MiB\n",
      "25/06/13 05:19:42 WARN DAGScheduler: Broadcasting large task binary with size 53.1 MiB\n",
      "25/06/13 05:20:25 WARN DAGScheduler: Broadcasting large task binary with size 53.1 MiB\n",
      "25/06/13 05:20:47 WARN DAGScheduler: Broadcasting large task binary with size 53.1 MiB\n",
      "[Stage 4768:>                                                       (0 + 1) / 1]"
     ]
    },
    {
     "name": "stdout",
     "output_type": "stream",
     "text": [
      "+----------+\n",
      "|user_index|\n",
      "+----------+\n",
      "|    526727|\n",
      "|    129532|\n",
      "|     29571|\n",
      "|    479488|\n",
      "|    213242|\n",
      "+----------+\n",
      "\n"
     ]
    },
    {
     "name": "stderr",
     "output_type": "stream",
     "text": [
      "                                                                                "
     ]
    }
   ],
   "source": [
    "# Select a few distinct user IDs from the test set\n",
    "test_users = test_df.select(\"user_index\").distinct().limit(5)\n",
    "test_users.show()"
   ]
  },
  {
   "cell_type": "code",
   "execution_count": 112,
   "id": "a1c4a436-779d-4ca7-9d13-fb0b45fa6888",
   "metadata": {},
   "outputs": [
    {
     "name": "stderr",
     "output_type": "stream",
     "text": [
      "25/06/13 05:23:50 WARN DAGScheduler: Broadcasting large task binary with size 38.3 MiB\n",
      "25/06/13 05:25:07 WARN DAGScheduler: Broadcasting large task binary with size 53.1 MiB\n",
      "25/06/13 05:25:50 WARN DAGScheduler: Broadcasting large task binary with size 53.1 MiB\n",
      "25/06/13 05:26:11 WARN DAGScheduler: Broadcasting large task binary with size 53.1 MiB\n",
      "25/06/13 05:26:15 WARN DAGScheduler: Broadcasting large task binary with size 59.4 MiB\n",
      "25/06/13 05:26:34 WARN DAGScheduler: Broadcasting large task binary with size 59.4 MiB\n",
      "[Stage 4917:>                                                       (0 + 1) / 1]"
     ]
    },
    {
     "name": "stdout",
     "output_type": "stream",
     "text": [
      "+----------+-------------------------------------------------------------------------------------------------------------------------------------------------------------------------------------------+\n",
      "|user_index|recommendations                                                                                                                                                                            |\n",
      "+----------+-------------------------------------------------------------------------------------------------------------------------------------------------------------------------------------------+\n",
      "|465318    |[{14, 0.7678317}, {203, 0.6505131}, {382, 0.6053493}, {144, 0.60093606}, {225, 0.5954106}, {110, 0.58883214}, {98, 0.5719674}, {56, 0.5696407}, {101, 0.5409819}, {60, 0.5167568}]         |\n",
      "|110010    |[{2, 0.627982}, {5, 0.61268586}, {30, 0.5916365}, {4, 0.54442954}, {33, 0.5059608}, {132, 0.45172083}, {8, 0.42094198}, {153, 0.3986631}, {138, 0.36849862}, {160, 0.3668062}]             |\n",
      "|61761     |[{19, 0.18215802}, {16, 0.18101315}, {24, 0.17798969}, {13, 0.17141908}, {10, 0.1677826}, {37, 0.15881993}, {1, 0.14486149}, {22, 0.14175677}, {7, 0.1400036}, {50, 0.13873787}]           |\n",
      "|162285    |[{17, 0.38474756}, {49, 0.32868767}, {0, 0.30574518}, {140, 0.29097384}, {4, 0.28478658}, {347, 0.28166986}, {125, 0.27667823}, {26, 0.27154303}, {89, 0.2642258}, {25, 0.25853568}]       |\n",
      "|35114     |[{85, 0.46850273}, {63, 0.45999902}, {226, 0.43177137}, {244, 0.40273392}, {241, 0.399371}, {4200, 0.39715305}, {268, 0.39508334}, {262, 0.39338902}, {171, 0.39017782}, {159, 0.38156322}]|\n",
      "+----------+-------------------------------------------------------------------------------------------------------------------------------------------------------------------------------------------+\n",
      "\n"
     ]
    },
    {
     "name": "stderr",
     "output_type": "stream",
     "text": [
      "                                                                                "
     ]
    }
   ],
   "source": [
    "# Generate top 10 recommendations for each selected user\n",
    "user_recs = als_model.recommendForUserSubset(test_users, 10)\n",
    "user_recs.show(truncate=False)"
   ]
  },
  {
   "cell_type": "code",
   "execution_count": 113,
   "id": "dadfe3fc-b0d8-4d27-8b67-fe6f78f4d3dc",
   "metadata": {},
   "outputs": [
    {
     "name": "stderr",
     "output_type": "stream",
     "text": [
      "25/06/13 05:29:35 WARN DAGScheduler: Broadcasting large task binary with size 44.4 MiB\n",
      "25/06/13 05:31:00 WARN DAGScheduler: Broadcasting large task binary with size 53.1 MiB\n",
      "25/06/13 05:31:46 WARN DAGScheduler: Broadcasting large task binary with size 59.3 MiB\n",
      "25/06/13 05:32:14 WARN DAGScheduler: Broadcasting large task binary with size 59.3 MiB\n",
      "[Stage 4985:>                                                       (0 + 1) / 1]"
     ]
    },
    {
     "name": "stdout",
     "output_type": "stream",
     "text": [
      "+----------+-------------------------------------------------------------------------------------------------------------------------------------------------------------------------------------------------------------------------------------------------------------------------------------------------------------------------------------------------------------------------------------------------------------------------------------------------------------------------------------------------------------------------------------------------------------------------------------------------------------------------------------------------------------------------------------------------------------------------------------------------------------------------------------------------------------------------------------------------------------------------------------------------------------------------------------------------------------------------------------------------------------------------------------------------------------------------------------------------------------------------------------------------------------------------------------------------------------------------------------------------------------------------------------------------------------------------------------------------------------------------------------------------------------------------------------------------------------------------------------------------------------------------------------------------------------------------------------------------------------------------------------------------------------------------------------------------------------------------------------------------------------------------------------------------------------------------------------------------------------------------------------------------+\n",
      "|user_index|actual_songs                                                                                                                                                                                                                                                                                                                                                                                                                                                                                                                                                                                                                                                                                                                                                                                                                                                                                                                                                                                                                                                                                                                                                                                                                                                                                                                                                                                                                                                                                                                                                                                                                                                                                                                                                                                                                                                                                     |\n",
      "+----------+-------------------------------------------------------------------------------------------------------------------------------------------------------------------------------------------------------------------------------------------------------------------------------------------------------------------------------------------------------------------------------------------------------------------------------------------------------------------------------------------------------------------------------------------------------------------------------------------------------------------------------------------------------------------------------------------------------------------------------------------------------------------------------------------------------------------------------------------------------------------------------------------------------------------------------------------------------------------------------------------------------------------------------------------------------------------------------------------------------------------------------------------------------------------------------------------------------------------------------------------------------------------------------------------------------------------------------------------------------------------------------------------------------------------------------------------------------------------------------------------------------------------------------------------------------------------------------------------------------------------------------------------------------------------------------------------------------------------------------------------------------------------------------------------------------------------------------------------------------------------------------------------------+\n",
      "|10        |[5287, 20690, 96616, 13914, 71859, 8589, 18086, 16983, 8705, 39847, 439, 55364, 22332, 98333, 70538, 87970, 16955, 38157, 64059, 23833, 36409, 1599, 2743, 664, 5618, 47295, 19331, 53861, 28234, 22140, 36627, 68535, 39557, 40875, 63742, 31573, 8410, 120577, 15091, 33931, 7972, 13, 104383, 7778, 2680, 3744, 7777, 2649, 28063, 14026, 63890, 31631, 73398, 43621, 128514, 13208, 34753, 11207, 25643, 19840, 908, 7078, 12189, 45797, 61022, 17490, 73720, 24908, 8259, 7968, 446, 16161, 1009, 9622, 37453, 7024, 2201, 21, 19288, 57556, 6053, 27442, 132855, 44713, 39780, 6274, 41674, 16519, 28879, 1407, 6326, 38531, 11586, 4017, 14227, 5977, 36032, 41234, 13096, 363, 19970, 15195, 45213, 736, 102113, 18885, 15318, 7204, 51075, 37322, 9775, 14921, 236, 76095, 3864, 20224, 29390, 29392, 1001, 16253, 6904, 1358, 2150, 49265, 26728, 22563, 26227, 203, 29440, 6713, 11746, 35055, 36303, 68896, 13092, 1442, 703, 4886, 18112, 99181, 21831, 4359, 18672, 39079, 15102, 43317, 47311, 10, 120880, 2629, 43409, 2153, 23765, 16000, 428, 58579, 62266, 151653, 49941, 7000, 2086, 21031, 6467, 995, 10002, 13059, 8787, 15549, 9932, 3822, 132880, 148935, 12295, 25124, 74283, 15233, 78969, 36609, 9989, 20436, 9852, 46504, 7463, 2785, 9845, 351, 3080, 283, 3370, 40004, 15940, 140762, 9865, 24675, 33421, 20631, 15171, 7707, 30038, 116973, 41227, 789, 5322, 1494, 9700, 11556, 60909, 7028, 9844, 78110, 54815, 490, 3158, 1324, 74619, 21564, 64232, 105061, 20283, 11781, 6575, 11366, 40002, 70234, 2997, 1040, 3001, 67796, 112970, 9448, 83510, 16950, 26663, 18189, 5057, 57639, 14299, 7041, 39255, 796, 78842, 17566, 8851, 58698, 29728, 30781, 13960, 30408, 12007, 24437, 14678, 40818, 21907, 397, 21392, 114567, 29859, 6787, 27349, 11300]                                                                                                        |\n",
      "|12        |[44320, 22205, 3551, 1345, 10875, 15925, 49022, 5798, 14597, 6748, 26225, 8076, 444, 57222, 1018, 10034, 112047, 6550, 14366, 78755, 10130, 23482, 199, 144815, 5710, 53986, 5192, 34853, 2172, 282, 71360, 10005, 7859, 7605, 22953, 18630, 23585, 26069, 190, 625, 31272, 92629, 7651, 1914, 4826, 6226, 38347, 2215, 16367, 90, 105008, 6910, 659, 25833, 7755, 11016, 28029, 23241, 9531, 7816, 48529, 667, 34743, 27, 1680, 134, 636, 5705, 55461, 361, 209, 10477, 117164, 86241, 41144, 39045, 45595, 2555, 7404, 71263, 69698, 10598, 3371, 6481, 12766, 7946, 8647, 3270, 10019, 64363, 14473, 101365, 47443, 4355, 5815, 35460, 226, 20, 7874, 6598, 107361, 8180, 1623, 14148, 894, 16079, 12646, 1145, 44167, 66766, 9518, 4126, 1088, 26426, 2613, 10944, 34532, 1032, 151711, 92, 68930, 27366, 3443, 33367, 99217, 2185, 123088, 6927, 992, 15208, 1678, 37434, 6190, 13311, 3998, 11666, 7163, 7797, 46561, 44675, 95949, 54234, 42546, 35333, 27576, 25120, 16119, 306, 1634, 981, 1374, 121430, 12444, 12211, 49575, 8395, 5065, 17125, 19724, 33263, 72293, 109026, 3860, 45455, 19421, 2140, 42829, 4630, 5434, 16557, 17836, 347, 1805, 28839, 17903, 11012, 21445, 6230, 64639, 40065, 29796, 22404, 8261, 32477, 27053, 93086, 3126, 12882, 36807, 2966, 16120, 18048, 113286, 4919, 4397, 1446, 19736, 1531, 140295, 1106, 46120, 1393, 1049, 1185, 7936, 1143, 15805, 6134, 5991, 648, 11580, 30603, 12256, 328, 8617, 67832, 27889, 97033, 511, 11332, 580, 34706, 51852, 108569, 50559, 1160, 18289, 105655, 20685, 764, 10112, 834, 48949, 25479, 311, 9657, 67393, 118982, 11345, 1949, 144322, 60759, 63165, 82928, 24289, 21813, 41394, 3725, 5821, 1759, 9550, 30370, 49367, 13895, 5314, 67197, 21288, 4052, 29951, 12815, 13553, 23451, 22637, 47997, 2406, 38711, 14887, 27528, 12038, 84484, 13397, 220, 9442, 25300, 89351, 3754, 17493, 8672, 79665, 67438]|\n",
      "|18        |[13726, 2398, 7016, 29991, 13466, 3360, 44812, 29768, 18000, 18087, 1486, 47815, 4737, 1283, 466, 7117, 2851, 4828, 68893, 14646, 59, 5, 30632, 2234, 29139, 3580, 70220, 1645, 51993, 3582, 7437, 31146, 18156, 8388, 60625, 93230, 5977, 8863, 938, 45307, 7931, 17030, 20161, 105, 3085, 4396, 34024, 8146, 50067, 100222, 33321, 6180, 11026, 3782, 50319, 54, 19783, 48870, 60680, 1039, 17780, 22603, 49469, 1826, 16673, 17627, 291, 24526, 725, 107748, 1784, 26331, 29782, 19256, 39773, 7022, 55519, 39199, 58104, 51418, 23956, 18164, 15865, 53063, 16743, 90642, 42680, 1059, 888, 36280, 7823, 2953, 25469, 27202, 26432, 20307, 16109, 74891, 8816, 17783, 38999, 23336, 1960, 643, 3124, 27219, 2318, 71163, 12167, 418, 2977, 18046, 1597, 71500, 1318, 20391, 43643, 43454, 95465, 17480, 2144, 6874, 16494, 18010, 31705, 63654, 10705, 8785, 21243, 65962, 128301, 66239, 5999, 1857, 23691, 25896, 9350, 4667, 2994, 22007, 9283, 2864, 3534, 2100, 58207, 107, 24012, 23248, 9674, 14273, 56214, 66378, 42729, 33705, 1832, 7172, 52994, 3881, 11684, 38945, 1765, 62566, 8359, 23480, 61471, 635, 33327, 17859, 1687, 11554, 20973, 7751, 3, 93337, 4531, 9090, 10713, 86317, 248, 106150, 1404, 5619, 18986, 12799, 10594, 45624, 66272, 24408, 17301, 8169, 15798, 61601, 16984, 43469, 3693, 100, 61555, 3868, 23002, 21740, 1609, 23229, 28124, 24611, 16538, 27181, 48731, 85346, 36743, 15382, 26216, 339, 4324, 34063, 48857, 18530, 11353, 13558, 10647, 7972, 34207, 25728, 39597, 45133, 61655, 13204, 7358, 11164, 23944, 45830, 7351, 52785, 39878, 57902, 4952, 174, 21224, 33139, 5607, 72302, 7494, 14365, 59248, 41553, 12075, 53095, 50264, 27060, 268, 12410, 9248, 35049, 14857, 6620, 36912, 5941, 4549, 7521, 42440, 54519]                                                                                                                          |\n",
      "|38        |[28590, 17328, 22319, 41079, 54477, 14351, 53095, 4178, 883, 14540, 12802, 4936, 2274, 1709, 34465, 28812, 14120, 9007, 24120, 1174, 3628, 26265, 77889, 6116, 9657, 46368, 6180, 4315, 27919, 2105, 44172, 50337, 2131, 1899, 18181, 28662, 49084, 438, 44297, 17553, 7557, 11485, 23095, 67975, 298, 110421, 7706, 14369, 1505, 363, 42731, 68587, 498, 11509, 1469, 29932, 5141, 12518, 14244, 23486, 109979, 12578, 61666, 1224, 12007, 15981, 10374, 55279, 91124, 9824, 293, 43495, 2215, 1014, 111472, 52634, 3110, 13096, 9692, 10338, 17768, 55921, 53, 1401, 15266, 32038, 5304, 18248, 24826, 1263, 29673, 13454, 1246, 20060, 2484, 13558, 5521, 1632, 3886, 30901, 943, 33297, 530, 2140, 905, 24312, 7651, 25411, 49520, 9734, 11309, 5808, 45010, 446, 9132, 10333, 51113, 10687, 3822, 7972, 26227, 30094, 1951, 78903, 2024, 9814, 118808, 15120, 25214, 73943, 101334, 18319, 5854, 11564, 789, 45482, 13780, 749, 23172, 35361, 16616, 70992, 31201, 4826, 4138, 2255, 7862, 373, 23780, 31887, 5966, 48652, 1500, 14767, 36, 35810, 5046, 3945, 4958, 35470, 796, 5279, 605, 3488, 1, 5911, 1860, 29922, 13215, 3913, 14375, 11858, 30172, 377, 1829, 1193, 33183, 24296, 12457, 8083, 4520, 13212, 16899, 106141, 8729, 96, 13997, 13077, 11818, 18189, 95807, 17605, 78320, 3811, 51908, 2032, 20133, 2108, 6207, 1348, 9, 12882, 4482, 2468, 20391, 11283, 19314, 385, 14820, 12353, 42999, 21082, 59655, 2780, 65589, 57700, 11988, 18857, 18869, 1777, 2186, 4640, 6414, 4577, 3874, 13066, 13132]                                                                                                                                                                                                                                                                                                                                                                      |\n",
      "|57        |[13159, 20354, 15071, 8920, 4249, 3695, 18999, 32920, 3415, 12913, 21077, 7350, 18745, 111522, 6880, 2121, 610, 4556, 20627, 17706, 44275, 15750, 10797, 4968, 21267, 6377, 11090, 29982, 27138, 7108, 67239, 19372, 12789, 30134, 3477, 14705, 1132, 11130, 35654, 2341, 9700, 25962, 23761, 6719, 21509, 30723, 2743, 10979, 2282, 44108, 37282, 9171, 40133, 11110, 31090, 26924, 4140, 17968, 8756, 3114, 2014, 22298, 2818, 7176, 62508, 21134, 12151, 44648, 24197, 2805, 46992, 20299, 51346, 11575, 1097, 18458, 2548, 32998, 20086, 2219, 21548, 2728, 6302, 9595, 40559, 31833, 6842, 42500, 15066, 29569, 1454, 17621, 8766, 3297, 35832, 4600, 34303, 15885, 26239, 4719, 35164, 2819, 8532, 13714, 7048, 18146, 16270, 59490, 342, 68410, 77713, 15493, 4436, 15708, 78218, 2115, 30169, 50547, 30284, 52182, 236, 22449, 48421, 16679, 38698, 8801, 32054, 18862, 9118, 247, 154, 17791, 20529, 41987, 110252, 9607, 20066, 48084, 22144, 5618, 37506, 20577, 55819, 13688, 37399, 22801, 4326, 22122, 4537, 12738, 386, 46364, 12502, 27266, 24677, 21350, 3137, 8426, 26832, 12914, 37953, 21938, 11859, 29917, 19738, 42247, 11238, 37153, 4574, 21819, 7127, 58993, 1870, 3008, 36268, 10159, 3799, 18895, 3502, 9235, 52984, 26978, 20490, 336, 15974, 130, 12591, 23407, 22869, 36681, 90875, 22496, 13101, 6768, 38213, 2753, 341, 21937]                                                                                                                                                                                                                                                                                                                                                                                                                                                                                                                                   |\n",
      "|64        |[338, 66532, 2230, 7591, 9930, 13899, 119047, 14049, 86584, 988, 6609, 18255, 18213, 6902, 1690, 5454, 2779, 2843, 15017, 21997, 25485, 65529, 557, 12248, 292, 21142, 37410, 749, 1860, 25501, 4131, 14516, 1832, 25114, 10682, 9657, 10955, 41606, 75169, 35350, 5614, 2534, 33306, 11943, 5935, 14019, 383, 34125, 15117, 14932, 1011, 377, 43649, 38948, 5803, 49701, 1309, 49400, 1310, 17506, 18340, 7767, 9840, 3760, 1536, 1181, 6406, 6610, 8673, 414, 4512, 659, 448, 80657, 4859, 3684, 6256, 960, 1920, 646, 1429, 2960, 11582, 739, 2602, 6906, 24599, 48688, 2879, 3073, 1365, 10580, 5464, 31783, 7698, 2903, 27920, 23988, 7484, 9313, 416, 4165, 29058, 21884, 3677, 41093, 6502, 6150, 693, 2525, 3138, 8969, 34657, 700, 30540, 994, 13187, 565, 3072, 29881, 2204, 6563, 17326, 3604, 56199, 89513, 34934, 2210, 44758, 123702, 6793, 13083, 4585, 4036, 167, 1147, 757, 2071, 8467, 9099, 64563, 940, 21831, 2833, 31392, 2378, 46821, 649, 19130, 75078, 6389, 7990, 686, 3318, 8836, 36958, 39106, 9381, 40771, 391, 32873, 1126, 4643, 17950, 3116, 352, 10267, 142, 35747, 2352, 226, 3470, 2608, 35265, 7119, 82151, 4261, 61321, 27504]                                                                                                                                                                                                                                                                                                                                                                                                                                                                                                                                                                                                                                                                                                                               |\n",
      "|70        |[3039, 443, 20781, 51738, 28916, 139729, 9840, 47935, 49105, 6324, 21939, 23717, 41858, 3155, 31397, 783, 14306, 23008, 738, 126622, 86614, 6875, 32269, 17147, 104959, 7646, 80570, 28492, 42537, 5866, 95441, 77304, 2145, 4537, 23236, 28032, 12646, 125144, 21943, 5541, 94260, 11388, 105202, 8402, 3949, 25549, 2564, 94362, 6179, 3972, 2645, 927, 121602, 124023, 25251, 84989, 113200, 4345, 32732, 29227, 24088, 142996, 100706, 70025, 51615, 19289, 2397, 155012, 139256, 149, 48703, 1241, 17417, 25892, 28663, 36097, 121712, 7976, 11129, 56, 14566, 15865, 12402, 131292, 54641, 4516, 1414, 26554, 148067, 2950, 16930, 3015, 19404, 7066, 9661, 5854, 42409, 11514, 2753, 68370, 14886, 48062, 553, 19962, 115890, 31731, 107987, 51767, 15150, 123392, 19730, 6636, 3947, 2091, 42780, 21387, 39546, 43544, 562, 28918, 14360, 107237, 96530, 48594, 10612, 79340, 41845, 2071, 3678, 14705, 143662, 6705, 33542, 58387, 30356, 26146, 44572, 41531, 21789, 34858, 6044, 27669, 141538, 41637, 661, 30303, 9140, 28804]                                                                                                                                                                                                                                                                                                                                                                                                                                                                                                                                                                                                                                                                                                                                                                                                                                                       |\n",
      "|77        |[66060, 98624, 35311, 6134, 96654, 132079, 9263, 5795, 1336, 7395, 7008, 944, 1411, 50572, 44391, 62536, 67353, 17640, 13046, 17474, 3429, 74191, 101, 2904, 303, 79154, 1307, 2, 6562, 3230, 615, 104353, 837, 3438, 9778, 5197, 159453, 35251, 1140, 4709, 40531, 1159, 4099, 44303, 25071, 11123, 1147, 774, 898, 71394, 39272, 8677, 2407, 55323, 21624, 350, 3888, 32583, 102595, 153110, 7040, 12554, 105693, 113871, 64126, 71945, 4532, 16677, 155275, 60776, 53657, 34390, 25430, 8583, 41716, 45552, 10831, 77829, 12250, 25437, 42773, 27325, 1026, 3902, 10668, 599, 24295, 49138, 55421, 76873, 10243, 3098, 40520, 4182, 33242, 39690, 26095, 514, 9391, 16730, 60644, 19561, 406, 1, 110, 12659, 5466, 4150, 420, 35280, 18752, 61275, 65361, 44434, 5538, 62492, 1319, 25293, 2001, 128281, 516, 65716, 5162, 13264, 11597, 1100, 1079, 3700, 94070, 3910, 11820, 2448, 521, 27015, 7942, 29672, 437, 72241, 67246, 1316, 27096, 2205, 69618, 3335, 112504, 1872, 7111, 46154, 68502, 106165, 1998, 152056, 4643, 4503, 4748, 18707, 27512, 478, 1447, 8818, 10206, 9, 105546, 80974, 10502, 5302, 117265, 25912, 24281, 3, 47740]                                                                                                                                                                                                                                                                                                                                                                                                                                                                                                                                                                                                                                                                                                                                               |\n",
      "|93        |[19459, 9527, 4977, 33173, 39854, 9022, 1263, 13583, 4958, 4102, 56834, 5210, 1282, 12701, 3590, 15326, 19921, 95529, 20039, 7384, 35053, 7682, 5134, 12027, 1472, 26907, 24889, 43185, 26281, 111058, 24144, 5245, 10276, 69680, 3556, 8815, 26479, 19483, 2013, 16478, 22151, 39834, 16147, 39558, 22593, 10732, 31380, 210, 15792, 13111, 41133, 26959, 49836, 6870, 30006, 91259, 12612, 26578, 19390, 534, 1782, 13289, 13500, 11084, 2982, 44754, 3035, 36912, 9738, 3336, 19898, 2825, 46205, 49802, 7702, 140105, 11274, 1039, 936, 1247, 9702, 749, 13881, 12784, 522, 1389, 699, 20495, 565, 29244, 4442, 6445, 2986, 44355, 39373, 35242, 32723, 8328, 1265, 707, 29193, 15173, 31552, 34776, 6241, 49463, 64299, 152972, 5426, 940, 83604, 12526, 151, 65872, 113210, 871, 96155, 39696, 35036, 24426, 10375, 6161, 27814, 31835, 119207, 5974, 694, 47049, 381, 23180, 151598, 176, 2704, 3058, 1810, 2102, 1327, 33999, 27185, 1713, 29018, 41505, 635, 157963, 995, 16674, 25380, 16285, 8800, 11760, 12573, 690, 60291, 18261, 10203, 8649, 37172, 61256, 25434, 5780, 36705, 19666, 2377, 10133, 12666, 2014, 1954, 9884, 64577, 2473, 39796, 43617, 363, 4165, 56225, 40498, 23611, 9106, 3239, 97443, 1973, 7373, 863, 4855, 2972, 429, 23917, 5238, 6132, 50354, 12991, 23191, 5725, 41929, 12119, 21407, 3054, 7392, 3674, 406, 9976, 3105, 53719, 11801, 7684, 1969, 3012, 3342, 1359, 24254]                                                                                                                                                                                                                                                                                                                                                                                                                                                                              |\n",
      "|94        |[102526, 8389, 7843, 891, 27260, 38830, 29600, 125367, 7540, 2226, 5394, 154, 9965, 10584, 3354, 37256, 6612, 23397, 14749, 73658, 3383, 38112, 8348, 23957, 27349, 92880, 12227, 92909, 12105, 18810, 34538, 49613, 12956, 144684, 4080, 3546, 3641, 7548, 3028, 34421, 18286, 31692, 4098, 11301, 61209, 8230, 82480, 15579, 2357, 6306, 46294, 7857, 3871, 153129, 173, 136199, 1742, 37545, 5143, 5422, 14226, 11244, 19129, 13985, 71283, 247, 4510, 51248, 17681, 8874, 4155, 1009, 9388, 2736, 24976, 90365, 34218, 7855, 10321, 45341, 29734, 20893, 23956, 69288, 32981, 160, 8593, 3616, 39590, 4113, 186, 20257, 8157, 7713, 25232, 28205, 43923, 26725, 147074, 729, 5220, 53050, 6838, 30113, 78, 8290, 113386, 84544, 121776, 94130, 38166, 14259, 15227, 4905, 6247, 35205, 7177, 606, 116012, 7097, 2101, 1262, 113289, 48110, 39967, 93058, 466, 45854, 56096, 5462, 11339, 17400, 56293, 25263, 78464, 15349, 2650, 18455, 33957, 610, 4361, 12892, 11071, 18722, 43905, 16613, 49242, 21038, 18776, 32847, 92358, 2322, 3589, 10864, 32509, 34201, 19106, 29874, 12666, 18269, 1523, 37921, 926, 24161, 28502, 15734, 11730, 49696, 52863, 96042, 11366, 154084, 15509, 178]                                                                                                                                                                                                                                                                                                                                                                                                                                                                                                                                                                                                                                                                                                  |\n",
      "|104       |[20664, 2997, 60475, 156, 2038, 5029, 7280, 1453, 5270, 15609, 2783, 5933, 4630, 50136, 3029, 6235, 7630, 3158, 3648, 1029, 67290, 8884, 6156, 39971, 1224, 94195, 1469, 9085, 21611, 120794, 4320, 41648, 438, 78691, 49895, 1814, 2257, 88651, 7577, 17506, 2, 38581, 19876, 7959, 2636, 2439, 51113, 20931, 1500, 20762, 25479, 3194, 7611, 20302, 1542, 583, 16673, 444, 627, 1682, 414, 638, 3325, 37204, 13696, 39200, 1271, 1180, 38417, 3953, 32864, 5753, 3023, 937, 1858, 53491, 6576, 3674, 6499, 14037, 4085, 11768, 2658, 7864, 2523, 5615, 1355, 11784, 742, 93, 38934, 625, 1168, 10332, 3286, 5553, 1709, 1177, 5668, 26409, 1161, 4615, 3655, 35323, 486, 2592, 7282, 10154, 40450, 42347, 15408, 2306, 58532, 10519, 2427, 16620, 884, 55245, 30778, 49883, 27588, 985, 275, 20253, 5758, 2088, 12967, 147540, 11729, 3228, 19303, 63230, 5528, 52205, 69252, 22325, 20608, 1756, 2347, 11830, 461, 5987, 5430, 3512, 58223, 1897, 526, 8, 102, 10314, 2254, 2810, 22660, 3071, 562, 150, 83697, 396, 14729, 28039, 10665, 67, 4294, 7321, 49603, 43166, 2032, 3502, 8055, 16971, 27097, 68801, 13745, 18670, 761, 6248, 6135, 439, 78746, 34548, 2966, 4144, 6672, 22946, 17022, 25006, 7905, 11364, 15852]                                                                                                                                                                                                                                                                                                                                                                                                                                                                                                                                                                                                                                                                   |\n",
      "|111       |[47637, 46894, 6230, 22769, 7550, 4454, 4476, 2244, 8961, 13888, 3917, 6470, 48514, 5047, 1531, 7588, 19149, 4204, 18180, 4163, 32041, 11928, 8472, 51117, 1975, 1682, 5212, 457, 940, 2282, 3137, 22320, 2481, 38654, 1927, 2557, 15051, 9830, 71, 11900, 12034, 82736, 63093, 1171, 855, 2900, 21042, 25296, 36080, 314, 27641, 5678, 7487, 108428, 12162, 42248, 37382, 2326, 4072, 46035, 5815, 38487, 5733, 1211, 679, 11632, 102045, 19150, 2676, 37284, 50777, 21233, 13818, 18941, 71053, 5099, 4220, 5439, 2998, 15906, 551, 106090, 6037, 3621, 3902, 2638, 809, 293, 80172, 1901, 78948, 73269, 31840, 4320, 28080, 1957, 7910, 2843, 20815, 10060, 4378, 2269, 105, 40761, 84384, 43252, 45621, 1309, 47795, 4780, 325, 2462, 3913, 3525, 81955, 393, 3634, 3309, 2713, 485, 26096, 2396, 18031, 2533, 1949, 52535, 24024, 31665, 3340, 11440, 19379, 12901, 16272, 23660, 38979, 74438, 121634, 25507, 3254, 39870, 2823, 1380, 30841, 12982, 5505, 2836, 969, 71354, 9627, 36579, 7296, 1369, 44989, 14157, 69550, 1324, 1254, 2746, 3476, 11067, 11400, 30922]                                                                                                                                                                                                                                                                                                                                                                                                                                                                                                                                                                                                                                                                                                                                                                                                                    |\n",
      "|138       |[14321, 6335, 14806, 2378, 53195, 72914, 21758, 15082, 7594, 2184, 4556, 19030, 9867, 4027, 7077, 1859, 9038, 43825, 19203, 30030, 11388, 4266, 18851, 5204, 63787, 5822, 27272, 28902, 24785, 54645, 14210, 8907, 19846, 2414, 117, 8987, 10930, 28599, 9043, 57543, 475, 17635, 9720, 1524, 20613, 68033, 24452, 7055, 3120, 88055, 101476, 1092, 25498, 9653, 46899, 3364, 2416, 16399, 17296, 12585, 8396, 14118, 11905, 141038, 8851, 8627, 9077, 5044, 5798, 228, 10743, 10, 94912, 24591, 98997, 26077, 37788, 58236, 12520, 15993, 59118, 128, 27884, 8778, 28072, 23339, 15459, 22670, 16813, 467, 873, 107466, 34572, 7305, 22795, 7625, 33072, 9555, 44282, 13671, 11120, 23820, 7624, 6853, 18462, 12777, 19901, 20347, 21162, 23718, 100904, 144895, 11121, 12949, 19783, 5966, 25446, 543, 14679, 126271, 24001, 10707, 66411, 2013, 31635, 6980, 30713, 60032, 50203, 11971, 15753, 39077, 2194, 13870, 21651, 1136, 24122, 4623, 19528, 30450, 12359, 18627, 18379, 13756, 23831, 25300, 10861, 24337, 42759, 18705, 37139, 4824, 11289, 28716, 23035, 69825, 18676, 33795, 12634, 6886, 5153]                                                                                                                                                                                                                                                                                                                                                                                                                                                                                                                                                                                                                                                                                                                                                                                   |\n",
      "|146       |[16143, 1872, 53321, 4336, 7296, 10637, 17836, 9174, 42959, 6082, 1309, 9727, 647, 31277, 16232, 3769, 4287, 16136, 21, 1951, 42252, 27604, 11895, 14822, 3355, 2427, 31281, 3024, 24299, 14767, 3788, 8448, 19687, 6647, 13915, 774, 2131, 6147, 2098, 1220, 4468, 16, 53789, 24558, 30167, 3011, 6468, 2939, 138192, 19583, 3381, 27055, 15011, 3370, 5886, 22567, 19, 17352, 14066, 558, 16444, 6452, 96553, 13815, 32745, 1059, 5092, 9435, 81377, 10965, 20216, 3, 533, 36604, 24277, 9373, 1347, 1145, 4769, 115, 2164, 2585, 894, 61480, 4757, 18903, 84001, 63410, 1728, 2134, 28465, 815, 46488, 4946, 4724, 20604, 8127, 16227, 3625, 38156, 1224, 2972, 17274, 9112, 2125, 4169, 352, 67400, 99809, 32046, 6316, 3604, 7358, 8668, 96866, 22593, 15792, 2219, 1276, 3953, 4082, 1467, 14620, 71510, 16395, 982, 6532, 42497, 524, 25230, 49562, 11342, 60977, 147598, 8587, 11023, 64346, 10441, 312, 4421, 64170, 14226, 6665, 3941, 870, 11006, 38815, 23625, 11862, 15908, 45427, 6280, 10795, 5567, 7691, 26201, 12140, 3889, 7665, 1516, 24037, 50485, 4773, 2740, 37941, 1164, 35707, 23650, 23952, 46078, 10722, 32338, 22338]                                                                                                                                                                                                                                                                                                                                                                                                                                                                                                                                                                                                                                                                                                                                                 |\n",
      "|151       |[43692, 4, 7826, 6319, 7990, 10126, 115, 13213, 39099, 762, 15237, 3139, 24436, 73983, 693, 110646, 64192, 12809, 4130, 1990, 4971, 842, 3420, 15828, 69945, 1051, 6209, 5756, 1242, 245, 7964, 4760, 527, 26522, 1352, 12931, 41726, 52317, 32027, 36779, 5864, 11378, 15640, 137332, 49474, 42488, 918, 4451, 1017, 2708, 44319, 12801, 2225, 45863, 4422, 36692, 7939, 13259, 261, 2428, 15790, 14005, 45745, 142465, 919, 1731, 3872, 37902, 54430, 9743, 3580, 32287, 75338, 44629, 25809, 13040, 9245, 55637, 24750, 2676, 1456, 2258, 5902, 385, 3898, 574, 66373, 8335, 11118, 21794, 3258, 7743, 1030, 6950, 68873, 9039, 20719, 26672, 1015, 12270, 15569, 122, 4780, 16, 14057, 80204, 515, 22186, 9051, 215, 18600, 44613, 23418, 1314, 1010, 6133, 1152, 83910, 15011, 696, 7201, 41394, 1305, 8373, 11665, 2692, 10162, 87548, 26, 13980, 9441, 58245, 85155, 4365, 8247, 22636, 96, 7747, 1225, 2729, 1309, 50385, 530, 411, 4797, 98768, 2172, 7827, 50589]                                                                                                                                                                                                                                                                                                                                                                                                                                                                                                                                                                                                                                                                                                                                                                                                                                                                                                                      |\n",
      "|176       |[2209, 26142, 23885, 2098, 45759, 38672, 71553, 2262, 91385, 22235, 11982, 297, 15367, 55728, 6284, 11470, 18586, 21579, 143436, 12771, 5383, 37563, 413, 10379, 63149, 229, 17367, 30294, 3121, 4971, 5719, 25984, 19364, 16769, 27794, 3401, 1577, 6964, 630, 10954, 2449, 20008, 11553, 1608, 69668, 7374, 4885, 2626, 9885, 26693, 69787, 57, 1243, 14699, 6664, 52212, 31603, 8354, 45531, 1792, 33482, 20224, 10683, 58323, 8914, 35426, 11322, 11404, 5350, 5089, 79685, 424, 26673, 30627, 4012, 1850, 5323, 9668, 3643, 117828, 33331, 20954, 13698, 6425, 9937, 1704, 44603, 1354, 71042, 2740, 69786, 113044, 41621, 30166, 16270, 11802, 4886, 17274, 3272, 56718, 3724, 11307, 77958, 4019, 3581, 15599, 137889, 60086, 6591, 2347, 48702, 2782, 6061, 2830, 22640, 10056, 19304, 1018, 8954, 58658, 10643, 155594, 21423, 12596, 5603, 3303, 3994, 40595, 11691, 547, 131, 10424, 1858, 8158, 26389, 54154, 129, 5891, 9233, 42357, 900, 470, 259, 6031, 2035, 13880, 1463, 28066, 6495, 16965, 27603]                                                                                                                                                                                                                                                                                                                                                                                                                                                                                                                                                                                                                                                                                                                                                                                                                                                                             |\n",
      "|180       |[66324, 15553, 75371, 11913, 15177, 93559, 68926, 59773, 3378, 4613, 5661, 595, 44251, 26173, 69889, 981, 115127, 23648, 3840, 1179, 42594, 28304, 5712, 34515, 14264, 44225, 54133, 45679, 627, 7286, 1988, 7684, 38022, 69672, 1640, 7481, 14032, 98755, 45025, 11549, 3221, 3219, 69140, 134432, 78019, 34541, 21737, 14337, 9000, 7314, 66566, 11975, 6420, 33403, 18046, 4716, 57754, 6718, 76697, 77382, 20226, 13903, 38434, 7028, 32519, 150, 878, 16671, 469, 46924, 42125, 2834, 118, 216, 86547, 3121, 43348, 10815, 8866, 365, 105, 2838, 3202, 4030, 17202, 33428, 713, 26611, 113885, 24972, 9956, 13305, 44929, 37447, 128789, 9240, 55455, 4599, 85531, 33176, 73732, 25324, 73918, 73948, 65714, 117476, 77837, 52754, 19057, 94, 3431, 43739, 22731, 82956, 832, 4262, 68696, 27094, 12185, 35316, 46276, 12291, 15900, 9350, 6595, 22213, 6203, 964, 21258, 54314, 53874, 1218, 122451, 1449, 9519, 14801, 2171, 8296, 24977, 463, 59738, 27901, 2344, 34148, 5028, 695, 10375, 30003, 11934, 5016, 4572, 81907, 818, 37013, 7204, 4093, 64839, 36762, 42923, 8220, 24134, 51740]                                                                                                                                                                                                                                                                                                                                                                                                                                                                                                                                                                                                                                                                                                                                                                                             |\n",
      "|190       |[33930, 12513, 615, 40, 1284, 6018, 33523, 23677, 1121, 14221, 3265, 8336, 115021, 7661, 3497, 2115, 8842, 2105, 12467, 546, 18099, 4253, 153979, 75, 5094, 2019, 24165, 176, 5770, 7350, 22810, 77411, 25760, 7403, 7187, 134391, 492, 82478, 1865, 15123, 26806, 45830, 28126, 889, 5320, 803, 2970, 9370, 2134, 2937, 511, 4003, 46998, 680, 6290, 2697, 157677, 21828, 56408, 7648, 2163, 18775, 10583, 51, 3865, 134951, 55402, 7145, 18086, 24150, 2017, 94, 8458, 33547, 73387, 1366, 6479, 3662, 208, 5067, 596, 3187, 2700, 15881, 14958, 50414, 3513, 21751, 10818, 56602, 50175, 7270, 16385, 274, 36296, 3930, 3428, 2004, 7058, 26364, 9134, 289, 19649, 10403, 1583, 39539, 26176, 45294, 52344, 1178, 27940, 1807, 1791, 6062, 8517, 336, 33090, 5001, 15263, 3889, 282, 1711, 19457, 7391, 6781, 39004, 12577, 5463, 47261, 24028, 3160, 32, 34, 649, 2289, 2082, 1728, 13439, 20837, 32115, 1006, 48727, 16, 15436, 45680, 8481, 13400, 95858, 732, 7558, 9552, 12306, 243, 180, 14256, 12408, 428, 891, 19670]                                                                                                                                                                                                                                                                                                                                                                                                                                                                                                                                                                                                                                                                                                                                                                                                                                                                 |\n",
      "|195       |[2610, 28249, 30084, 19584, 6498, 2976, 11645, 246, 40161, 71971, 540, 49747, 20735, 159244, 2327, 39426, 90803, 3164, 69596, 9881, 2159, 42856, 2685, 8759, 59811, 47035, 1290, 8754, 797, 111281, 7378, 63470, 5094, 32398, 1951, 315, 159387, 29592, 2276, 16670, 51979, 13898, 15344, 47421, 7997, 4551, 5147, 21490, 11834, 8868, 1796, 31036, 1184, 1738, 28290, 13342, 67445, 3646, 166, 29448, 12191, 12385, 108784, 3451, 48168, 38, 25132, 48244, 63032, 92, 27999, 50829, 441, 10956, 3896, 7871, 64888, 1298, 7707, 100752, 6988, 359, 6926, 27726, 328, 4402, 32911, 32381, 20450, 20929, 152119, 82738, 183, 10862, 320, 4782, 9, 36368, 60014, 112950, 23499, 88676, 31019, 63895, 74, 17892, 55943, 30219, 138163, 858, 22857, 29558, 4426, 98442, 512, 1455, 4302, 105853, 14664, 30738, 16515, 58652, 1, 7069, 1992, 30883, 69181, 21815, 40606, 67067, 21547, 34062, 93, 48199, 207, 773, 58133, 41860, 6996, 71997, 52111, 791, 1709, 24359, 32005, 15340, 12870, 13560, 3643, 4602, 50426, 40072]                                                                                                                                                                                                                                                                                                                                                                                                                                                                                                                                                                                                                                                                                                                                                                                                                                                                           |\n",
      "|218       |[4450, 1790, 80070, 4577, 1490, 61204, 2536, 2841, 896, 861, 2009, 46518, 5196, 60074, 59373, 5563, 2457, 49405, 1242, 3168, 884, 29089, 53218, 93608, 3814, 3272, 16234, 22487, 1514, 4785, 78033, 3924, 11053, 6625, 13922, 14628, 11664, 41374, 21665, 6509, 4072, 17965, 14563, 2955, 5805, 650, 5416, 2810, 5779, 552, 30193, 2925, 4987, 6404, 14977, 55732, 2449, 9394, 413, 38137, 1941, 34397, 5291, 4978, 22382, 14764, 8354, 39020, 1255, 137362, 32226, 9513, 458, 8419, 5363, 1986, 37894, 53248, 1769, 73933, 1779, 939, 54942, 19380, 40061, 5119, 56275, 53388, 14065, 1297, 8356, 31040, 6265, 1007, 3570, 21721, 630, 1568, 13259, 4852, 1553, 77343, 29585, 4728, 4976, 5591, 9351, 9517, 54216, 19116, 4256, 47394, 4971, 2651, 13905, 25804, 3204, 71574, 1854, 151179, 1198, 12849, 10079, 79222, 4039, 4383, 58641, 34960, 18308, 13831, 918, 5601, 764, 17376, 24209, 135834, 547, 1251, 20099, 1883, 218, 13452, 5711, 791, 2408, 5883, 1071, 21021, 4203, 37054, 402, 79450, 4895, 13018, 246, 150140, 22966, 3626, 731, 14088, 118688]                                                                                                                                                                                                                                                                                                                                                                                                                                                                                                                                                                                                                                                                                                                                                                                                                                |\n",
      "+----------+-------------------------------------------------------------------------------------------------------------------------------------------------------------------------------------------------------------------------------------------------------------------------------------------------------------------------------------------------------------------------------------------------------------------------------------------------------------------------------------------------------------------------------------------------------------------------------------------------------------------------------------------------------------------------------------------------------------------------------------------------------------------------------------------------------------------------------------------------------------------------------------------------------------------------------------------------------------------------------------------------------------------------------------------------------------------------------------------------------------------------------------------------------------------------------------------------------------------------------------------------------------------------------------------------------------------------------------------------------------------------------------------------------------------------------------------------------------------------------------------------------------------------------------------------------------------------------------------------------------------------------------------------------------------------------------------------------------------------------------------------------------------------------------------------------------------------------------------------------------------------------------------------+\n",
      "only showing top 20 rows\n",
      "\n"
     ]
    },
    {
     "name": "stderr",
     "output_type": "stream",
     "text": [
      "                                                                                "
     ]
    }
   ],
   "source": [
    "from pyspark.sql.functions import collect_list\n",
    "\n",
    "# Actual songs played by users in the test set\n",
    "actual_plays = test_df.groupBy(\"user_index\").agg(collect_list(\"song_index\").alias(\"actual_songs\"))\n",
    "actual_plays.show(truncate=False)"
   ]
  },
  {
   "cell_type": "code",
   "execution_count": 114,
   "id": "a3960913-dd22-4830-b1be-c12a2720f6b4",
   "metadata": {},
   "outputs": [
    {
     "name": "stderr",
     "output_type": "stream",
     "text": [
      "25/06/13 05:36:54 WARN DAGScheduler: Broadcasting large task binary with size 38.3 MiB\n",
      "25/06/13 05:38:13 WARN DAGScheduler: Broadcasting large task binary with size 53.1 MiB\n",
      "25/06/13 05:39:44 WARN DAGScheduler: Broadcasting large task binary with size 44.4 MiB\n",
      "25/06/13 05:41:05 WARN DAGScheduler: Broadcasting large task binary with size 53.1 MiB\n",
      "25/06/13 05:41:51 WARN DAGScheduler: Broadcasting large task binary with size 53.1 MiB\n",
      "25/06/13 05:42:40 WARN DAGScheduler: Broadcasting large task binary with size 59.3 MiB\n",
      "25/06/13 05:42:59 WARN DAGScheduler: Broadcasting large task binary with size 53.1 MiB\n",
      "25/06/13 05:43:19 WARN DAGScheduler: Broadcasting large task binary with size 59.4 MiB\n",
      "25/06/13 05:43:39 WARN DAGScheduler: Broadcasting large task binary with size 59.4 MiB\n",
      "25/06/13 05:43:41 WARN DAGScheduler: Broadcasting large task binary with size 59.3 MiB\n",
      "25/06/13 05:43:44 WARN DAGScheduler: Broadcasting large task binary with size 59.3 MiB\n",
      "25/06/13 05:43:46 WARN DAGScheduler: Broadcasting large task binary with size 59.3 MiB\n",
      "[Stage 5232:>                                                       (0 + 4) / 4]"
     ]
    },
    {
     "name": "stdout",
     "output_type": "stream",
     "text": [
      "+----------+--------------------------------------------------------------------------------------------------------------------------------------------------------------------------------------------+--------------------------------------------------------------------------------------------------------------------------------------------------------------------------------------------------------------------------------------------------------------------+\n",
      "|user_index|recommendations                                                                                                                                                                             |actual_songs                                                                                                                                                                                                                                                        |\n",
      "+----------+--------------------------------------------------------------------------------------------------------------------------------------------------------------------------------------------+--------------------------------------------------------------------------------------------------------------------------------------------------------------------------------------------------------------------------------------------------------------------+\n",
      "|25886     |[{27, 1.1160134}, {8, 1.0253081}, {67, 0.9945894}, {26, 0.96543854}, {9, 0.9214847}, {68, 0.8906749}, {38, 0.8784693}, {91, 0.8704344}, {152, 0.85769343}, {14, 0.8307616}]                 |[187, 285, 678, 45034, 895, 1281, 258, 6346, 12483, 26172, 55135, 117, 12462, 7100, 90559, 3596, 2789, 8, 134961, 76, 49273, 103, 790, 4221, 22748, 112582, 293, 14970, 12647, 4048, 2479, 22887, 410, 64, 26170, 486, 130, 2960, 695, 718, 18792, 5352, 43840, 821]|\n",
      "|35114     |[{85, 0.46850273}, {63, 0.45999902}, {226, 0.43177137}, {244, 0.40273392}, {241, 0.399371}, {4200, 0.39715305}, {268, 0.39508334}, {262, 0.39338902}, {171, 0.39017782}, {159, 0.38156322}] |[62099, 61393, 2774, 11453, 436, 7440, 7197, 7024, 27327, 355, 6659, 37, 3226, 234, 11296, 149, 10048, 278, 6869, 72, 7172, 60, 161, 53531, 127, 13621, 1253, 1399, 21027, 2108]                                                                                    |\n",
      "|56308     |[{1, 0.56901944}, {0, 0.5482944}, {3, 0.4761895}, {4, 0.43069255}, {6, 0.42296624}, {7, 0.42218712}, {15, 0.41574517}, {17, 0.35612345}, {20, 0.34692758}, {41, 0.3447061}]                 |[6834, 63918, 170, 3417, 5966, 20638, 1488, 232, 86, 167, 9307, 5586, 7819, 82, 3865, 97010, 9464, 6701, 28094, 41510, 280, 2817, 68445, 4838, 56324, 225]                                                                                                          |\n",
      "|104269    |[{56, 0.17680088}, {60, 0.16174959}, {92, 0.1490469}, {1, 0.14382052}, {53, 0.13850538}, {148, 0.13788888}, {41, 0.13686894}, {71, 0.1358393}, {110, 0.1356031}, {166, 0.13329306}]         |[198, 1074, 1068, 564, 1098, 149477, 291, 190, 1819, 22779, 166, 95820, 48, 11001, 56441, 333, 3854]                                                                                                                                                                |\n",
      "|465326    |[{4, 0.020460915}, {0, 0.01995957}, {17, 0.019642668}, {1, 0.018541688}, {107, 0.018401511}, {49, 0.018240888}, {14, 0.016835047}, {89, 0.016416648}, {176, 0.015837053}, {331, 0.01526919}]|[32346, 42536, 27270, 26502, 84885, 8847, 11426, 36006, 18474, 36298, 81920, 32052, 28129, 81035, 22393]                                                                                                                                                            |\n",
      "+----------+--------------------------------------------------------------------------------------------------------------------------------------------------------------------------------------------+--------------------------------------------------------------------------------------------------------------------------------------------------------------------------------------------------------------------------------------------------------------------+\n",
      "\n"
     ]
    },
    {
     "name": "stderr",
     "output_type": "stream",
     "text": [
      "                                                                                "
     ]
    }
   ],
   "source": [
    "comparison = user_recs.join(actual_plays, on=\"user_index\")\n",
    "comparison.select(\"user_index\", \"recommendations\", \"actual_songs\").show(truncate=False)"
   ]
  },
  {
   "cell_type": "code",
   "execution_count": 116,
   "id": "dbcfadc9-4f96-4290-85c6-556b07ccc1cd",
   "metadata": {},
   "outputs": [],
   "source": [
    "from pyspark.sql.functions import collect_set\n",
    "\n",
    "# Step 1: Generate recommendations and collect test data\n",
    "rec_k = 10\n",
    "user_recs = als_model.recommendForAllUsers(rec_k)\n",
    "test_actual = test_df.groupBy(\"user_index\") \\\n",
    "    .agg(collect_set(\"song_index\").alias(\"actual_songs\"))"
   ]
  },
  {
   "cell_type": "code",
   "execution_count": 119,
   "id": "5789efad-1a65-4a8f-b3fb-366502bb692a",
   "metadata": {},
   "outputs": [],
   "source": [
    "from builtins import min\n",
    "\n",
    "# Step 2: Join predictions and actuals\n",
    "eval_df = user_recs.join(test_actual, \"user_index\")\n",
    "\n",
    "# Step 3: Define evaluator functions (done after .collect())\n",
    "import numpy as np\n",
    "\n",
    "def precision_at_k(pred, actual, k=10):\n",
    "    pred_k = [x[0] for x in pred[:k]]\n",
    "    return len(set(pred_k) & set(actual)) / k\n",
    "\n",
    "def dcg(recommended, actual):\n",
    "    return sum([(1 / np.log2(i+2)) if recommended[i][0] in actual else 0 for i in range(len(recommended))])\n",
    "\n",
    "def idcg(actual, k=10):\n",
    "    return sum([1 / np.log2(i+2) for i in range(__builtins__.min(len(actual), k))])\n",
    "\n",
    "def ndcg_at_k(pred, actual, k=10):\n",
    "    return dcg(pred[:k], actual) / idcg(actual, k) if actual else 0\n",
    "\n",
    "def average_precision(pred, actual, k=10):\n",
    "    pred_k = [x[0] for x in pred[:k]]\n",
    "    hits, sum_prec = 0, 0\n",
    "    for i, p in enumerate(pred_k):\n",
    "        if p in actual:\n",
    "            hits += 1\n",
    "            sum_prec += hits / (i + 1)\n",
    "    return sum_prec / len(actual) if actual else 0"
   ]
  },
  {
   "cell_type": "code",
   "execution_count": 120,
   "id": "bfa7f7f9-cdd9-40b9-9ddd-62c5c61dea9f",
   "metadata": {},
   "outputs": [
    {
     "name": "stderr",
     "output_type": "stream",
     "text": [
      "25/06/13 06:02:40 WARN DAGScheduler: Broadcasting large task binary with size 59.3 MiB\n",
      "25/06/13 06:08:03 WARN DAGScheduler: Broadcasting large task binary with size 59.3 MiB\n",
      "25/06/13 06:11:20 WARN DAGScheduler: Broadcasting large task binary with size 44.4 MiB\n",
      "25/06/13 06:12:41 WARN DAGScheduler: Broadcasting large task binary with size 53.1 MiB\n",
      "25/06/13 06:13:28 WARN DAGScheduler: Broadcasting large task binary with size 59.3 MiB\n",
      "25/06/13 06:13:59 WARN DAGScheduler: Broadcasting large task binary with size 59.4 MiB\n",
      "                                                                                "
     ]
    }
   ],
   "source": [
    "# Step 4: Evaluate\n",
    "results = eval_df.select(\"recommendations\", \"actual_songs\").collect()\n",
    "\n",
    "precisions, ndcgs, maps = [], [], []\n",
    "for row in results:\n",
    "    pred, actual = row[\"recommendations\"], row[\"actual_songs\"]\n",
    "    precisions.append(precision_at_k(pred, actual))\n",
    "    ndcgs.append(ndcg_at_k(pred, actual))\n",
    "    maps.append(average_precision(pred, actual))"
   ]
  },
  {
   "cell_type": "code",
   "execution_count": 121,
   "id": "be85364b-9b67-4e1f-af53-ef592cf5f698",
   "metadata": {},
   "outputs": [
    {
     "name": "stdout",
     "output_type": "stream",
     "text": [
      "Precision@10: 0.0319\n",
      "NDCG@10: 0.0421\n",
      "MAP@10: 0.0142\n"
     ]
    }
   ],
   "source": [
    "print(f\"Precision@10: {np.mean(precisions):.4f}\")\n",
    "print(f\"NDCG@10: {np.mean(ndcgs):.4f}\")\n",
    "print(f\"MAP@10: {np.mean(maps):.4f}\")"
   ]
  },
  {
   "cell_type": "code",
   "execution_count": null,
   "id": "53471705-ec5a-47a7-a492-888a754bc500",
   "metadata": {},
   "outputs": [],
   "source": []
  },
  {
   "cell_type": "code",
   "execution_count": null,
   "id": "02e85b23-0733-467b-863a-5eede1d463b0",
   "metadata": {},
   "outputs": [],
   "source": []
  },
  {
   "cell_type": "code",
   "execution_count": null,
   "id": "7feffaa4-50d8-42af-a060-77814df1c13a",
   "metadata": {},
   "outputs": [],
   "source": [
    "# Run this cell before closing the notebook or kill your spark application by hand using the link in the Spark UI\n",
    "\n",
    "# stop_spark()"
   ]
  },
  {
   "cell_type": "code",
   "execution_count": null,
   "id": "e8190d74-5427-4c11-8177-4e3e99f42b75",
   "metadata": {},
   "outputs": [],
   "source": []
  },
  {
   "cell_type": "code",
   "execution_count": null,
   "id": "72c66bd5-b165-4719-86d9-1b7bd478e214",
   "metadata": {},
   "outputs": [],
   "source": []
  }
 ],
 "metadata": {
  "kernelspec": {
   "display_name": "Python 3 (ipykernel)",
   "language": "python",
   "name": "python3"
  },
  "language_info": {
   "codemirror_mode": {
    "name": "ipython",
    "version": 3
   },
   "file_extension": ".py",
   "mimetype": "text/x-python",
   "name": "python",
   "nbconvert_exporter": "python",
   "pygments_lexer": "ipython3",
   "version": "3.8.10"
  }
 },
 "nbformat": 4,
 "nbformat_minor": 5
}
